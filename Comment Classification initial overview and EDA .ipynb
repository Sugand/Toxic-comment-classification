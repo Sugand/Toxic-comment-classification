{
 "cells": [
  {
   "cell_type": "markdown",
   "metadata": {},
   "source": [
    "# TOXIC COMMENT CLASSIFICATION"
   ]
  },
  {
   "cell_type": "markdown",
   "metadata": {},
   "source": [
    "Discussing things you care about can be difficult. The threat of abuse and harassment online means that many people stop expressing themselves and give up on seeking different opinions. Platforms struggle to effectively facilitate conversations, leading many communities to limit or completely shut down user comments.The Conversation AI team, a research initiative founded by Jigsaw and Google (both a part of Alphabet) are working on tools to help improve online conversation.One area of focus is the study of negative online behaviors, like toxic comments (i.e. comments that are rude, disrespectful or otherwise likely to make someone leave a discussion).This kernel serves as a platform to express my analysis approach for the Toxic comment classification."
   ]
  },
  {
   "cell_type": "markdown",
   "metadata": {},
   "source": [
    "This entire analysis is divided into 2 parts:\n",
    "PART 1: Initial level analysis and EDA\n",
    "PART 2: Data modeling and prediction\n",
    "\n",
    "So let's get started,"
   ]
  },
  {
   "cell_type": "markdown",
   "metadata": {},
   "source": [
    "# TOXIC COMMENT CLASSIFICATION PART 1"
   ]
  },
  {
   "cell_type": "code",
   "execution_count": 1,
   "metadata": {},
   "outputs": [],
   "source": [
    "setwd('C:/Users/sugand1994/Downloads')"
   ]
  },
  {
   "cell_type": "code",
   "execution_count": 2,
   "metadata": {},
   "outputs": [
    {
     "data": {
      "text/html": [
       "'C:/Users/sugand1994/Downloads'"
      ],
      "text/latex": [
       "'C:/Users/sugand1994/Downloads'"
      ],
      "text/markdown": [
       "'C:/Users/sugand1994/Downloads'"
      ],
      "text/plain": [
       "[1] \"C:/Users/sugand1994/Downloads\""
      ]
     },
     "metadata": {},
     "output_type": "display_data"
    }
   ],
   "source": [
    "getwd()"
   ]
  },
  {
   "cell_type": "code",
   "execution_count": 3,
   "metadata": {},
   "outputs": [
    {
     "name": "stderr",
     "output_type": "stream",
     "text": [
      "Loading required package: NLP\n",
      "Loading required package: RColorBrewer\n",
      "\n",
      "Attaching package: 'dplyr'\n",
      "\n",
      "The following objects are masked from 'package:data.table':\n",
      "\n",
      "    between, first, last\n",
      "\n",
      "The following objects are masked from 'package:stats':\n",
      "\n",
      "    filter, lag\n",
      "\n",
      "The following objects are masked from 'package:base':\n",
      "\n",
      "    intersect, setdiff, setequal, union\n",
      "\n",
      "\n",
      "Attaching package: 'ggplot2'\n",
      "\n",
      "The following object is masked from 'package:NLP':\n",
      "\n",
      "    annotate\n",
      "\n"
     ]
    }
   ],
   "source": [
    "#list of packages required\n",
    "library(tm)\n",
    "library(SnowballC)\n",
    "library(wordcloud)\n",
    "library(data.table)\n",
    "library(dplyr)\n",
    "library(ggplot2)\n",
    "library(tidyr)\n",
    "library(tidytext)"
   ]
  },
  {
   "cell_type": "markdown",
   "metadata": {},
   "source": [
    "# DATA PREPROCESSING AND CLEANING"
   ]
  },
  {
   "cell_type": "code",
   "execution_count": 6,
   "metadata": {},
   "outputs": [
    {
     "name": "stdout",
     "output_type": "stream",
     "text": [
      "\r",
      "Read 0.0% of 227422 rows\r",
      "Read 44.0% of 227422 rows\r",
      "Read 159571 rows and 8 (of 8) columns from 0.064 GB file in 00:00:05\n"
     ]
    }
   ],
   "source": [
    "#so now let's load the dataset's and have a peek into it\n",
    "comment <- fread('comment.train.csv')"
   ]
  },
  {
   "cell_type": "code",
   "execution_count": 7,
   "metadata": {},
   "outputs": [
    {
     "data": {
      "text/html": [
       "<table>\n",
       "<thead><tr><th scope=col>id</th><th scope=col>comment_text</th><th scope=col>toxic</th><th scope=col>severe_toxic</th><th scope=col>obscene</th><th scope=col>threat</th><th scope=col>insult</th><th scope=col>identity_hate</th></tr></thead>\n",
       "<tbody>\n",
       "\t<tr><td>0000997932d777bf                                                                                                                                                                                                                                                                                                                                                                                                                                                                                                                                                                                                                                        </td><td>Explanation\n",
       "Why the edits made under my username Hardcore Metallica Fan were reverted? They weren't vandalisms, just closure on some GAs after I voted at New York Dolls FAC. And please don't remove the template from the talk page since I'm retired now.89.205.38.27                                                                                                                                                                                                                                                                                                                                                                               </td><td>0                                                                                                                                                                                                                                                                                                                                                                                                                                                                                                                                                                                                                                                       </td><td>0                                                                                                                                                                                                                                                                                                                                                                                                                                                                                                                                                                                                                                                       </td><td>0                                                                                                                                                                                                                                                                                                                                                                                                                                                                                                                                                                                                                                                       </td><td>0                                                                                                                                                                                                                                                                                                                                                                                                                                                                                                                                                                                                                                                       </td><td>0                                                                                                                                                                                                                                                                                                                                                                                                                                                                                                                                                                                                                                                       </td><td>0                                                                                                                                                                                                                                                                                                                                                                                                                                                                                                                                                                                                                                                       </td></tr>\n",
       "\t<tr><td>000103f0d9cfb60f                                                                                                                                                                                                                                                                                                                                                                                                                                                                                                                                                                                                                                        </td><td>D'aww! He matches this background colour I'm seemingly stuck with. Thanks.  (talk) 21:51, January 11, 2016 (UTC)                                                                                                                                                                                                                                                                                                                                                                                                                                                                                                                                        </td><td>0                                                                                                                                                                                                                                                                                                                                                                                                                                                                                                                                                                                                                                                       </td><td>0                                                                                                                                                                                                                                                                                                                                                                                                                                                                                                                                                                                                                                                       </td><td>0                                                                                                                                                                                                                                                                                                                                                                                                                                                                                                                                                                                                                                                       </td><td>0                                                                                                                                                                                                                                                                                                                                                                                                                                                                                                                                                                                                                                                       </td><td>0                                                                                                                                                                                                                                                                                                                                                                                                                                                                                                                                                                                                                                                       </td><td>0                                                                                                                                                                                                                                                                                                                                                                                                                                                                                                                                                                                                                                                       </td></tr>\n",
       "\t<tr><td>000113f07ec002fd                                                                                                                                                                                                                                                                                                                                                                                                                                                                                                                                                                                                                                        </td><td>Hey man, I'm really not trying to edit war. It's just that this guy is constantly removing relevant information and talking to me through edits instead of my talk page. He seems to care more about the formatting than the actual info.                                                                                                                                                                                                                                                                                                                                                                                                               </td><td>0                                                                                                                                                                                                                                                                                                                                                                                                                                                                                                                                                                                                                                                       </td><td>0                                                                                                                                                                                                                                                                                                                                                                                                                                                                                                                                                                                                                                                       </td><td>0                                                                                                                                                                                                                                                                                                                                                                                                                                                                                                                                                                                                                                                       </td><td>0                                                                                                                                                                                                                                                                                                                                                                                                                                                                                                                                                                                                                                                       </td><td>0                                                                                                                                                                                                                                                                                                                                                                                                                                                                                                                                                                                                                                                       </td><td>0                                                                                                                                                                                                                                                                                                                                                                                                                                                                                                                                                                                                                                                       </td></tr>\n",
       "\t<tr><td>0001b41b1c6bb37e                                                                                                                                                                                                                                                                                                                                                                                                                                                                                                                                                                                                                                        </td><td>\"\"\n",
       "More\n",
       "I can't make any real suggestions on improvement - I wondered if the section statistics should be later on, or a subsection of \"\"\"\"types of accidents\"\"\"\"  -I think the references may need tidying so that they are all in the exact same format ie date format etc. I can do that later on, if no-one else does first - if you have any preferences for formatting style on references or want to do it yourself please let me know.\n",
       "\n",
       "There appears to be a backlog on articles for review so I guess there may be a delay until a reviewer turns up. It's listed in the relevant form eg Wikipedia:Good_article_nominations#Transport  \"\"</td><td>0                                                                                                                                                                                                                                                                                                                                                                                                                                                                                                                                                                                                                                                       </td><td>0                                                                                                                                                                                                                                                                                                                                                                                                                                                                                                                                                                                                                                                       </td><td>0                                                                                                                                                                                                                                                                                                                                                                                                                                                                                                                                                                                                                                                       </td><td>0                                                                                                                                                                                                                                                                                                                                                                                                                                                                                                                                                                                                                                                       </td><td>0                                                                                                                                                                                                                                                                                                                                                                                                                                                                                                                                                                                                                                                       </td><td>0                                                                                                                                                                                                                                                                                                                                                                                                                                                                                                                                                                                                                                                       </td></tr>\n",
       "\t<tr><td>0001d958c54c6e35                                                                                                                                                                                                                                                                                                                                                                                                                                                                                                                                                                                                                                        </td><td>You, sir, are my hero. Any chance you remember what page that's on?                                                                                                                                                                                                                                                                                                                                                                                                                                                                                                                                                                                     </td><td>0                                                                                                                                                                                                                                                                                                                                                                                                                                                                                                                                                                                                                                                       </td><td>0                                                                                                                                                                                                                                                                                                                                                                                                                                                                                                                                                                                                                                                       </td><td>0                                                                                                                                                                                                                                                                                                                                                                                                                                                                                                                                                                                                                                                       </td><td>0                                                                                                                                                                                                                                                                                                                                                                                                                                                                                                                                                                                                                                                       </td><td>0                                                                                                                                                                                                                                                                                                                                                                                                                                                                                                                                                                                                                                                       </td><td>0                                                                                                                                                                                                                                                                                                                                                                                                                                                                                                                                                                                                                                                       </td></tr>\n",
       "\t<tr><td>00025465d4725e87                                                                                                                                                                                                                                                                                                                                                                                                                                                                                                                                                                                                                                        </td><td>\"\"\n",
       "\n",
       "Congratulations from me as well, use the tools well. Â Â· talk \"\"                                                                                                                                                                                                                                                                                                                                                                                                                                                                                                                                                                                 </td><td>0                                                                                                                                                                                                                                                                                                                                                                                                                                                                                                                                                                                                                                                       </td><td>0                                                                                                                                                                                                                                                                                                                                                                                                                                                                                                                                                                                                                                                       </td><td>0                                                                                                                                                                                                                                                                                                                                                                                                                                                                                                                                                                                                                                                       </td><td>0                                                                                                                                                                                                                                                                                                                                                                                                                                                                                                                                                                                                                                                       </td><td>0                                                                                                                                                                                                                                                                                                                                                                                                                                                                                                                                                                                                                                                       </td><td>0                                                                                                                                                                                                                                                                                                                                                                                                                                                                                                                                                                                                                                                       </td></tr>\n",
       "</tbody>\n",
       "</table>\n"
      ],
      "text/latex": [
       "\\begin{tabular}{r|llllllll}\n",
       " id & comment\\_text & toxic & severe\\_toxic & obscene & threat & insult & identity\\_hate\\\\\n",
       "\\hline\n",
       "\t 0000997932d777bf                                                                                                                                                                                                                                                                                                                                                                                                                                                                                                                                                                                                                                         & Explanation\n",
       "Why the edits made under my username Hardcore Metallica Fan were reverted? They weren't vandalisms, just closure on some GAs after I voted at New York Dolls FAC. And please don't remove the template from the talk page since I'm retired now.89.205.38.27                                                                                                                                                                                                                                                                                                                                                                                & 0                                                                                                                                                                                                                                                                                                                                                                                                                                                                                                                                                                                                                                                        & 0                                                                                                                                                                                                                                                                                                                                                                                                                                                                                                                                                                                                                                                        & 0                                                                                                                                                                                                                                                                                                                                                                                                                                                                                                                                                                                                                                                        & 0                                                                                                                                                                                                                                                                                                                                                                                                                                                                                                                                                                                                                                                        & 0                                                                                                                                                                                                                                                                                                                                                                                                                                                                                                                                                                                                                                                        & 0                                                                                                                                                                                                                                                                                                                                                                                                                                                                                                                                                                                                                                                       \\\\\n",
       "\t 000103f0d9cfb60f                                                                                                                                                                                                                                                                                                                                                                                                                                                                                                                                                                                                                                         & D'aww! He matches this background colour I'm seemingly stuck with. Thanks.  (talk) 21:51, January 11, 2016 (UTC)                                                                                                                                                                                                                                                                                                                                                                                                                                                                                                                                         & 0                                                                                                                                                                                                                                                                                                                                                                                                                                                                                                                                                                                                                                                        & 0                                                                                                                                                                                                                                                                                                                                                                                                                                                                                                                                                                                                                                                        & 0                                                                                                                                                                                                                                                                                                                                                                                                                                                                                                                                                                                                                                                        & 0                                                                                                                                                                                                                                                                                                                                                                                                                                                                                                                                                                                                                                                        & 0                                                                                                                                                                                                                                                                                                                                                                                                                                                                                                                                                                                                                                                        & 0                                                                                                                                                                                                                                                                                                                                                                                                                                                                                                                                                                                                                                                       \\\\\n",
       "\t 000113f07ec002fd                                                                                                                                                                                                                                                                                                                                                                                                                                                                                                                                                                                                                                         & Hey man, I'm really not trying to edit war. It's just that this guy is constantly removing relevant information and talking to me through edits instead of my talk page. He seems to care more about the formatting than the actual info.                                                                                                                                                                                                                                                                                                                                                                                                                & 0                                                                                                                                                                                                                                                                                                                                                                                                                                                                                                                                                                                                                                                        & 0                                                                                                                                                                                                                                                                                                                                                                                                                                                                                                                                                                                                                                                        & 0                                                                                                                                                                                                                                                                                                                                                                                                                                                                                                                                                                                                                                                        & 0                                                                                                                                                                                                                                                                                                                                                                                                                                                                                                                                                                                                                                                        & 0                                                                                                                                                                                                                                                                                                                                                                                                                                                                                                                                                                                                                                                        & 0                                                                                                                                                                                                                                                                                                                                                                                                                                                                                                                                                                                                                                                       \\\\\n",
       "\t 0001b41b1c6bb37e                                                                                                                                                                                                                                                                                                                                                                                                                                                                                                                                                                                                                                               & \"\"\n",
       "More\n",
       "I can't make any real suggestions on improvement - I wondered if the section statistics should be later on, or a subsection of \"\"\"\"types of accidents\"\"\"\"  -I think the references may need tidying so that they are all in the exact same format ie date format etc. I can do that later on, if no-one else does first - if you have any preferences for formatting style on references or want to do it yourself please let me know.\n",
       "\n",
       "There appears to be a backlog on articles for review so I guess there may be a delay until a reviewer turns up. It's listed in the relevant form eg Wikipedia:Good\\_article\\_nominations\\#Transport  \"\" & 0                                                                                                                                                                                                                                                                                                                                                                                                                                                                                                                                                                                                                                                              & 0                                                                                                                                                                                                                                                                                                                                                                                                                                                                                                                                                                                                                                                              & 0                                                                                                                                                                                                                                                                                                                                                                                                                                                                                                                                                                                                                                                              & 0                                                                                                                                                                                                                                                                                                                                                                                                                                                                                                                                                                                                                                                              & 0                                                                                                                                                                                                                                                                                                                                                                                                                                                                                                                                                                                                                                                              & 0                                                                                                                                                                                                                                                                                                                                                                                                                                                                                                                                                                                                                                                             \\\\\n",
       "\t 0001d958c54c6e35                                                                                                                                                                                                                                                                                                                                                                                                                                                                                                                                                                                                                                         & You, sir, are my hero. Any chance you remember what page that's on?                                                                                                                                                                                                                                                                                                                                                                                                                                                                                                                                                                                      & 0                                                                                                                                                                                                                                                                                                                                                                                                                                                                                                                                                                                                                                                        & 0                                                                                                                                                                                                                                                                                                                                                                                                                                                                                                                                                                                                                                                        & 0                                                                                                                                                                                                                                                                                                                                                                                                                                                                                                                                                                                                                                                        & 0                                                                                                                                                                                                                                                                                                                                                                                                                                                                                                                                                                                                                                                        & 0                                                                                                                                                                                                                                                                                                                                                                                                                                                                                                                                                                                                                                                        & 0                                                                                                                                                                                                                                                                                                                                                                                                                                                                                                                                                                                                                                                       \\\\\n",
       "\t 00025465d4725e87                                                                                                                                                                                                                                                                                                                                                                                                                                                                                                                                                                                                                                         & \"\"\n",
       "\n",
       "Congratulations from me as well, use the tools well. Â Â· talk \"\"                                                                                                                                                                                                                                                                                                                                                                                                                                                                                                                                                                                  & 0                                                                                                                                                                                                                                                                                                                                                                                                                                                                                                                                                                                                                                                        & 0                                                                                                                                                                                                                                                                                                                                                                                                                                                                                                                                                                                                                                                        & 0                                                                                                                                                                                                                                                                                                                                                                                                                                                                                                                                                                                                                                                        & 0                                                                                                                                                                                                                                                                                                                                                                                                                                                                                                                                                                                                                                                        & 0                                                                                                                                                                                                                                                                                                                                                                                                                                                                                                                                                                                                                                                        & 0                                                                                                                                                                                                                                                                                                                                                                                                                                                                                                                                                                                                                                                       \\\\\n",
       "\\end{tabular}\n"
      ],
      "text/markdown": [
       "\n",
       "id | comment_text | toxic | severe_toxic | obscene | threat | insult | identity_hate | \n",
       "|---|---|---|---|---|---|\n",
       "| 0000997932d777bf                                                                                                                                                                                                                                                                                                                                                                                                                                                                                                                                                                                                                                         | Explanation\n",
       "Why the edits made under my username Hardcore Metallica Fan were reverted? They weren't vandalisms, just closure on some GAs after I voted at New York Dolls FAC. And please don't remove the template from the talk page since I'm retired now.89.205.38.27                                                                                                                                                                                                                                                                                                                                                                                | 0                                                                                                                                                                                                                                                                                                                                                                                                                                                                                                                                                                                                                                                        | 0                                                                                                                                                                                                                                                                                                                                                                                                                                                                                                                                                                                                                                                        | 0                                                                                                                                                                                                                                                                                                                                                                                                                                                                                                                                                                                                                                                        | 0                                                                                                                                                                                                                                                                                                                                                                                                                                                                                                                                                                                                                                                        | 0                                                                                                                                                                                                                                                                                                                                                                                                                                                                                                                                                                                                                                                        | 0                                                                                                                                                                                                                                                                                                                                                                                                                                                                                                                                                                                                                                                        | \n",
       "| 000103f0d9cfb60f                                                                                                                                                                                                                                                                                                                                                                                                                                                                                                                                                                                                                                         | D'aww! He matches this background colour I'm seemingly stuck with. Thanks.  (talk) 21:51, January 11, 2016 (UTC)                                                                                                                                                                                                                                                                                                                                                                                                                                                                                                                                         | 0                                                                                                                                                                                                                                                                                                                                                                                                                                                                                                                                                                                                                                                        | 0                                                                                                                                                                                                                                                                                                                                                                                                                                                                                                                                                                                                                                                        | 0                                                                                                                                                                                                                                                                                                                                                                                                                                                                                                                                                                                                                                                        | 0                                                                                                                                                                                                                                                                                                                                                                                                                                                                                                                                                                                                                                                        | 0                                                                                                                                                                                                                                                                                                                                                                                                                                                                                                                                                                                                                                                        | 0                                                                                                                                                                                                                                                                                                                                                                                                                                                                                                                                                                                                                                                        | \n",
       "| 000113f07ec002fd                                                                                                                                                                                                                                                                                                                                                                                                                                                                                                                                                                                                                                         | Hey man, I'm really not trying to edit war. It's just that this guy is constantly removing relevant information and talking to me through edits instead of my talk page. He seems to care more about the formatting than the actual info.                                                                                                                                                                                                                                                                                                                                                                                                                | 0                                                                                                                                                                                                                                                                                                                                                                                                                                                                                                                                                                                                                                                        | 0                                                                                                                                                                                                                                                                                                                                                                                                                                                                                                                                                                                                                                                        | 0                                                                                                                                                                                                                                                                                                                                                                                                                                                                                                                                                                                                                                                        | 0                                                                                                                                                                                                                                                                                                                                                                                                                                                                                                                                                                                                                                                        | 0                                                                                                                                                                                                                                                                                                                                                                                                                                                                                                                                                                                                                                                        | 0                                                                                                                                                                                                                                                                                                                                                                                                                                                                                                                                                                                                                                                        | \n",
       "| 0001b41b1c6bb37e                                                                                                                                                                                                                                                                                                                                                                                                                                                                                                                                                                                                                                         | \"\"\n",
       "More\n",
       "I can't make any real suggestions on improvement - I wondered if the section statistics should be later on, or a subsection of \"\"\"\"types of accidents\"\"\"\"  -I think the references may need tidying so that they are all in the exact same format ie date format etc. I can do that later on, if no-one else does first - if you have any preferences for formatting style on references or want to do it yourself please let me know.\n",
       "\n",
       "There appears to be a backlog on articles for review so I guess there may be a delay until a reviewer turns up. It's listed in the relevant form eg Wikipedia:Good_article_nominations#Transport  \"\" | 0                                                                                                                                                                                                                                                                                                                                                                                                                                                                                                                                                                                                                                                        | 0                                                                                                                                                                                                                                                                                                                                                                                                                                                                                                                                                                                                                                                        | 0                                                                                                                                                                                                                                                                                                                                                                                                                                                                                                                                                                                                                                                        | 0                                                                                                                                                                                                                                                                                                                                                                                                                                                                                                                                                                                                                                                        | 0                                                                                                                                                                                                                                                                                                                                                                                                                                                                                                                                                                                                                                                        | 0                                                                                                                                                                                                                                                                                                                                                                                                                                                                                                                                                                                                                                                        | \n",
       "| 0001d958c54c6e35                                                                                                                                                                                                                                                                                                                                                                                                                                                                                                                                                                                                                                         | You, sir, are my hero. Any chance you remember what page that's on?                                                                                                                                                                                                                                                                                                                                                                                                                                                                                                                                                                                      | 0                                                                                                                                                                                                                                                                                                                                                                                                                                                                                                                                                                                                                                                        | 0                                                                                                                                                                                                                                                                                                                                                                                                                                                                                                                                                                                                                                                        | 0                                                                                                                                                                                                                                                                                                                                                                                                                                                                                                                                                                                                                                                        | 0                                                                                                                                                                                                                                                                                                                                                                                                                                                                                                                                                                                                                                                        | 0                                                                                                                                                                                                                                                                                                                                                                                                                                                                                                                                                                                                                                                        | 0                                                                                                                                                                                                                                                                                                                                                                                                                                                                                                                                                                                                                                                        | \n",
       "| 00025465d4725e87                                                                                                                                                                                                                                                                                                                                                                                                                                                                                                                                                                                                                                         | \"\"\n",
       "\n",
       "Congratulations from me as well, use the tools well. Â Â· talk \"\"                                                                                                                                                                                                                                                                                                                                                                                                                                                                                                                                                                                  | 0                                                                                                                                                                                                                                                                                                                                                                                                                                                                                                                                                                                                                                                        | 0                                                                                                                                                                                                                                                                                                                                                                                                                                                                                                                                                                                                                                                        | 0                                                                                                                                                                                                                                                                                                                                                                                                                                                                                                                                                                                                                                                        | 0                                                                                                                                                                                                                                                                                                                                                                                                                                                                                                                                                                                                                                                        | 0                                                                                                                                                                                                                                                                                                                                                                                                                                                                                                                                                                                                                                                        | 0                                                                                                                                                                                                                                                                                                                                                                                                                                                                                                                                                                                                                                                        | \n",
       "\n",
       "\n"
      ],
      "text/plain": [
       "  id              \n",
       "1 0000997932d777bf\n",
       "2 000103f0d9cfb60f\n",
       "3 000113f07ec002fd\n",
       "4 0001b41b1c6bb37e\n",
       "5 0001d958c54c6e35\n",
       "6 00025465d4725e87\n",
       "  comment_text                                                                                                                                                                                                                                                                                                                                                                                                                                                                                                                                                                                                                                            \n",
       "1 Explanation\\nWhy the edits made under my username Hardcore Metallica Fan were reverted? They weren't vandalisms, just closure on some GAs after I voted at New York Dolls FAC. And please don't remove the template from the talk page since I'm retired now.89.205.38.27                                                                                                                                                                                                                                                                                                                                                                               \n",
       "2 D'aww! He matches this background colour I'm seemingly stuck with. Thanks.  (talk) 21:51, January 11, 2016 (UTC)                                                                                                                                                                                                                                                                                                                                                                                                                                                                                                                                        \n",
       "3 Hey man, I'm really not trying to edit war. It's just that this guy is constantly removing relevant information and talking to me through edits instead of my talk page. He seems to care more about the formatting than the actual info.                                                                                                                                                                                                                                                                                                                                                                                                               \n",
       "4 \"\"\\nMore\\nI can't make any real suggestions on improvement - I wondered if the section statistics should be later on, or a subsection of \"\"\"\"types of accidents\"\"\"\"  -I think the references may need tidying so that they are all in the exact same format ie date format etc. I can do that later on, if no-one else does first - if you have any preferences for formatting style on references or want to do it yourself please let me know.\\n\\nThere appears to be a backlog on articles for review so I guess there may be a delay until a reviewer turns up. It's listed in the relevant form eg Wikipedia:Good_article_nominations#Transport  \"\"\n",
       "5 You, sir, are my hero. Any chance you remember what page that's on?                                                                                                                                                                                                                                                                                                                                                                                                                                                                                                                                                                                     \n",
       "6 \"\"\\n\\nCongratulations from me as well, use the tools well. Â Â· talk \"\"                                                                                                                                                                                                                                                                                                                                                                                                                                                                                                                                                                                 \n",
       "  toxic severe_toxic obscene threat insult identity_hate\n",
       "1 0     0            0       0      0      0            \n",
       "2 0     0            0       0      0      0            \n",
       "3 0     0            0       0      0      0            \n",
       "4 0     0            0       0      0      0            \n",
       "5 0     0            0       0      0      0            \n",
       "6 0     0            0       0      0      0            "
      ]
     },
     "metadata": {},
     "output_type": "display_data"
    }
   ],
   "source": [
    "head(comment)"
   ]
  },
  {
   "cell_type": "code",
   "execution_count": 8,
   "metadata": {},
   "outputs": [
    {
     "name": "stdout",
     "output_type": "stream",
     "text": [
      "\r",
      "Read 0.0% of 552888 rows\r",
      "Read 23.5% of 552888 rows\r",
      "Read 153164 rows and 2 (of 2) columns from 0.056 GB file in 00:00:05\n"
     ]
    }
   ],
   "source": [
    "comment.test <- fread('commtest.csv')"
   ]
  },
  {
   "cell_type": "code",
   "execution_count": 9,
   "metadata": {},
   "outputs": [
    {
     "data": {
      "text/html": [
       "<table>\n",
       "<thead><tr><th scope=col>id</th><th scope=col>comment_text</th></tr></thead>\n",
       "<tbody>\n",
       "\t<tr><td>00001cee341fdb12                                                                                                                                                                                                                                                                                                                                                               </td><td>Yo bitch Ja Rule is more succesful then you'll ever be whats up with you and hating you sad mofuckas...i should bitch slap ur pethedic white faces and get you to kiss my ass you guys sicken me. Ja rule is about pride in da music man. dont diss that shit on him. and nothin is wrong bein like tupac he was a brother too...fuckin white boys get things right next time.,</td></tr>\n",
       "\t<tr><td>0000247867823ef7                                                                                                                                                                                                                                                                                                                                                               </td><td>== From RfC == \n",
       "\n",
       " The title is fine as it is, IMO.                                                                                                                                                                                                                                                                                                                           </td></tr>\n",
       "\t<tr><td>00013b17ad220c46                                                                                                                                                                                                                                                                                                                                                               </td><td>\"\" \n",
       "\n",
       " == Sources == \n",
       "\n",
       " * Zawe Ashton on Lapland â€”  /  \"\"                                                                                                                                                                                                                                                                                                                 </td></tr>\n",
       "\t<tr><td>00017563c3f7919a                                                                                                                                                                                                                                                                                                                                                               </td><td>:If you have a look back at the source, the information I updated was the correct form. I can only guess the source hadn't updated. I shall update the information once again but thank you for your message.                                                                                                                                                                  </td></tr>\n",
       "\t<tr><td>00017695ad8997eb                                                                                                                                                                                                                                                                                                                                                               </td><td>I don't anonymously edit articles at all.                                                                                                                                                                                                                                                                                                                                      </td></tr>\n",
       "\t<tr><td>0001ea8717f6de06                                                                                                                                                                                                                                                                                                                                                               </td><td>Thank you for understanding. I think very highly of you and would not revert without discussion.                                                                                                                                                                                                                                                                               </td></tr>\n",
       "</tbody>\n",
       "</table>\n"
      ],
      "text/latex": [
       "\\begin{tabular}{r|ll}\n",
       " id & comment\\_text\\\\\n",
       "\\hline\n",
       "\t 00001cee341fdb12                                                                                                                                                                                                                                                                                                                                                                & Yo bitch Ja Rule is more succesful then you'll ever be whats up with you and hating you sad mofuckas...i should bitch slap ur pethedic white faces and get you to kiss my ass you guys sicken me. Ja rule is about pride in da music man. dont diss that shit on him. and nothin is wrong bein like tupac he was a brother too...fuckin white boys get things right next time.,\\\\\n",
       "\t 0000247867823ef7                                                                                                                                                                                                                                                                                                                                                                & == From RfC == \n",
       "\n",
       " The title is fine as it is, IMO.                                                                                                                                                                                                                                                                                                                           \\\\\n",
       "\t 00013b17ad220c46                                                                                                                                                                                                                                                                                                                                                                & \"\" \n",
       "\n",
       " == Sources == \n",
       "\n",
       " * Zawe Ashton on Lapland â€”  /  \"\"                                                                                                                                                                                                                                                                                                                 \\\\\n",
       "\t 00017563c3f7919a                                                                                                                                                                                                                                                                                                                                                                & :If you have a look back at the source, the information I updated was the correct form. I can only guess the source hadn't updated. I shall update the information once again but thank you for your message.                                                                                                                                                                  \\\\\n",
       "\t 00017695ad8997eb                                                                                                                                                                                                                                                                                                                                                                & I don't anonymously edit articles at all.                                                                                                                                                                                                                                                                                                                                      \\\\\n",
       "\t 0001ea8717f6de06                                                                                                                                                                                                                                                                                                                                                                & Thank you for understanding. I think very highly of you and would not revert without discussion.                                                                                                                                                                                                                                                                               \\\\\n",
       "\\end{tabular}\n"
      ],
      "text/markdown": [
       "\n",
       "id | comment_text | \n",
       "|---|---|---|---|---|---|\n",
       "| 00001cee341fdb12                                                                                                                                                                                                                                                                                                                                                                | Yo bitch Ja Rule is more succesful then you'll ever be whats up with you and hating you sad mofuckas...i should bitch slap ur pethedic white faces and get you to kiss my ass you guys sicken me. Ja rule is about pride in da music man. dont diss that shit on him. and nothin is wrong bein like tupac he was a brother too...fuckin white boys get things right next time., | \n",
       "| 0000247867823ef7                                                                                                                                                                                                                                                                                                                                                                | == From RfC == \n",
       "\n",
       " The title is fine as it is, IMO.                                                                                                                                                                                                                                                                                                                            | \n",
       "| 00013b17ad220c46                                                                                                                                                                                                                                                                                                                                                                | \"\" \n",
       "\n",
       " == Sources == \n",
       "\n",
       " * Zawe Ashton on Lapland â€”  /  \"\"                                                                                                                                                                                                                                                                                                                  | \n",
       "| 00017563c3f7919a                                                                                                                                                                                                                                                                                                                                                                | :If you have a look back at the source, the information I updated was the correct form. I can only guess the source hadn't updated. I shall update the information once again but thank you for your message.                                                                                                                                                                   | \n",
       "| 00017695ad8997eb                                                                                                                                                                                                                                                                                                                                                                | I don't anonymously edit articles at all.                                                                                                                                                                                                                                                                                                                                       | \n",
       "| 0001ea8717f6de06                                                                                                                                                                                                                                                                                                                                                                | Thank you for understanding. I think very highly of you and would not revert without discussion.                                                                                                                                                                                                                                                                                | \n",
       "\n",
       "\n"
      ],
      "text/plain": [
       "  id              \n",
       "1 00001cee341fdb12\n",
       "2 0000247867823ef7\n",
       "3 00013b17ad220c46\n",
       "4 00017563c3f7919a\n",
       "5 00017695ad8997eb\n",
       "6 0001ea8717f6de06\n",
       "  comment_text                                                                                                                                                                                                                                                                                                                                                                   \n",
       "1 Yo bitch Ja Rule is more succesful then you'll ever be whats up with you and hating you sad mofuckas...i should bitch slap ur pethedic white faces and get you to kiss my ass you guys sicken me. Ja rule is about pride in da music man. dont diss that shit on him. and nothin is wrong bein like tupac he was a brother too...fuckin white boys get things right next time.,\n",
       "2 == From RfC == \\n\\n The title is fine as it is, IMO.                                                                                                                                                                                                                                                                                                                           \n",
       "3 \"\" \\n\\n == Sources == \\n\\n * Zawe Ashton on Lapland â  /  \"\"                                                                                                                                                                                                                                                                                                                 \n",
       "4 :If you have a look back at the source, the information I updated was the correct form. I can only guess the source hadn't updated. I shall update the information once again but thank you for your message.                                                                                                                                                                  \n",
       "5 I don't anonymously edit articles at all.                                                                                                                                                                                                                                                                                                                                      \n",
       "6 Thank you for understanding. I think very highly of you and would not revert without discussion.                                                                                                                                                                                                                                                                               "
      ]
     },
     "metadata": {},
     "output_type": "display_data"
    }
   ],
   "source": [
    "head(comment.test)"
   ]
  },
  {
   "cell_type": "code",
   "execution_count": 10,
   "metadata": {},
   "outputs": [],
   "source": [
    "sample.sub <- fread('commsample_submission.csv')"
   ]
  },
  {
   "cell_type": "code",
   "execution_count": 11,
   "metadata": {},
   "outputs": [
    {
     "data": {
      "text/html": [
       "<table>\n",
       "<thead><tr><th scope=col>id</th><th scope=col>toxic</th><th scope=col>severe_toxic</th><th scope=col>obscene</th><th scope=col>threat</th><th scope=col>insult</th><th scope=col>identity_hate</th></tr></thead>\n",
       "<tbody>\n",
       "\t<tr><td>00001cee341fdb12</td><td>0.5             </td><td>0.5             </td><td>0.5             </td><td>0.5             </td><td>0.5             </td><td>0.5             </td></tr>\n",
       "\t<tr><td>0000247867823ef7</td><td>0.5             </td><td>0.5             </td><td>0.5             </td><td>0.5             </td><td>0.5             </td><td>0.5             </td></tr>\n",
       "\t<tr><td>00013b17ad220c46</td><td>0.5             </td><td>0.5             </td><td>0.5             </td><td>0.5             </td><td>0.5             </td><td>0.5             </td></tr>\n",
       "\t<tr><td>00017563c3f7919a</td><td>0.5             </td><td>0.5             </td><td>0.5             </td><td>0.5             </td><td>0.5             </td><td>0.5             </td></tr>\n",
       "\t<tr><td>00017695ad8997eb</td><td>0.5             </td><td>0.5             </td><td>0.5             </td><td>0.5             </td><td>0.5             </td><td>0.5             </td></tr>\n",
       "\t<tr><td>0001ea8717f6de06</td><td>0.5             </td><td>0.5             </td><td>0.5             </td><td>0.5             </td><td>0.5             </td><td>0.5             </td></tr>\n",
       "</tbody>\n",
       "</table>\n"
      ],
      "text/latex": [
       "\\begin{tabular}{r|lllllll}\n",
       " id & toxic & severe\\_toxic & obscene & threat & insult & identity\\_hate\\\\\n",
       "\\hline\n",
       "\t 00001cee341fdb12 & 0.5              & 0.5              & 0.5              & 0.5              & 0.5              & 0.5             \\\\\n",
       "\t 0000247867823ef7 & 0.5              & 0.5              & 0.5              & 0.5              & 0.5              & 0.5             \\\\\n",
       "\t 00013b17ad220c46 & 0.5              & 0.5              & 0.5              & 0.5              & 0.5              & 0.5             \\\\\n",
       "\t 00017563c3f7919a & 0.5              & 0.5              & 0.5              & 0.5              & 0.5              & 0.5             \\\\\n",
       "\t 00017695ad8997eb & 0.5              & 0.5              & 0.5              & 0.5              & 0.5              & 0.5             \\\\\n",
       "\t 0001ea8717f6de06 & 0.5              & 0.5              & 0.5              & 0.5              & 0.5              & 0.5             \\\\\n",
       "\\end{tabular}\n"
      ],
      "text/markdown": [
       "\n",
       "id | toxic | severe_toxic | obscene | threat | insult | identity_hate | \n",
       "|---|---|---|---|---|---|\n",
       "| 00001cee341fdb12 | 0.5              | 0.5              | 0.5              | 0.5              | 0.5              | 0.5              | \n",
       "| 0000247867823ef7 | 0.5              | 0.5              | 0.5              | 0.5              | 0.5              | 0.5              | \n",
       "| 00013b17ad220c46 | 0.5              | 0.5              | 0.5              | 0.5              | 0.5              | 0.5              | \n",
       "| 00017563c3f7919a | 0.5              | 0.5              | 0.5              | 0.5              | 0.5              | 0.5              | \n",
       "| 00017695ad8997eb | 0.5              | 0.5              | 0.5              | 0.5              | 0.5              | 0.5              | \n",
       "| 0001ea8717f6de06 | 0.5              | 0.5              | 0.5              | 0.5              | 0.5              | 0.5              | \n",
       "\n",
       "\n"
      ],
      "text/plain": [
       "  id               toxic severe_toxic obscene threat insult identity_hate\n",
       "1 00001cee341fdb12 0.5   0.5          0.5     0.5    0.5    0.5          \n",
       "2 0000247867823ef7 0.5   0.5          0.5     0.5    0.5    0.5          \n",
       "3 00013b17ad220c46 0.5   0.5          0.5     0.5    0.5    0.5          \n",
       "4 00017563c3f7919a 0.5   0.5          0.5     0.5    0.5    0.5          \n",
       "5 00017695ad8997eb 0.5   0.5          0.5     0.5    0.5    0.5          \n",
       "6 0001ea8717f6de06 0.5   0.5          0.5     0.5    0.5    0.5          "
      ]
     },
     "metadata": {},
     "output_type": "display_data"
    }
   ],
   "source": [
    "head(sample.sub)"
   ]
  },
  {
   "cell_type": "markdown",
   "metadata": {},
   "source": [
    "Interesting data as the main focus will be here on the comment_text feature which holds the toxic comments beneath it.\n",
    "So first let's try to explore what it has based on which we'll be making the predictions for the other 6 target's such as \n",
    "toxic, severe_toxic, obscene, threat, insult, identity_hate making it a multi-label classification."
   ]
  },
  {
   "cell_type": "markdown",
   "metadata": {},
   "source": [
    "Since this is text data, data conditioning plays a major role,\n",
    "The steps followed are:\n",
    "1> remove contractions\n",
    "2> remove special character's\n",
    "3> convert them to lower\n",
    "4> lemmatize the text/strings # we'll go over this later in part 2\n",
    "5> remove number's\n",
    "6> remove punctuation's\n",
    "7> remove stop words\n",
    "8> strip white spaces"
   ]
  },
  {
   "cell_type": "code",
   "execution_count": 61,
   "metadata": {},
   "outputs": [],
   "source": [
    "cm_text <- comment[,2]"
   ]
  },
  {
   "cell_type": "markdown",
   "metadata": {},
   "source": [
    "Let's get rid of contractions by creating a little function that handles most scenarios using gsub(), and then apply that function across all comment_text."
   ]
  },
  {
   "cell_type": "code",
   "execution_count": 14,
   "metadata": {},
   "outputs": [],
   "source": [
    "# function to expand contractions in an English-language source\n",
    "fix.contractions <- function(doc) {\n",
    "  # \"won't\" is a special case as it does not expand to \"wo not\"\n",
    "  doc <- gsub(\"won't\", \"will not\", doc)\n",
    "  doc <- gsub(\"can't\", \"can not\", doc)\n",
    "  doc <- gsub(\"n't\", \" not\", doc)\n",
    "  doc <- gsub(\"'ll\", \" will\", doc)\n",
    "  doc <- gsub(\"'re\", \" are\", doc)\n",
    "  doc <- gsub(\"'ve\", \" have\", doc)\n",
    "  doc <- gsub(\"'m\", \" am\", doc)\n",
    "  doc <- gsub(\"'d\", \" would\", doc)\n",
    "  # 's could be 'is' or could be possessive: it has no expansion\n",
    "  doc <- gsub(\"'s\", \"\", doc)\n",
    "  return(doc)\n",
    " }"
   ]
  },
  {
   "cell_type": "code",
   "execution_count": 63,
   "metadata": {},
   "outputs": [],
   "source": [
    "# fix (expand) contractions\n",
    "cm_text <- sapply(cm_text, fix.contractions)"
   ]
  },
  {
   "cell_type": "code",
   "execution_count": 65,
   "metadata": {},
   "outputs": [],
   "source": [
    " #function to remove special characters\n",
    "removeSpecialChars <- function(x) gsub(\"[^a-zA-Z0-9 ]\", \" \", x)"
   ]
  },
  {
   "cell_type": "code",
   "execution_count": 66,
   "metadata": {},
   "outputs": [],
   "source": [
    "# remove special characters\n",
    "cm_text <- sapply(cm_text, removeSpecialChars)"
   ]
  },
  {
   "cell_type": "code",
   "execution_count": 67,
   "metadata": {},
   "outputs": [],
   "source": [
    "# convert them to lower\n",
    "cm_text <- sapply(cm_text, tolower)"
   ]
  },
  {
   "cell_type": "markdown",
   "metadata": {},
   "source": [
    "Ok, so we saw how to clean data using apply function. Now let's implement the same directly using tm function for the same before that let's create a corpus. A corpus is nothing but a large, structured set of texts."
   ]
  },
  {
   "cell_type": "code",
   "execution_count": 17,
   "metadata": {},
   "outputs": [],
   "source": [
    "comment_corpus = Corpus(VectorSource(comment$comment_text)) # creating a corpus"
   ]
  },
  {
   "cell_type": "code",
   "execution_count": 18,
   "metadata": {},
   "outputs": [],
   "source": [
    "comment_corpus = tm_map(comment_corpus, content_transformer(tolower))\n",
    "comment_corpus = tm_map(comment_corpus, removeNumbers)\n",
    "comment_corpus = tm_map(comment_corpus, removePunctuation)\n",
    "comment_corpus = tm_map(comment_corpus, removeWords, c(\"the\", \"and\", stopwords(\"english\")))\n",
    "comment_corpus = tm_map(comment_corpus, stripWhitespace)"
   ]
  },
  {
   "cell_type": "markdown",
   "metadata": {},
   "source": [
    "After the above transformations the first review looks like"
   ]
  },
  {
   "cell_type": "code",
   "execution_count": 19,
   "metadata": {},
   "outputs": [
    {
     "name": "stdout",
     "output_type": "stream",
     "text": [
      "<<SimpleCorpus>>\n",
      "Metadata:  corpus specific: 1, document level (indexed): 0\n",
      "Content:  documents: 1\n",
      "\n",
      "[1] explanation edits made username hardcore metallica fan reverted werent vandalisms just closure gas voted new york dolls fac please dont remove template talk page since im retired now\n"
     ]
    }
   ],
   "source": [
    "inspect(comment_corpus[1])"
   ]
  },
  {
   "cell_type": "markdown",
   "metadata": {},
   "source": [
    "To analyze the textual data, we use a Document-Term Matrix (DTM) representation: documents as the rows, terms/words as the columns, frequency of the term in the document as the entries because the number of unique words in the corpus the dimension can be large."
   ]
  },
  {
   "cell_type": "code",
   "execution_count": 20,
   "metadata": {},
   "outputs": [
    {
     "data": {
      "text/plain": [
       "<<DocumentTermMatrix (documents: 159571, terms: 230161)>>\n",
       "Non-/sparse entries: 4361670/36722659261\n",
       "Sparsity           : 100%\n",
       "Maximal term length: 4955\n",
       "Weighting          : term frequency (tf)"
      ]
     },
     "metadata": {},
     "output_type": "display_data"
    }
   ],
   "source": [
    "review_dtm <- DocumentTermMatrix(comment_corpus)\n",
    "review_dtm"
   ]
  },
  {
   "cell_type": "code",
   "execution_count": 21,
   "metadata": {},
   "outputs": [
    {
     "name": "stdout",
     "output_type": "stream",
     "text": [
      "<<DocumentTermMatrix (documents: 6, terms: 6)>>\n",
      "Non-/sparse entries: 0/36\n",
      "Sparsity           : 100%\n",
      "Maximal term length: 8\n",
      "Weighting          : term frequency (tf)\n",
      "Sample             :\n",
      "     Terms\n",
      "Docs  john judging jurists justices kathleen law\n",
      "  500    0       0       0        0        0   0\n",
      "  501    0       0       0        0        0   0\n",
      "  502    0       0       0        0        0   0\n",
      "  503    0       0       0        0        0   0\n",
      "  504    0       0       0        0        0   0\n",
      "  505    0       0       0        0        0   0\n"
     ]
    }
   ],
   "source": [
    "inspect(review_dtm[500:505, 500:505])"
   ]
  },
  {
   "cell_type": "markdown",
   "metadata": {},
   "source": [
    "To reduce the dimension of the DTM, we can remove the less frequent terms such that the sparsity is less than 0.95 and the let's inspect."
   ]
  },
  {
   "cell_type": "code",
   "execution_count": 22,
   "metadata": {},
   "outputs": [
    {
     "data": {
      "text/plain": [
       "<<DocumentTermMatrix (documents: 159571, terms: 469)>>\n",
       "Non-/sparse entries: 1956302/72882497\n",
       "Sparsity           : 97%\n",
       "Maximal term length: 13\n",
       "Weighting          : term frequency (tf)"
      ]
     },
     "metadata": {},
     "output_type": "display_data"
    }
   ],
   "source": [
    "review_dtm = removeSparseTerms(review_dtm, 0.99)\n",
    "review_dtm"
   ]
  },
  {
   "cell_type": "code",
   "execution_count": 23,
   "metadata": {},
   "outputs": [
    {
     "name": "stdout",
     "output_type": "stream",
     "text": [
      "<<DocumentTermMatrix (documents: 1, terms: 20)>>\n",
      "Non-/sparse entries: 13/7\n",
      "Sparsity           : 35%\n",
      "Maximal term length: 8\n",
      "Weighting          : term frequency (tf)\n",
      "Sample             :\n",
      "    Terms\n",
      "Docs dont edits just made new now page please remove reverted\n",
      "   1    1     1    1    1   1   1    1      1      1        1\n"
     ]
    }
   ],
   "source": [
    "inspect(review_dtm[1,1:20])"
   ]
  },
  {
   "cell_type": "code",
   "execution_count": 24,
   "metadata": {},
   "outputs": [
    {
     "data": {
      "text/html": [
       "<ol class=list-inline>\n",
       "\t<li>'dont'</li>\n",
       "\t<li>'edits'</li>\n",
       "\t<li>'just'</li>\n",
       "\t<li>'made'</li>\n",
       "\t<li>'new'</li>\n",
       "\t<li>'now'</li>\n",
       "\t<li>'page'</li>\n",
       "\t<li>'please'</li>\n",
       "\t<li>'remove'</li>\n",
       "\t<li>'reverted'</li>\n",
       "\t<li>'since'</li>\n",
       "\t<li>'talk'</li>\n",
       "\t<li>'template'</li>\n",
       "\t<li>'thanks'</li>\n",
       "\t<li>'utc'</li>\n",
       "\t<li>'care'</li>\n",
       "\t<li>'edit'</li>\n",
       "\t<li>'guy'</li>\n",
       "\t<li>'hey'</li>\n",
       "\t<li>'info'</li>\n",
       "\t<li>'information'</li>\n",
       "\t<li>'instead'</li>\n",
       "\t<li>'man'</li>\n",
       "\t<li>'really'</li>\n",
       "\t<li>'relevant'</li>\n",
       "\t<li>'removing'</li>\n",
       "\t<li>'seems'</li>\n",
       "\t<li>'talking'</li>\n",
       "\t<li>'trying'</li>\n",
       "\t<li>'war'</li>\n",
       "\t<li>'appears'</li>\n",
       "\t<li>'articles'</li>\n",
       "\t<li>'can'</li>\n",
       "\t<li>'cant'</li>\n",
       "\t<li>'date'</li>\n",
       "\t<li>'else'</li>\n",
       "\t<li>'etc'</li>\n",
       "\t<li>'first'</li>\n",
       "\t<li>'form'</li>\n",
       "\t<li>'guess'</li>\n",
       "\t<li>'know'</li>\n",
       "\t<li>'later'</li>\n",
       "\t<li>'let'</li>\n",
       "\t<li>'listed'</li>\n",
       "\t<li>'make'</li>\n",
       "\t<li>'may'</li>\n",
       "\t<li>'need'</li>\n",
       "\t<li>'real'</li>\n",
       "\t<li>'references'</li>\n",
       "\t<li>'review'</li>\n",
       "\t<li>'section'</li>\n",
       "\t<li>'style'</li>\n",
       "\t<li>'think'</li>\n",
       "\t<li>'want'</li>\n",
       "\t<li>'remember'</li>\n",
       "\t<li>'thats'</li>\n",
       "\t<li>'use'</li>\n",
       "\t<li>'well'</li>\n",
       "\t<li>'around'</li>\n",
       "\t<li>'work'</li>\n",
       "\t<li>'article'</li>\n",
       "\t<li>'vandalism'</li>\n",
       "\t<li>'will'</li>\n",
       "\t<li>'almost'</li>\n",
       "\t<li>'anything'</li>\n",
       "\t<li>'anyway'</li>\n",
       "\t<li>'must'</li>\n",
       "\t<li>'one'</li>\n",
       "\t<li>'reference'</li>\n",
       "\t<li>'school'</li>\n",
       "\t<li>'someone'</li>\n",
       "\t<li>'sorry'</li>\n",
       "\t<li>'word'</li>\n",
       "\t<li>'write'</li>\n",
       "\t<li>'subject'</li>\n",
       "\t<li>'add'</li>\n",
       "\t<li>'adding'</li>\n",
       "\t<li>'already'</li>\n",
       "\t<li>'also'</li>\n",
       "\t<li>'ask'</li>\n",
       "\t<li>'believe'</li>\n",
       "\t<li>'consider'</li>\n",
       "\t<li>'content'</li>\n",
       "\t<li>'contribs'</li>\n",
       "\t<li>'contributions'</li>\n",
       "\t<li>'copyright'</li>\n",
       "\t<li>'create'</li>\n",
       "\t<li>'created'</li>\n",
       "\t<li>'criteria'</li>\n",
       "\t<li>'currently'</li>\n",
       "\t<li>'deleted'</li>\n",
       "\t<li>'deletion'</li>\n",
       "\t<li>'different'</li>\n",
       "\t<li>'doesnt'</li>\n",
       "\t<li>'edited'</li>\n",
       "\t<li>'fair'</li>\n",
       "\t<li>'find'</li>\n",
       "\t<li>'following'</li>\n",
       "\t<li>'full'</li>\n",
       "\t<li>'however'</li>\n",
       "\t<li>'image'</li>\n",
       "\t<li>'images'</li>\n",
       "\t<li>'include'</li>\n",
       "\t<li>'link'</li>\n",
       "\t<li>'list'</li>\n",
       "\t<li>'media'</li>\n",
       "\t<li>'note'</li>\n",
       "\t<li>'notice'</li>\n",
       "\t<li>'noticed'</li>\n",
       "\t<li>'pages'</li>\n",
       "\t<li>'per'</li>\n",
       "\t<li>'picture'</li>\n",
       "\t<li>'questions'</li>\n",
       "\t<li>'see'</li>\n",
       "\t<li>'source'</li>\n",
       "\t<li>'specific'</li>\n",
       "\t<li>'speedy'</li>\n",
       "\t<li>'tag'</li>\n",
       "\t<li>'taken'</li>\n",
       "\t<li>'thank'</li>\n",
       "\t<li>'top'</li>\n",
       "\t<li>'used'</li>\n",
       "\t<li>'using'</li>\n",
       "\t<li>'website'</li>\n",
       "\t<li>'wikipedia'</li>\n",
       "\t<li>'discuss'</li>\n",
       "\t<li>'lets'</li>\n",
       "\t<li>'good'</li>\n",
       "\t<li>'group'</li>\n",
       "\t<li>'issue'</li>\n",
       "\t<li>'admin'</li>\n",
       "\t<li>'argument'</li>\n",
       "\t<li>'attacks'</li>\n",
       "\t<li>'certainly'</li>\n",
       "\t<li>'discussion'</li>\n",
       "\t<li>'going'</li>\n",
       "\t<li>'isnt'</li>\n",
       "\t<li>'like'</li>\n",
       "\t<li>'look'</li>\n",
       "\t<li>'matter'</li>\n",
       "\t<li>'notable'</li>\n",
       "\t<li>'perhaps'</li>\n",
       "\t<li>'probably'</li>\n",
       "\t<li>'quite'</li>\n",
       "\t<li>'revert'</li>\n",
       "\t<li>'single'</li>\n",
       "\t<li>'start'</li>\n",
       "\t<li>'topic'</li>\n",
       "\t<li>'said'</li>\n",
       "\t<li>'started'</li>\n",
       "\t<li>'came'</li>\n",
       "\t<li>'makes'</li>\n",
       "\t<li>'making'</li>\n",
       "\t<li>'old'</li>\n",
       "\t<li>'stop'</li>\n",
       "\t<li>'year'</li>\n",
       "\t<li>'years'</li>\n",
       "\t<li>'yes'</li>\n",
       "\t<li>'back'</li>\n",
       "\t<li>'come'</li>\n",
       "\t<li>'redirect'</li>\n",
       "\t<li>'point'</li>\n",
       "\t<li>'sense'</li>\n",
       "\t<li>'better'</li>\n",
       "\t<li>'even'</li>\n",
       "\t<li>'mean'</li>\n",
       "\t<li>'posted'</li>\n",
       "\t<li>'regarding'</li>\n",
       "\t<li>'something'</li>\n",
       "\t<li>'take'</li>\n",
       "\t<li>'writing'</li>\n",
       "\t<li>'youre'</li>\n",
       "\t<li>'bad'</li>\n",
       "\t<li>'editing'</li>\n",
       "\t<li>'many'</li>\n",
       "\t<li>'read'</li>\n",
       "\t<li>'recent'</li>\n",
       "\t<li>'simply'</li>\n",
       "\t<li>'according'</li>\n",
       "\t<li>'always'</li>\n",
       "\t<li>'common'</li>\n",
       "\t<li>'facts'</li>\n",
       "\t<li>'far'</li>\n",
       "\t<li>'get'</li>\n",
       "\t<li>'number'</li>\n",
       "\t<li>'rather'</li>\n",
       "\t<li>'site'</li>\n",
       "\t<li>'stated'</li>\n",
       "\t<li>'still'</li>\n",
       "\t<li>'true'</li>\n",
       "\t<li>'anyone'</li>\n",
       "\t<li>'changes'</li>\n",
       "\t<li>'current'</li>\n",
       "\t<li>'either'</li>\n",
       "\t<li>'hope'</li>\n",
       "\t<li>'less'</li>\n",
       "\t<li>'others'</li>\n",
       "\t<li>'question'</li>\n",
       "\t<li>'reasons'</li>\n",
       "\t<li>'support'</li>\n",
       "\t<li>'sure'</li>\n",
       "\t<li>'understand'</li>\n",
       "\t<li>'version'</li>\n",
       "\t<li>'view'</li>\n",
       "\t<li>'written'</li>\n",
       "\t<li>'wrong'</li>\n",
       "\t<li>'included'</li>\n",
       "\t<li>'several'</li>\n",
       "\t<li>'done'</li>\n",
       "\t<li>'history'</li>\n",
       "\t<li>'sources'</li>\n",
       "\t<li>'theres'</li>\n",
       "\t<li>'youve'</li>\n",
       "\t<li>'case'</li>\n",
       "\t<li>'continue'</li>\n",
       "\t<li>'tell'</li>\n",
       "\t<li>'bit'</li>\n",
       "\t<li>'example'</li>\n",
       "\t<li>'life'</li>\n",
       "\t<li>'block'</li>\n",
       "\t<li>'post'</li>\n",
       "\t<li>'thing'</li>\n",
       "\t<li>'ago'</li>\n",
       "\t<li>'much'</li>\n",
       "\t<li>'able'</li>\n",
       "\t<li>'four'</li>\n",
       "\t<li>'given'</li>\n",
       "\t<li>'got'</li>\n",
       "\t<li>'hard'</li>\n",
       "\t<li>'interest'</li>\n",
       "\t<li>'interested'</li>\n",
       "\t<li>'ive'</li>\n",
       "\t<li>'text'</li>\n",
       "\t<li>'time'</li>\n",
       "\t<li>'left'</li>\n",
       "\t<li>'process'</li>\n",
       "\t<li>'things'</li>\n",
       "\t<li>'call'</li>\n",
       "\t<li>'claim'</li>\n",
       "\t<li>'clearly'</li>\n",
       "\t<li>'day'</li>\n",
       "\t<li>'end'</li>\n",
       "\t<li>'exactly'</li>\n",
       "\t<li>'never'</li>\n",
       "\t<li>'part'</li>\n",
       "\t<li>'position'</li>\n",
       "\t<li>'quote'</li>\n",
       "\t<li>'says'</li>\n",
       "\t<li>'based'</li>\n",
       "\t<li>'fine'</li>\n",
       "\t<li>'found'</li>\n",
       "\t<li>'including'</li>\n",
       "\t<li>'states'</li>\n",
       "\t<li>'actually'</li>\n",
       "\t<li>'added'</li>\n",
       "\t<li>'comment'</li>\n",
       "\t<li>'everyone'</li>\n",
       "\t<li>'pretty'</li>\n",
       "\t<li>'check'</li>\n",
       "\t<li>'feel'</li>\n",
       "\t<li>'free'</li>\n",
       "\t<li>'generally'</li>\n",
       "\t<li>'guidelines'</li>\n",
       "\t<li>'leave'</li>\n",
       "\t<li>'notability'</li>\n",
       "\t<li>'people'</li>\n",
       "\t<li>'person'</li>\n",
       "\t<li>'placed'</li>\n",
       "\t<li>'lead'</li>\n",
       "\t<li>'sentence'</li>\n",
       "\t<li>'welcome'</li>\n",
       "\t<li>'response'</li>\n",
       "\t<li>'without'</li>\n",
       "\t<li>'appreciate'</li>\n",
       "\t<li>'fucking'</li>\n",
       "\t<li>'last'</li>\n",
       "\t<li>'two'</li>\n",
       "\t<li>'warning'</li>\n",
       "\t<li>'wish'</li>\n",
       "\t<li>'wont'</li>\n",
       "\t<li>'words'</li>\n",
       "\t<li>'fuck'</li>\n",
       "\t<li>'agree'</li>\n",
       "\t<li>'neutral'</li>\n",
       "\t<li>'possible'</li>\n",
       "\t<li>'research'</li>\n",
       "\t<li>'though'</li>\n",
       "\t<li>'truth'</li>\n",
       "\t<li>'wasnt'</li>\n",
       "\t<li>'appropriate'</li>\n",
       "\t<li>'change'</li>\n",
       "\t<li>'claims'</li>\n",
       "\t<li>'ever'</li>\n",
       "\t<li>'faith'</li>\n",
       "\t<li>'links'</li>\n",
       "\t<li>'mentioned'</li>\n",
       "\t<li>'might'</li>\n",
       "\t<li>'reason'</li>\n",
       "\t<li>'seen'</li>\n",
       "\t<li>'suggest'</li>\n",
       "\t<li>'aware'</li>\n",
       "\t<li>'consensus'</li>\n",
       "\t<li>'course'</li>\n",
       "\t<li>'put'</li>\n",
       "\t<li>'regards'</li>\n",
       "\t<li>'right'</li>\n",
       "\t<li>'seem'</li>\n",
       "\t<li>'show'</li>\n",
       "\t<li>'try'</li>\n",
       "\t<li>'way'</li>\n",
       "\t<li>'wrote'</li>\n",
       "\t<li>'although'</li>\n",
       "\t<li>'become'</li>\n",
       "\t<li>'completely'</li>\n",
       "\t<li>'considered'</li>\n",
       "\t<li>'fact'</li>\n",
       "\t<li>'future'</li>\n",
       "\t<li>'general'</li>\n",
       "\t<li>'message'</li>\n",
       "\t<li>'needed'</li>\n",
       "\t<li>'particular'</li>\n",
       "\t<li>'problem'</li>\n",
       "\t<li>'provide'</li>\n",
       "\t<li>'report'</li>\n",
       "\t<li>'say'</li>\n",
       "\t<li>'statement'</li>\n",
       "\t<li>'thought'</li>\n",
       "\t<li>'times'</li>\n",
       "\t<li>'wanted'</li>\n",
       "\t<li>'country'</li>\n",
       "\t<li>'help'</li>\n",
       "\t<li>'ill'</li>\n",
       "\t<li>'public'</li>\n",
       "\t<li>'reliable'</li>\n",
       "\t<li>'similar'</li>\n",
       "\t<li>'deleting'</li>\n",
       "\t<li>'stuff'</li>\n",
       "\t<li>'obviously'</li>\n",
       "\t<li>'major'</li>\n",
       "\t<li>'problems'</li>\n",
       "\t<li>'another'</li>\n",
       "\t<li>'attack'</li>\n",
       "\t<li>'best'</li>\n",
       "\t<li>'delete'</li>\n",
       "\t<li>'didnt'</li>\n",
       "\t<li>'every'</li>\n",
       "\t<li>'happy'</li>\n",
       "\t<li>'little'</li>\n",
       "\t<li>'long'</li>\n",
       "\t<li>'maybe'</li>\n",
       "\t<li>'name'</li>\n",
       "\t<li>'nice'</li>\n",
       "\t<li>'personal'</li>\n",
       "\t<li>'saying'</li>\n",
       "\t<li>'second'</li>\n",
       "\t<li>'three'</li>\n",
       "\t<li>'within'</li>\n",
       "\t<li>'keep'</li>\n",
       "\t<li>'looks'</li>\n",
       "\t<li>'whether'</li>\n",
       "\t<li>'called'</li>\n",
       "\t<li>'lot'</li>\n",
       "\t<li>'needs'</li>\n",
       "\t<li>'related'</li>\n",
       "\t<li>'project'</li>\n",
       "\t<li>'taking'</li>\n",
       "\t<li>'comments'</li>\n",
       "\t<li>'original'</li>\n",
       "\t<li>'issues'</li>\n",
       "\t<li>'official'</li>\n",
       "\t<li>'reading'</li>\n",
       "\t<li>'state'</li>\n",
       "\t<li>'term'</li>\n",
       "\t<li>'whats'</li>\n",
       "\t<li>'cheers'</li>\n",
       "\t<li>'looking'</li>\n",
       "\t<li>'nothing'</li>\n",
       "\t<li>'american'</li>\n",
       "\t<li>'encyclopedia'</li>\n",
       "\t<li>'give'</li>\n",
       "\t<li>'often'</li>\n",
       "\t<li>'address'</li>\n",
       "\t<li>'explain'</li>\n",
       "\t<li>'policy'</li>\n",
       "\t<li>'summary'</li>\n",
       "\t<li>'wikipedias'</li>\n",
       "\t<li>'answer'</li>\n",
       "\t<li>'evidence'</li>\n",
       "\t<li>'great'</li>\n",
       "\t<li>'known'</li>\n",
       "\t<li>'mention'</li>\n",
       "\t<li>'next'</li>\n",
       "\t<li>'sort'</li>\n",
       "\t<li>'unless'</li>\n",
       "\t<li>'account'</li>\n",
       "\t<li>'changed'</li>\n",
       "\t<li>'learn'</li>\n",
       "\t<li>'removed'</li>\n",
       "\t<li>'sandbox'</li>\n",
       "\t<li>'therefore'</li>\n",
       "\t<li>'english'</li>\n",
       "\t<li>'language'</li>\n",
       "\t<li>'especially'</li>\n",
       "\t<li>'getting'</li>\n",
       "\t<li>'clear'</li>\n",
       "\t<li>'community'</li>\n",
       "\t<li>'names'</li>\n",
       "\t<li>'place'</li>\n",
       "\t<li>'away'</li>\n",
       "\t<li>'entry'</li>\n",
       "\t<li>'important'</li>\n",
       "\t<li>'wiki'</li>\n",
       "\t<li>'kind'</li>\n",
       "\t<li>'today'</li>\n",
       "\t<li>'everything'</li>\n",
       "\t<li>'asked'</li>\n",
       "\t<li>'request'</li>\n",
       "\t<li>'editor'</li>\n",
       "\t<li>'otherwise'</li>\n",
       "\t<li>'users'</li>\n",
       "\t<li>'yet'</li>\n",
       "\t<li>'enough'</li>\n",
       "\t<li>'working'</li>\n",
       "\t<li>'world'</li>\n",
       "\t<li>'whatever'</li>\n",
       "\t<li>'whole'</li>\n",
       "\t<li>'hello'</li>\n",
       "\t<li>'took'</li>\n",
       "\t<li>'material'</li>\n",
       "\t<li>'editors'</li>\n",
       "\t<li>'tried'</li>\n",
       "\t<li>'policies'</li>\n",
       "\t<li>'pov'</li>\n",
       "\t<li>'reply'</li>\n",
       "\t<li>'user'</li>\n",
       "\t<li>'opinion'</li>\n",
       "\t<li>'idea'</li>\n",
       "\t<li>'hes'</li>\n",
       "\t<li>'high'</li>\n",
       "\t<li>'soon'</li>\n",
       "\t<li>'main'</li>\n",
       "\t<li>'ones'</li>\n",
       "\t<li>'reverting'</li>\n",
       "\t<li>'move'</li>\n",
       "\t<li>'title'</li>\n",
       "\t<li>'least'</li>\n",
       "\t<li>'line'</li>\n",
       "\t<li>'provided'</li>\n",
       "\t<li>'sign'</li>\n",
       "\t<li>'love'</li>\n",
       "\t<li>'correct'</li>\n",
       "\t<li>'blocked'</li>\n",
       "\t<li>'vandalize'</li>\n",
       "\t<li>'mind'</li>\n",
       "\t<li>'recently'</li>\n",
       "\t<li>'rules'</li>\n",
       "\t<li>'book'</li>\n",
       "\t<li>'due'</li>\n",
       "\t<li>'big'</li>\n",
       "\t<li>'havent'</li>\n",
       "\t<li>'five'</li>\n",
       "\t<li>'useful'</li>\n",
       "\t<li>'order'</li>\n",
       "\t<li>'days'</li>\n",
       "\t<li>'involved'</li>\n",
       "\t<li>'means'</li>\n",
       "\t<li>'past'</li>\n",
       "\t<li>'stay'</li>\n",
       "\t<li>'decide'</li>\n",
       "</ol>\n"
      ],
      "text/latex": [
       "\\begin{enumerate*}\n",
       "\\item 'dont'\n",
       "\\item 'edits'\n",
       "\\item 'just'\n",
       "\\item 'made'\n",
       "\\item 'new'\n",
       "\\item 'now'\n",
       "\\item 'page'\n",
       "\\item 'please'\n",
       "\\item 'remove'\n",
       "\\item 'reverted'\n",
       "\\item 'since'\n",
       "\\item 'talk'\n",
       "\\item 'template'\n",
       "\\item 'thanks'\n",
       "\\item 'utc'\n",
       "\\item 'care'\n",
       "\\item 'edit'\n",
       "\\item 'guy'\n",
       "\\item 'hey'\n",
       "\\item 'info'\n",
       "\\item 'information'\n",
       "\\item 'instead'\n",
       "\\item 'man'\n",
       "\\item 'really'\n",
       "\\item 'relevant'\n",
       "\\item 'removing'\n",
       "\\item 'seems'\n",
       "\\item 'talking'\n",
       "\\item 'trying'\n",
       "\\item 'war'\n",
       "\\item 'appears'\n",
       "\\item 'articles'\n",
       "\\item 'can'\n",
       "\\item 'cant'\n",
       "\\item 'date'\n",
       "\\item 'else'\n",
       "\\item 'etc'\n",
       "\\item 'first'\n",
       "\\item 'form'\n",
       "\\item 'guess'\n",
       "\\item 'know'\n",
       "\\item 'later'\n",
       "\\item 'let'\n",
       "\\item 'listed'\n",
       "\\item 'make'\n",
       "\\item 'may'\n",
       "\\item 'need'\n",
       "\\item 'real'\n",
       "\\item 'references'\n",
       "\\item 'review'\n",
       "\\item 'section'\n",
       "\\item 'style'\n",
       "\\item 'think'\n",
       "\\item 'want'\n",
       "\\item 'remember'\n",
       "\\item 'thats'\n",
       "\\item 'use'\n",
       "\\item 'well'\n",
       "\\item 'around'\n",
       "\\item 'work'\n",
       "\\item 'article'\n",
       "\\item 'vandalism'\n",
       "\\item 'will'\n",
       "\\item 'almost'\n",
       "\\item 'anything'\n",
       "\\item 'anyway'\n",
       "\\item 'must'\n",
       "\\item 'one'\n",
       "\\item 'reference'\n",
       "\\item 'school'\n",
       "\\item 'someone'\n",
       "\\item 'sorry'\n",
       "\\item 'word'\n",
       "\\item 'write'\n",
       "\\item 'subject'\n",
       "\\item 'add'\n",
       "\\item 'adding'\n",
       "\\item 'already'\n",
       "\\item 'also'\n",
       "\\item 'ask'\n",
       "\\item 'believe'\n",
       "\\item 'consider'\n",
       "\\item 'content'\n",
       "\\item 'contribs'\n",
       "\\item 'contributions'\n",
       "\\item 'copyright'\n",
       "\\item 'create'\n",
       "\\item 'created'\n",
       "\\item 'criteria'\n",
       "\\item 'currently'\n",
       "\\item 'deleted'\n",
       "\\item 'deletion'\n",
       "\\item 'different'\n",
       "\\item 'doesnt'\n",
       "\\item 'edited'\n",
       "\\item 'fair'\n",
       "\\item 'find'\n",
       "\\item 'following'\n",
       "\\item 'full'\n",
       "\\item 'however'\n",
       "\\item 'image'\n",
       "\\item 'images'\n",
       "\\item 'include'\n",
       "\\item 'link'\n",
       "\\item 'list'\n",
       "\\item 'media'\n",
       "\\item 'note'\n",
       "\\item 'notice'\n",
       "\\item 'noticed'\n",
       "\\item 'pages'\n",
       "\\item 'per'\n",
       "\\item 'picture'\n",
       "\\item 'questions'\n",
       "\\item 'see'\n",
       "\\item 'source'\n",
       "\\item 'specific'\n",
       "\\item 'speedy'\n",
       "\\item 'tag'\n",
       "\\item 'taken'\n",
       "\\item 'thank'\n",
       "\\item 'top'\n",
       "\\item 'used'\n",
       "\\item 'using'\n",
       "\\item 'website'\n",
       "\\item 'wikipedia'\n",
       "\\item 'discuss'\n",
       "\\item 'lets'\n",
       "\\item 'good'\n",
       "\\item 'group'\n",
       "\\item 'issue'\n",
       "\\item 'admin'\n",
       "\\item 'argument'\n",
       "\\item 'attacks'\n",
       "\\item 'certainly'\n",
       "\\item 'discussion'\n",
       "\\item 'going'\n",
       "\\item 'isnt'\n",
       "\\item 'like'\n",
       "\\item 'look'\n",
       "\\item 'matter'\n",
       "\\item 'notable'\n",
       "\\item 'perhaps'\n",
       "\\item 'probably'\n",
       "\\item 'quite'\n",
       "\\item 'revert'\n",
       "\\item 'single'\n",
       "\\item 'start'\n",
       "\\item 'topic'\n",
       "\\item 'said'\n",
       "\\item 'started'\n",
       "\\item 'came'\n",
       "\\item 'makes'\n",
       "\\item 'making'\n",
       "\\item 'old'\n",
       "\\item 'stop'\n",
       "\\item 'year'\n",
       "\\item 'years'\n",
       "\\item 'yes'\n",
       "\\item 'back'\n",
       "\\item 'come'\n",
       "\\item 'redirect'\n",
       "\\item 'point'\n",
       "\\item 'sense'\n",
       "\\item 'better'\n",
       "\\item 'even'\n",
       "\\item 'mean'\n",
       "\\item 'posted'\n",
       "\\item 'regarding'\n",
       "\\item 'something'\n",
       "\\item 'take'\n",
       "\\item 'writing'\n",
       "\\item 'youre'\n",
       "\\item 'bad'\n",
       "\\item 'editing'\n",
       "\\item 'many'\n",
       "\\item 'read'\n",
       "\\item 'recent'\n",
       "\\item 'simply'\n",
       "\\item 'according'\n",
       "\\item 'always'\n",
       "\\item 'common'\n",
       "\\item 'facts'\n",
       "\\item 'far'\n",
       "\\item 'get'\n",
       "\\item 'number'\n",
       "\\item 'rather'\n",
       "\\item 'site'\n",
       "\\item 'stated'\n",
       "\\item 'still'\n",
       "\\item 'true'\n",
       "\\item 'anyone'\n",
       "\\item 'changes'\n",
       "\\item 'current'\n",
       "\\item 'either'\n",
       "\\item 'hope'\n",
       "\\item 'less'\n",
       "\\item 'others'\n",
       "\\item 'question'\n",
       "\\item 'reasons'\n",
       "\\item 'support'\n",
       "\\item 'sure'\n",
       "\\item 'understand'\n",
       "\\item 'version'\n",
       "\\item 'view'\n",
       "\\item 'written'\n",
       "\\item 'wrong'\n",
       "\\item 'included'\n",
       "\\item 'several'\n",
       "\\item 'done'\n",
       "\\item 'history'\n",
       "\\item 'sources'\n",
       "\\item 'theres'\n",
       "\\item 'youve'\n",
       "\\item 'case'\n",
       "\\item 'continue'\n",
       "\\item 'tell'\n",
       "\\item 'bit'\n",
       "\\item 'example'\n",
       "\\item 'life'\n",
       "\\item 'block'\n",
       "\\item 'post'\n",
       "\\item 'thing'\n",
       "\\item 'ago'\n",
       "\\item 'much'\n",
       "\\item 'able'\n",
       "\\item 'four'\n",
       "\\item 'given'\n",
       "\\item 'got'\n",
       "\\item 'hard'\n",
       "\\item 'interest'\n",
       "\\item 'interested'\n",
       "\\item 'ive'\n",
       "\\item 'text'\n",
       "\\item 'time'\n",
       "\\item 'left'\n",
       "\\item 'process'\n",
       "\\item 'things'\n",
       "\\item 'call'\n",
       "\\item 'claim'\n",
       "\\item 'clearly'\n",
       "\\item 'day'\n",
       "\\item 'end'\n",
       "\\item 'exactly'\n",
       "\\item 'never'\n",
       "\\item 'part'\n",
       "\\item 'position'\n",
       "\\item 'quote'\n",
       "\\item 'says'\n",
       "\\item 'based'\n",
       "\\item 'fine'\n",
       "\\item 'found'\n",
       "\\item 'including'\n",
       "\\item 'states'\n",
       "\\item 'actually'\n",
       "\\item 'added'\n",
       "\\item 'comment'\n",
       "\\item 'everyone'\n",
       "\\item 'pretty'\n",
       "\\item 'check'\n",
       "\\item 'feel'\n",
       "\\item 'free'\n",
       "\\item 'generally'\n",
       "\\item 'guidelines'\n",
       "\\item 'leave'\n",
       "\\item 'notability'\n",
       "\\item 'people'\n",
       "\\item 'person'\n",
       "\\item 'placed'\n",
       "\\item 'lead'\n",
       "\\item 'sentence'\n",
       "\\item 'welcome'\n",
       "\\item 'response'\n",
       "\\item 'without'\n",
       "\\item 'appreciate'\n",
       "\\item 'fucking'\n",
       "\\item 'last'\n",
       "\\item 'two'\n",
       "\\item 'warning'\n",
       "\\item 'wish'\n",
       "\\item 'wont'\n",
       "\\item 'words'\n",
       "\\item 'fuck'\n",
       "\\item 'agree'\n",
       "\\item 'neutral'\n",
       "\\item 'possible'\n",
       "\\item 'research'\n",
       "\\item 'though'\n",
       "\\item 'truth'\n",
       "\\item 'wasnt'\n",
       "\\item 'appropriate'\n",
       "\\item 'change'\n",
       "\\item 'claims'\n",
       "\\item 'ever'\n",
       "\\item 'faith'\n",
       "\\item 'links'\n",
       "\\item 'mentioned'\n",
       "\\item 'might'\n",
       "\\item 'reason'\n",
       "\\item 'seen'\n",
       "\\item 'suggest'\n",
       "\\item 'aware'\n",
       "\\item 'consensus'\n",
       "\\item 'course'\n",
       "\\item 'put'\n",
       "\\item 'regards'\n",
       "\\item 'right'\n",
       "\\item 'seem'\n",
       "\\item 'show'\n",
       "\\item 'try'\n",
       "\\item 'way'\n",
       "\\item 'wrote'\n",
       "\\item 'although'\n",
       "\\item 'become'\n",
       "\\item 'completely'\n",
       "\\item 'considered'\n",
       "\\item 'fact'\n",
       "\\item 'future'\n",
       "\\item 'general'\n",
       "\\item 'message'\n",
       "\\item 'needed'\n",
       "\\item 'particular'\n",
       "\\item 'problem'\n",
       "\\item 'provide'\n",
       "\\item 'report'\n",
       "\\item 'say'\n",
       "\\item 'statement'\n",
       "\\item 'thought'\n",
       "\\item 'times'\n",
       "\\item 'wanted'\n",
       "\\item 'country'\n",
       "\\item 'help'\n",
       "\\item 'ill'\n",
       "\\item 'public'\n",
       "\\item 'reliable'\n",
       "\\item 'similar'\n",
       "\\item 'deleting'\n",
       "\\item 'stuff'\n",
       "\\item 'obviously'\n",
       "\\item 'major'\n",
       "\\item 'problems'\n",
       "\\item 'another'\n",
       "\\item 'attack'\n",
       "\\item 'best'\n",
       "\\item 'delete'\n",
       "\\item 'didnt'\n",
       "\\item 'every'\n",
       "\\item 'happy'\n",
       "\\item 'little'\n",
       "\\item 'long'\n",
       "\\item 'maybe'\n",
       "\\item 'name'\n",
       "\\item 'nice'\n",
       "\\item 'personal'\n",
       "\\item 'saying'\n",
       "\\item 'second'\n",
       "\\item 'three'\n",
       "\\item 'within'\n",
       "\\item 'keep'\n",
       "\\item 'looks'\n",
       "\\item 'whether'\n",
       "\\item 'called'\n",
       "\\item 'lot'\n",
       "\\item 'needs'\n",
       "\\item 'related'\n",
       "\\item 'project'\n",
       "\\item 'taking'\n",
       "\\item 'comments'\n",
       "\\item 'original'\n",
       "\\item 'issues'\n",
       "\\item 'official'\n",
       "\\item 'reading'\n",
       "\\item 'state'\n",
       "\\item 'term'\n",
       "\\item 'whats'\n",
       "\\item 'cheers'\n",
       "\\item 'looking'\n",
       "\\item 'nothing'\n",
       "\\item 'american'\n",
       "\\item 'encyclopedia'\n",
       "\\item 'give'\n",
       "\\item 'often'\n",
       "\\item 'address'\n",
       "\\item 'explain'\n",
       "\\item 'policy'\n",
       "\\item 'summary'\n",
       "\\item 'wikipedias'\n",
       "\\item 'answer'\n",
       "\\item 'evidence'\n",
       "\\item 'great'\n",
       "\\item 'known'\n",
       "\\item 'mention'\n",
       "\\item 'next'\n",
       "\\item 'sort'\n",
       "\\item 'unless'\n",
       "\\item 'account'\n",
       "\\item 'changed'\n",
       "\\item 'learn'\n",
       "\\item 'removed'\n",
       "\\item 'sandbox'\n",
       "\\item 'therefore'\n",
       "\\item 'english'\n",
       "\\item 'language'\n",
       "\\item 'especially'\n",
       "\\item 'getting'\n",
       "\\item 'clear'\n",
       "\\item 'community'\n",
       "\\item 'names'\n",
       "\\item 'place'\n",
       "\\item 'away'\n",
       "\\item 'entry'\n",
       "\\item 'important'\n",
       "\\item 'wiki'\n",
       "\\item 'kind'\n",
       "\\item 'today'\n",
       "\\item 'everything'\n",
       "\\item 'asked'\n",
       "\\item 'request'\n",
       "\\item 'editor'\n",
       "\\item 'otherwise'\n",
       "\\item 'users'\n",
       "\\item 'yet'\n",
       "\\item 'enough'\n",
       "\\item 'working'\n",
       "\\item 'world'\n",
       "\\item 'whatever'\n",
       "\\item 'whole'\n",
       "\\item 'hello'\n",
       "\\item 'took'\n",
       "\\item 'material'\n",
       "\\item 'editors'\n",
       "\\item 'tried'\n",
       "\\item 'policies'\n",
       "\\item 'pov'\n",
       "\\item 'reply'\n",
       "\\item 'user'\n",
       "\\item 'opinion'\n",
       "\\item 'idea'\n",
       "\\item 'hes'\n",
       "\\item 'high'\n",
       "\\item 'soon'\n",
       "\\item 'main'\n",
       "\\item 'ones'\n",
       "\\item 'reverting'\n",
       "\\item 'move'\n",
       "\\item 'title'\n",
       "\\item 'least'\n",
       "\\item 'line'\n",
       "\\item 'provided'\n",
       "\\item 'sign'\n",
       "\\item 'love'\n",
       "\\item 'correct'\n",
       "\\item 'blocked'\n",
       "\\item 'vandalize'\n",
       "\\item 'mind'\n",
       "\\item 'recently'\n",
       "\\item 'rules'\n",
       "\\item 'book'\n",
       "\\item 'due'\n",
       "\\item 'big'\n",
       "\\item 'havent'\n",
       "\\item 'five'\n",
       "\\item 'useful'\n",
       "\\item 'order'\n",
       "\\item 'days'\n",
       "\\item 'involved'\n",
       "\\item 'means'\n",
       "\\item 'past'\n",
       "\\item 'stay'\n",
       "\\item 'decide'\n",
       "\\end{enumerate*}\n"
      ],
      "text/markdown": [
       "1. 'dont'\n",
       "2. 'edits'\n",
       "3. 'just'\n",
       "4. 'made'\n",
       "5. 'new'\n",
       "6. 'now'\n",
       "7. 'page'\n",
       "8. 'please'\n",
       "9. 'remove'\n",
       "10. 'reverted'\n",
       "11. 'since'\n",
       "12. 'talk'\n",
       "13. 'template'\n",
       "14. 'thanks'\n",
       "15. 'utc'\n",
       "16. 'care'\n",
       "17. 'edit'\n",
       "18. 'guy'\n",
       "19. 'hey'\n",
       "20. 'info'\n",
       "21. 'information'\n",
       "22. 'instead'\n",
       "23. 'man'\n",
       "24. 'really'\n",
       "25. 'relevant'\n",
       "26. 'removing'\n",
       "27. 'seems'\n",
       "28. 'talking'\n",
       "29. 'trying'\n",
       "30. 'war'\n",
       "31. 'appears'\n",
       "32. 'articles'\n",
       "33. 'can'\n",
       "34. 'cant'\n",
       "35. 'date'\n",
       "36. 'else'\n",
       "37. 'etc'\n",
       "38. 'first'\n",
       "39. 'form'\n",
       "40. 'guess'\n",
       "41. 'know'\n",
       "42. 'later'\n",
       "43. 'let'\n",
       "44. 'listed'\n",
       "45. 'make'\n",
       "46. 'may'\n",
       "47. 'need'\n",
       "48. 'real'\n",
       "49. 'references'\n",
       "50. 'review'\n",
       "51. 'section'\n",
       "52. 'style'\n",
       "53. 'think'\n",
       "54. 'want'\n",
       "55. 'remember'\n",
       "56. 'thats'\n",
       "57. 'use'\n",
       "58. 'well'\n",
       "59. 'around'\n",
       "60. 'work'\n",
       "61. 'article'\n",
       "62. 'vandalism'\n",
       "63. 'will'\n",
       "64. 'almost'\n",
       "65. 'anything'\n",
       "66. 'anyway'\n",
       "67. 'must'\n",
       "68. 'one'\n",
       "69. 'reference'\n",
       "70. 'school'\n",
       "71. 'someone'\n",
       "72. 'sorry'\n",
       "73. 'word'\n",
       "74. 'write'\n",
       "75. 'subject'\n",
       "76. 'add'\n",
       "77. 'adding'\n",
       "78. 'already'\n",
       "79. 'also'\n",
       "80. 'ask'\n",
       "81. 'believe'\n",
       "82. 'consider'\n",
       "83. 'content'\n",
       "84. 'contribs'\n",
       "85. 'contributions'\n",
       "86. 'copyright'\n",
       "87. 'create'\n",
       "88. 'created'\n",
       "89. 'criteria'\n",
       "90. 'currently'\n",
       "91. 'deleted'\n",
       "92. 'deletion'\n",
       "93. 'different'\n",
       "94. 'doesnt'\n",
       "95. 'edited'\n",
       "96. 'fair'\n",
       "97. 'find'\n",
       "98. 'following'\n",
       "99. 'full'\n",
       "100. 'however'\n",
       "101. 'image'\n",
       "102. 'images'\n",
       "103. 'include'\n",
       "104. 'link'\n",
       "105. 'list'\n",
       "106. 'media'\n",
       "107. 'note'\n",
       "108. 'notice'\n",
       "109. 'noticed'\n",
       "110. 'pages'\n",
       "111. 'per'\n",
       "112. 'picture'\n",
       "113. 'questions'\n",
       "114. 'see'\n",
       "115. 'source'\n",
       "116. 'specific'\n",
       "117. 'speedy'\n",
       "118. 'tag'\n",
       "119. 'taken'\n",
       "120. 'thank'\n",
       "121. 'top'\n",
       "122. 'used'\n",
       "123. 'using'\n",
       "124. 'website'\n",
       "125. 'wikipedia'\n",
       "126. 'discuss'\n",
       "127. 'lets'\n",
       "128. 'good'\n",
       "129. 'group'\n",
       "130. 'issue'\n",
       "131. 'admin'\n",
       "132. 'argument'\n",
       "133. 'attacks'\n",
       "134. 'certainly'\n",
       "135. 'discussion'\n",
       "136. 'going'\n",
       "137. 'isnt'\n",
       "138. 'like'\n",
       "139. 'look'\n",
       "140. 'matter'\n",
       "141. 'notable'\n",
       "142. 'perhaps'\n",
       "143. 'probably'\n",
       "144. 'quite'\n",
       "145. 'revert'\n",
       "146. 'single'\n",
       "147. 'start'\n",
       "148. 'topic'\n",
       "149. 'said'\n",
       "150. 'started'\n",
       "151. 'came'\n",
       "152. 'makes'\n",
       "153. 'making'\n",
       "154. 'old'\n",
       "155. 'stop'\n",
       "156. 'year'\n",
       "157. 'years'\n",
       "158. 'yes'\n",
       "159. 'back'\n",
       "160. 'come'\n",
       "161. 'redirect'\n",
       "162. 'point'\n",
       "163. 'sense'\n",
       "164. 'better'\n",
       "165. 'even'\n",
       "166. 'mean'\n",
       "167. 'posted'\n",
       "168. 'regarding'\n",
       "169. 'something'\n",
       "170. 'take'\n",
       "171. 'writing'\n",
       "172. 'youre'\n",
       "173. 'bad'\n",
       "174. 'editing'\n",
       "175. 'many'\n",
       "176. 'read'\n",
       "177. 'recent'\n",
       "178. 'simply'\n",
       "179. 'according'\n",
       "180. 'always'\n",
       "181. 'common'\n",
       "182. 'facts'\n",
       "183. 'far'\n",
       "184. 'get'\n",
       "185. 'number'\n",
       "186. 'rather'\n",
       "187. 'site'\n",
       "188. 'stated'\n",
       "189. 'still'\n",
       "190. 'true'\n",
       "191. 'anyone'\n",
       "192. 'changes'\n",
       "193. 'current'\n",
       "194. 'either'\n",
       "195. 'hope'\n",
       "196. 'less'\n",
       "197. 'others'\n",
       "198. 'question'\n",
       "199. 'reasons'\n",
       "200. 'support'\n",
       "201. 'sure'\n",
       "202. 'understand'\n",
       "203. 'version'\n",
       "204. 'view'\n",
       "205. 'written'\n",
       "206. 'wrong'\n",
       "207. 'included'\n",
       "208. 'several'\n",
       "209. 'done'\n",
       "210. 'history'\n",
       "211. 'sources'\n",
       "212. 'theres'\n",
       "213. 'youve'\n",
       "214. 'case'\n",
       "215. 'continue'\n",
       "216. 'tell'\n",
       "217. 'bit'\n",
       "218. 'example'\n",
       "219. 'life'\n",
       "220. 'block'\n",
       "221. 'post'\n",
       "222. 'thing'\n",
       "223. 'ago'\n",
       "224. 'much'\n",
       "225. 'able'\n",
       "226. 'four'\n",
       "227. 'given'\n",
       "228. 'got'\n",
       "229. 'hard'\n",
       "230. 'interest'\n",
       "231. 'interested'\n",
       "232. 'ive'\n",
       "233. 'text'\n",
       "234. 'time'\n",
       "235. 'left'\n",
       "236. 'process'\n",
       "237. 'things'\n",
       "238. 'call'\n",
       "239. 'claim'\n",
       "240. 'clearly'\n",
       "241. 'day'\n",
       "242. 'end'\n",
       "243. 'exactly'\n",
       "244. 'never'\n",
       "245. 'part'\n",
       "246. 'position'\n",
       "247. 'quote'\n",
       "248. 'says'\n",
       "249. 'based'\n",
       "250. 'fine'\n",
       "251. 'found'\n",
       "252. 'including'\n",
       "253. 'states'\n",
       "254. 'actually'\n",
       "255. 'added'\n",
       "256. 'comment'\n",
       "257. 'everyone'\n",
       "258. 'pretty'\n",
       "259. 'check'\n",
       "260. 'feel'\n",
       "261. 'free'\n",
       "262. 'generally'\n",
       "263. 'guidelines'\n",
       "264. 'leave'\n",
       "265. 'notability'\n",
       "266. 'people'\n",
       "267. 'person'\n",
       "268. 'placed'\n",
       "269. 'lead'\n",
       "270. 'sentence'\n",
       "271. 'welcome'\n",
       "272. 'response'\n",
       "273. 'without'\n",
       "274. 'appreciate'\n",
       "275. 'fucking'\n",
       "276. 'last'\n",
       "277. 'two'\n",
       "278. 'warning'\n",
       "279. 'wish'\n",
       "280. 'wont'\n",
       "281. 'words'\n",
       "282. 'fuck'\n",
       "283. 'agree'\n",
       "284. 'neutral'\n",
       "285. 'possible'\n",
       "286. 'research'\n",
       "287. 'though'\n",
       "288. 'truth'\n",
       "289. 'wasnt'\n",
       "290. 'appropriate'\n",
       "291. 'change'\n",
       "292. 'claims'\n",
       "293. 'ever'\n",
       "294. 'faith'\n",
       "295. 'links'\n",
       "296. 'mentioned'\n",
       "297. 'might'\n",
       "298. 'reason'\n",
       "299. 'seen'\n",
       "300. 'suggest'\n",
       "301. 'aware'\n",
       "302. 'consensus'\n",
       "303. 'course'\n",
       "304. 'put'\n",
       "305. 'regards'\n",
       "306. 'right'\n",
       "307. 'seem'\n",
       "308. 'show'\n",
       "309. 'try'\n",
       "310. 'way'\n",
       "311. 'wrote'\n",
       "312. 'although'\n",
       "313. 'become'\n",
       "314. 'completely'\n",
       "315. 'considered'\n",
       "316. 'fact'\n",
       "317. 'future'\n",
       "318. 'general'\n",
       "319. 'message'\n",
       "320. 'needed'\n",
       "321. 'particular'\n",
       "322. 'problem'\n",
       "323. 'provide'\n",
       "324. 'report'\n",
       "325. 'say'\n",
       "326. 'statement'\n",
       "327. 'thought'\n",
       "328. 'times'\n",
       "329. 'wanted'\n",
       "330. 'country'\n",
       "331. 'help'\n",
       "332. 'ill'\n",
       "333. 'public'\n",
       "334. 'reliable'\n",
       "335. 'similar'\n",
       "336. 'deleting'\n",
       "337. 'stuff'\n",
       "338. 'obviously'\n",
       "339. 'major'\n",
       "340. 'problems'\n",
       "341. 'another'\n",
       "342. 'attack'\n",
       "343. 'best'\n",
       "344. 'delete'\n",
       "345. 'didnt'\n",
       "346. 'every'\n",
       "347. 'happy'\n",
       "348. 'little'\n",
       "349. 'long'\n",
       "350. 'maybe'\n",
       "351. 'name'\n",
       "352. 'nice'\n",
       "353. 'personal'\n",
       "354. 'saying'\n",
       "355. 'second'\n",
       "356. 'three'\n",
       "357. 'within'\n",
       "358. 'keep'\n",
       "359. 'looks'\n",
       "360. 'whether'\n",
       "361. 'called'\n",
       "362. 'lot'\n",
       "363. 'needs'\n",
       "364. 'related'\n",
       "365. 'project'\n",
       "366. 'taking'\n",
       "367. 'comments'\n",
       "368. 'original'\n",
       "369. 'issues'\n",
       "370. 'official'\n",
       "371. 'reading'\n",
       "372. 'state'\n",
       "373. 'term'\n",
       "374. 'whats'\n",
       "375. 'cheers'\n",
       "376. 'looking'\n",
       "377. 'nothing'\n",
       "378. 'american'\n",
       "379. 'encyclopedia'\n",
       "380. 'give'\n",
       "381. 'often'\n",
       "382. 'address'\n",
       "383. 'explain'\n",
       "384. 'policy'\n",
       "385. 'summary'\n",
       "386. 'wikipedias'\n",
       "387. 'answer'\n",
       "388. 'evidence'\n",
       "389. 'great'\n",
       "390. 'known'\n",
       "391. 'mention'\n",
       "392. 'next'\n",
       "393. 'sort'\n",
       "394. 'unless'\n",
       "395. 'account'\n",
       "396. 'changed'\n",
       "397. 'learn'\n",
       "398. 'removed'\n",
       "399. 'sandbox'\n",
       "400. 'therefore'\n",
       "401. 'english'\n",
       "402. 'language'\n",
       "403. 'especially'\n",
       "404. 'getting'\n",
       "405. 'clear'\n",
       "406. 'community'\n",
       "407. 'names'\n",
       "408. 'place'\n",
       "409. 'away'\n",
       "410. 'entry'\n",
       "411. 'important'\n",
       "412. 'wiki'\n",
       "413. 'kind'\n",
       "414. 'today'\n",
       "415. 'everything'\n",
       "416. 'asked'\n",
       "417. 'request'\n",
       "418. 'editor'\n",
       "419. 'otherwise'\n",
       "420. 'users'\n",
       "421. 'yet'\n",
       "422. 'enough'\n",
       "423. 'working'\n",
       "424. 'world'\n",
       "425. 'whatever'\n",
       "426. 'whole'\n",
       "427. 'hello'\n",
       "428. 'took'\n",
       "429. 'material'\n",
       "430. 'editors'\n",
       "431. 'tried'\n",
       "432. 'policies'\n",
       "433. 'pov'\n",
       "434. 'reply'\n",
       "435. 'user'\n",
       "436. 'opinion'\n",
       "437. 'idea'\n",
       "438. 'hes'\n",
       "439. 'high'\n",
       "440. 'soon'\n",
       "441. 'main'\n",
       "442. 'ones'\n",
       "443. 'reverting'\n",
       "444. 'move'\n",
       "445. 'title'\n",
       "446. 'least'\n",
       "447. 'line'\n",
       "448. 'provided'\n",
       "449. 'sign'\n",
       "450. 'love'\n",
       "451. 'correct'\n",
       "452. 'blocked'\n",
       "453. 'vandalize'\n",
       "454. 'mind'\n",
       "455. 'recently'\n",
       "456. 'rules'\n",
       "457. 'book'\n",
       "458. 'due'\n",
       "459. 'big'\n",
       "460. 'havent'\n",
       "461. 'five'\n",
       "462. 'useful'\n",
       "463. 'order'\n",
       "464. 'days'\n",
       "465. 'involved'\n",
       "466. 'means'\n",
       "467. 'past'\n",
       "468. 'stay'\n",
       "469. 'decide'\n",
       "\n",
       "\n"
      ],
      "text/plain": [
       "  [1] \"dont\"          \"edits\"         \"just\"          \"made\"         \n",
       "  [5] \"new\"           \"now\"           \"page\"          \"please\"       \n",
       "  [9] \"remove\"        \"reverted\"      \"since\"         \"talk\"         \n",
       " [13] \"template\"      \"thanks\"        \"utc\"           \"care\"         \n",
       " [17] \"edit\"          \"guy\"           \"hey\"           \"info\"         \n",
       " [21] \"information\"   \"instead\"       \"man\"           \"really\"       \n",
       " [25] \"relevant\"      \"removing\"      \"seems\"         \"talking\"      \n",
       " [29] \"trying\"        \"war\"           \"appears\"       \"articles\"     \n",
       " [33] \"can\"           \"cant\"          \"date\"          \"else\"         \n",
       " [37] \"etc\"           \"first\"         \"form\"          \"guess\"        \n",
       " [41] \"know\"          \"later\"         \"let\"           \"listed\"       \n",
       " [45] \"make\"          \"may\"           \"need\"          \"real\"         \n",
       " [49] \"references\"    \"review\"        \"section\"       \"style\"        \n",
       " [53] \"think\"         \"want\"          \"remember\"      \"thats\"        \n",
       " [57] \"use\"           \"well\"          \"around\"        \"work\"         \n",
       " [61] \"article\"       \"vandalism\"     \"will\"          \"almost\"       \n",
       " [65] \"anything\"      \"anyway\"        \"must\"          \"one\"          \n",
       " [69] \"reference\"     \"school\"        \"someone\"       \"sorry\"        \n",
       " [73] \"word\"          \"write\"         \"subject\"       \"add\"          \n",
       " [77] \"adding\"        \"already\"       \"also\"          \"ask\"          \n",
       " [81] \"believe\"       \"consider\"      \"content\"       \"contribs\"     \n",
       " [85] \"contributions\" \"copyright\"     \"create\"        \"created\"      \n",
       " [89] \"criteria\"      \"currently\"     \"deleted\"       \"deletion\"     \n",
       " [93] \"different\"     \"doesnt\"        \"edited\"        \"fair\"         \n",
       " [97] \"find\"          \"following\"     \"full\"          \"however\"      \n",
       "[101] \"image\"         \"images\"        \"include\"       \"link\"         \n",
       "[105] \"list\"          \"media\"         \"note\"          \"notice\"       \n",
       "[109] \"noticed\"       \"pages\"         \"per\"           \"picture\"      \n",
       "[113] \"questions\"     \"see\"           \"source\"        \"specific\"     \n",
       "[117] \"speedy\"        \"tag\"           \"taken\"         \"thank\"        \n",
       "[121] \"top\"           \"used\"          \"using\"         \"website\"      \n",
       "[125] \"wikipedia\"     \"discuss\"       \"lets\"          \"good\"         \n",
       "[129] \"group\"         \"issue\"         \"admin\"         \"argument\"     \n",
       "[133] \"attacks\"       \"certainly\"     \"discussion\"    \"going\"        \n",
       "[137] \"isnt\"          \"like\"          \"look\"          \"matter\"       \n",
       "[141] \"notable\"       \"perhaps\"       \"probably\"      \"quite\"        \n",
       "[145] \"revert\"        \"single\"        \"start\"         \"topic\"        \n",
       "[149] \"said\"          \"started\"       \"came\"          \"makes\"        \n",
       "[153] \"making\"        \"old\"           \"stop\"          \"year\"         \n",
       "[157] \"years\"         \"yes\"           \"back\"          \"come\"         \n",
       "[161] \"redirect\"      \"point\"         \"sense\"         \"better\"       \n",
       "[165] \"even\"          \"mean\"          \"posted\"        \"regarding\"    \n",
       "[169] \"something\"     \"take\"          \"writing\"       \"youre\"        \n",
       "[173] \"bad\"           \"editing\"       \"many\"          \"read\"         \n",
       "[177] \"recent\"        \"simply\"        \"according\"     \"always\"       \n",
       "[181] \"common\"        \"facts\"         \"far\"           \"get\"          \n",
       "[185] \"number\"        \"rather\"        \"site\"          \"stated\"       \n",
       "[189] \"still\"         \"true\"          \"anyone\"        \"changes\"      \n",
       "[193] \"current\"       \"either\"        \"hope\"          \"less\"         \n",
       "[197] \"others\"        \"question\"      \"reasons\"       \"support\"      \n",
       "[201] \"sure\"          \"understand\"    \"version\"       \"view\"         \n",
       "[205] \"written\"       \"wrong\"         \"included\"      \"several\"      \n",
       "[209] \"done\"          \"history\"       \"sources\"       \"theres\"       \n",
       "[213] \"youve\"         \"case\"          \"continue\"      \"tell\"         \n",
       "[217] \"bit\"           \"example\"       \"life\"          \"block\"        \n",
       "[221] \"post\"          \"thing\"         \"ago\"           \"much\"         \n",
       "[225] \"able\"          \"four\"          \"given\"         \"got\"          \n",
       "[229] \"hard\"          \"interest\"      \"interested\"    \"ive\"          \n",
       "[233] \"text\"          \"time\"          \"left\"          \"process\"      \n",
       "[237] \"things\"        \"call\"          \"claim\"         \"clearly\"      \n",
       "[241] \"day\"           \"end\"           \"exactly\"       \"never\"        \n",
       "[245] \"part\"          \"position\"      \"quote\"         \"says\"         \n",
       "[249] \"based\"         \"fine\"          \"found\"         \"including\"    \n",
       "[253] \"states\"        \"actually\"      \"added\"         \"comment\"      \n",
       "[257] \"everyone\"      \"pretty\"        \"check\"         \"feel\"         \n",
       "[261] \"free\"          \"generally\"     \"guidelines\"    \"leave\"        \n",
       "[265] \"notability\"    \"people\"        \"person\"        \"placed\"       \n",
       "[269] \"lead\"          \"sentence\"      \"welcome\"       \"response\"     \n",
       "[273] \"without\"       \"appreciate\"    \"fucking\"       \"last\"         \n",
       "[277] \"two\"           \"warning\"       \"wish\"          \"wont\"         \n",
       "[281] \"words\"         \"fuck\"          \"agree\"         \"neutral\"      \n",
       "[285] \"possible\"      \"research\"      \"though\"        \"truth\"        \n",
       "[289] \"wasnt\"         \"appropriate\"   \"change\"        \"claims\"       \n",
       "[293] \"ever\"          \"faith\"         \"links\"         \"mentioned\"    \n",
       "[297] \"might\"         \"reason\"        \"seen\"          \"suggest\"      \n",
       "[301] \"aware\"         \"consensus\"     \"course\"        \"put\"          \n",
       "[305] \"regards\"       \"right\"         \"seem\"          \"show\"         \n",
       "[309] \"try\"           \"way\"           \"wrote\"         \"although\"     \n",
       "[313] \"become\"        \"completely\"    \"considered\"    \"fact\"         \n",
       "[317] \"future\"        \"general\"       \"message\"       \"needed\"       \n",
       "[321] \"particular\"    \"problem\"       \"provide\"       \"report\"       \n",
       "[325] \"say\"           \"statement\"     \"thought\"       \"times\"        \n",
       "[329] \"wanted\"        \"country\"       \"help\"          \"ill\"          \n",
       "[333] \"public\"        \"reliable\"      \"similar\"       \"deleting\"     \n",
       "[337] \"stuff\"         \"obviously\"     \"major\"         \"problems\"     \n",
       "[341] \"another\"       \"attack\"        \"best\"          \"delete\"       \n",
       "[345] \"didnt\"         \"every\"         \"happy\"         \"little\"       \n",
       "[349] \"long\"          \"maybe\"         \"name\"          \"nice\"         \n",
       "[353] \"personal\"      \"saying\"        \"second\"        \"three\"        \n",
       "[357] \"within\"        \"keep\"          \"looks\"         \"whether\"      \n",
       "[361] \"called\"        \"lot\"           \"needs\"         \"related\"      \n",
       "[365] \"project\"       \"taking\"        \"comments\"      \"original\"     \n",
       "[369] \"issues\"        \"official\"      \"reading\"       \"state\"        \n",
       "[373] \"term\"          \"whats\"         \"cheers\"        \"looking\"      \n",
       "[377] \"nothing\"       \"american\"      \"encyclopedia\"  \"give\"         \n",
       "[381] \"often\"         \"address\"       \"explain\"       \"policy\"       \n",
       "[385] \"summary\"       \"wikipedias\"    \"answer\"        \"evidence\"     \n",
       "[389] \"great\"         \"known\"         \"mention\"       \"next\"         \n",
       "[393] \"sort\"          \"unless\"        \"account\"       \"changed\"      \n",
       "[397] \"learn\"         \"removed\"       \"sandbox\"       \"therefore\"    \n",
       "[401] \"english\"       \"language\"      \"especially\"    \"getting\"      \n",
       "[405] \"clear\"         \"community\"     \"names\"         \"place\"        \n",
       "[409] \"away\"          \"entry\"         \"important\"     \"wiki\"         \n",
       "[413] \"kind\"          \"today\"         \"everything\"    \"asked\"        \n",
       "[417] \"request\"       \"editor\"        \"otherwise\"     \"users\"        \n",
       "[421] \"yet\"           \"enough\"        \"working\"       \"world\"        \n",
       "[425] \"whatever\"      \"whole\"         \"hello\"         \"took\"         \n",
       "[429] \"material\"      \"editors\"       \"tried\"         \"policies\"     \n",
       "[433] \"pov\"           \"reply\"         \"user\"          \"opinion\"      \n",
       "[437] \"idea\"          \"hes\"           \"high\"          \"soon\"         \n",
       "[441] \"main\"          \"ones\"          \"reverting\"     \"move\"         \n",
       "[445] \"title\"         \"least\"         \"line\"          \"provided\"     \n",
       "[449] \"sign\"          \"love\"          \"correct\"       \"blocked\"      \n",
       "[453] \"vandalize\"     \"mind\"          \"recently\"      \"rules\"        \n",
       "[457] \"book\"          \"due\"           \"big\"           \"havent\"       \n",
       "[461] \"five\"          \"useful\"        \"order\"         \"days\"         \n",
       "[465] \"involved\"      \"means\"         \"past\"          \"stay\"         \n",
       "[469] \"decide\"       "
      ]
     },
     "metadata": {},
     "output_type": "display_data"
    }
   ],
   "source": [
    "findFreqTerms(review_dtm, 1000)"
   ]
  },
  {
   "cell_type": "code",
   "execution_count": null,
   "metadata": {},
   "outputs": [],
   "source": [
    "Now we can draw a simple word cloud"
   ]
  },
  {
   "cell_type": "code",
   "execution_count": 38,
   "metadata": {},
   "outputs": [
    {
     "data": {
      "image/png": "[encoded data removed]",
      "text/plain": [
       "plot without title"
      ]
     },
     "metadata": {},
     "output_type": "display_data"
    }
   ],
   "source": [
    "freq = data.frame(sort(colSums(as.matrix(review_dtm)), decreasing=TRUE))\n",
    "wordcloud(rownames(freq), freq[,1], max.words=150, colors=brewer.pal(3, \"Dark2\"))\n"
   ]
  },
  {
   "cell_type": "markdown",
   "metadata": {},
   "source": [
    "One may think that in the wordcloud, words such as article, wikipedia, do not carry too much meaning in the setting, since we know that the entire corpus is about comments. Therefore sometimes it is necessary to use the tf–idf(term frequency–inverse document frequency) instead of the frequencies of the term as entries, tf-idf measures the relative importance of a word to a document."
   ]
  },
  {
   "cell_type": "code",
   "execution_count": 39,
   "metadata": {},
   "outputs": [
    {
     "name": "stderr",
     "output_type": "stream",
     "text": [
      "Warning message in weighting(x):\n",
      "\"empty document(s): 2408 3991 4483 6064 6301 8847 9396 17312 23096 23530 25719 31073 34618 37379 38314 43294 47073 52443 53182 53788 61759 64305 67341 71721 74760 74777 79777 82233 82682 82928 85303 93868 96829 100783 104001 110161 110515 114173 119900 124455 124620 125838 126953 129075 132066 135121 139977 140478 142860 146127 147918 148866 150920 151380 152818 153316 153976 158745\""
     ]
    },
    {
     "data": {
      "text/plain": [
       "<<DocumentTermMatrix (documents: 159571, terms: 38)>>\n",
       "Non-/sparse entries: 557640/5506058\n",
       "Sparsity           : 91%\n",
       "Maximal term length: 11\n",
       "Weighting          : term frequency - inverse document frequency (normalized) (tf-idf)"
      ]
     },
     "metadata": {},
     "output_type": "display_data"
    }
   ],
   "source": [
    "review_dtm_tfidf <- DocumentTermMatrix(comment_corpus, control = list(weighting = weightTfIdf))\n",
    "review_dtm_tfidf = removeSparseTerms(review_dtm_tfidf, 0.95)\n",
    "review_dtm_tfidf"
   ]
  },
  {
   "cell_type": "code",
   "execution_count": 40,
   "metadata": {},
   "outputs": [
    {
     "name": "stdout",
     "output_type": "stream",
     "text": [
      "<<DocumentTermMatrix (documents: 1, terms: 20)>>\n",
      "Non-/sparse entries: 7/13\n",
      "Sparsity           : 65%\n",
      "Maximal term length: 11\n",
      "Weighting          : term frequency - inverse document frequency (normalized) (tf-idf)\n",
      "Sample             :\n",
      "    Terms\n",
      "Docs      dont edit information      just      made       now       page\n",
      "   1 0.1113484    0           0 0.1059795 0.1594095 0.1368131 0.09403139\n",
      "    Terms\n",
      "Docs    please      talk thanks\n",
      "   1 0.1056423 0.1044466      0\n"
     ]
    }
   ],
   "source": [
    "# The first document\n",
    "inspect(review_dtm_tfidf[1,1:20])"
   ]
  },
  {
   "cell_type": "markdown",
   "metadata": {},
   "source": [
    "Now let's build another wordcloud for the above"
   ]
  },
  {
   "cell_type": "code",
   "execution_count": 41,
   "metadata": {},
   "outputs": [
    {
     "data": {
      "image/png": "[encoded data removed]",
      "text/plain": [
       "plot without title"
      ]
     },
     "metadata": {},
     "output_type": "display_data"
    }
   ],
   "source": [
    "freq = data.frame(sort(colSums(as.matrix(review_dtm_tfidf)), decreasing=TRUE))\n",
    "wordcloud(rownames(freq), freq[,1], max.words=100, colors=brewer.pal(3, \"Dark2\"))"
   ]
  },
  {
   "cell_type": "markdown",
   "metadata": {},
   "source": [
    "Alright, right away let's build a base model using logistic regression from the above and check our accuracy"
   ]
  },
  {
   "cell_type": "code",
   "execution_count": 42,
   "metadata": {},
   "outputs": [],
   "source": [
    "comment2 = cbind(comment, as.matrix(review_dtm_tfidf))"
   ]
  },
  {
   "cell_type": "code",
   "execution_count": 43,
   "metadata": {},
   "outputs": [],
   "source": [
    "#split the train data into train and validation\n",
    "id_train <- sample(nrow(comment2),nrow(comment2)*0.70)\n",
    "tr = comment2[id_train,]\n",
    "val = comment2[-id_train,]"
   ]
  },
  {
   "cell_type": "code",
   "execution_count": 44,
   "metadata": {},
   "outputs": [
    {
     "data": {
      "text/html": [
       "<ol class=list-inline>\n",
       "\t<li>'id'</li>\n",
       "\t<li>'comment_text'</li>\n",
       "\t<li>'toxic'</li>\n",
       "\t<li>'severe_toxic'</li>\n",
       "\t<li>'obscene'</li>\n",
       "\t<li>'threat'</li>\n",
       "\t<li>'insult'</li>\n",
       "\t<li>'identity_hate'</li>\n",
       "\t<li>'dont'</li>\n",
       "\t<li>'just'</li>\n",
       "\t<li>'made'</li>\n",
       "\t<li>'now'</li>\n",
       "\t<li>'page'</li>\n",
       "\t<li>'please'</li>\n",
       "\t<li>'talk'</li>\n",
       "\t<li>'thanks'</li>\n",
       "\t<li>'edit'</li>\n",
       "\t<li>'information'</li>\n",
       "\t<li>'articles'</li>\n",
       "\t<li>'can'</li>\n",
       "\t<li>'first'</li>\n",
       "\t<li>'know'</li>\n",
       "\t<li>'make'</li>\n",
       "\t<li>'may'</li>\n",
       "\t<li>'need'</li>\n",
       "\t<li>'think'</li>\n",
       "\t<li>'want'</li>\n",
       "\t<li>'use'</li>\n",
       "\t<li>'well'</li>\n",
       "\t<li>'article'</li>\n",
       "\t<li>'will'</li>\n",
       "\t<li>'one'</li>\n",
       "\t<li>'also'</li>\n",
       "\t<li>'see'</li>\n",
       "\t<li>'thank'</li>\n",
       "\t<li>'wikipedia'</li>\n",
       "\t<li>'good'</li>\n",
       "\t<li>'like'</li>\n",
       "\t<li>'even'</li>\n",
       "\t<li>'editing'</li>\n",
       "\t<li>'get'</li>\n",
       "\t<li>'much'</li>\n",
       "\t<li>'time'</li>\n",
       "\t<li>'people'</li>\n",
       "\t<li>'way'</li>\n",
       "\t<li>'say'</li>\n",
       "</ol>\n"
      ],
      "text/latex": [
       "\\begin{enumerate*}\n",
       "\\item 'id'\n",
       "\\item 'comment\\_text'\n",
       "\\item 'toxic'\n",
       "\\item 'severe\\_toxic'\n",
       "\\item 'obscene'\n",
       "\\item 'threat'\n",
       "\\item 'insult'\n",
       "\\item 'identity\\_hate'\n",
       "\\item 'dont'\n",
       "\\item 'just'\n",
       "\\item 'made'\n",
       "\\item 'now'\n",
       "\\item 'page'\n",
       "\\item 'please'\n",
       "\\item 'talk'\n",
       "\\item 'thanks'\n",
       "\\item 'edit'\n",
       "\\item 'information'\n",
       "\\item 'articles'\n",
       "\\item 'can'\n",
       "\\item 'first'\n",
       "\\item 'know'\n",
       "\\item 'make'\n",
       "\\item 'may'\n",
       "\\item 'need'\n",
       "\\item 'think'\n",
       "\\item 'want'\n",
       "\\item 'use'\n",
       "\\item 'well'\n",
       "\\item 'article'\n",
       "\\item 'will'\n",
       "\\item 'one'\n",
       "\\item 'also'\n",
       "\\item 'see'\n",
       "\\item 'thank'\n",
       "\\item 'wikipedia'\n",
       "\\item 'good'\n",
       "\\item 'like'\n",
       "\\item 'even'\n",
       "\\item 'editing'\n",
       "\\item 'get'\n",
       "\\item 'much'\n",
       "\\item 'time'\n",
       "\\item 'people'\n",
       "\\item 'way'\n",
       "\\item 'say'\n",
       "\\end{enumerate*}\n"
      ],
      "text/markdown": [
       "1. 'id'\n",
       "2. 'comment_text'\n",
       "3. 'toxic'\n",
       "4. 'severe_toxic'\n",
       "5. 'obscene'\n",
       "6. 'threat'\n",
       "7. 'insult'\n",
       "8. 'identity_hate'\n",
       "9. 'dont'\n",
       "10. 'just'\n",
       "11. 'made'\n",
       "12. 'now'\n",
       "13. 'page'\n",
       "14. 'please'\n",
       "15. 'talk'\n",
       "16. 'thanks'\n",
       "17. 'edit'\n",
       "18. 'information'\n",
       "19. 'articles'\n",
       "20. 'can'\n",
       "21. 'first'\n",
       "22. 'know'\n",
       "23. 'make'\n",
       "24. 'may'\n",
       "25. 'need'\n",
       "26. 'think'\n",
       "27. 'want'\n",
       "28. 'use'\n",
       "29. 'well'\n",
       "30. 'article'\n",
       "31. 'will'\n",
       "32. 'one'\n",
       "33. 'also'\n",
       "34. 'see'\n",
       "35. 'thank'\n",
       "36. 'wikipedia'\n",
       "37. 'good'\n",
       "38. 'like'\n",
       "39. 'even'\n",
       "40. 'editing'\n",
       "41. 'get'\n",
       "42. 'much'\n",
       "43. 'time'\n",
       "44. 'people'\n",
       "45. 'way'\n",
       "46. 'say'\n",
       "\n",
       "\n"
      ],
      "text/plain": [
       " [1] \"id\"            \"comment_text\"  \"toxic\"         \"severe_toxic\" \n",
       " [5] \"obscene\"       \"threat\"        \"insult\"        \"identity_hate\"\n",
       " [9] \"dont\"          \"just\"          \"made\"          \"now\"          \n",
       "[13] \"page\"          \"please\"        \"talk\"          \"thanks\"       \n",
       "[17] \"edit\"          \"information\"   \"articles\"      \"can\"          \n",
       "[21] \"first\"         \"know\"          \"make\"          \"may\"          \n",
       "[25] \"need\"          \"think\"         \"want\"          \"use\"          \n",
       "[29] \"well\"          \"article\"       \"will\"          \"one\"          \n",
       "[33] \"also\"          \"see\"           \"thank\"         \"wikipedia\"    \n",
       "[37] \"good\"          \"like\"          \"even\"          \"editing\"      \n",
       "[41] \"get\"           \"much\"          \"time\"          \"people\"       \n",
       "[45] \"way\"           \"say\"          "
      ]
     },
     "metadata": {},
     "output_type": "display_data"
    }
   ],
   "source": [
    "names(tr)"
   ]
  },
  {
   "cell_type": "code",
   "execution_count": 45,
   "metadata": {},
   "outputs": [],
   "source": [
    "toxic.glm = glm(toxic~ ., family = binomial(link = 'logit'), data = subset(tr,select = -c(1,2,4,5,6,7,8)), maxit = 100)"
   ]
  },
  {
   "cell_type": "code",
   "execution_count": 46,
   "metadata": {},
   "outputs": [
    {
     "data": {
      "text/html": [
       "<ol class=list-inline>\n",
       "\t<li>'id'</li>\n",
       "\t<li>'comment_text'</li>\n",
       "\t<li>'toxic'</li>\n",
       "\t<li>'severe_toxic'</li>\n",
       "\t<li>'obscene'</li>\n",
       "\t<li>'threat'</li>\n",
       "\t<li>'insult'</li>\n",
       "\t<li>'identity_hate'</li>\n",
       "\t<li>'dont'</li>\n",
       "\t<li>'just'</li>\n",
       "\t<li>'made'</li>\n",
       "\t<li>'now'</li>\n",
       "\t<li>'page'</li>\n",
       "\t<li>'please'</li>\n",
       "\t<li>'talk'</li>\n",
       "\t<li>'thanks'</li>\n",
       "\t<li>'edit'</li>\n",
       "\t<li>'information'</li>\n",
       "\t<li>'articles'</li>\n",
       "\t<li>'can'</li>\n",
       "\t<li>'first'</li>\n",
       "\t<li>'know'</li>\n",
       "\t<li>'make'</li>\n",
       "\t<li>'may'</li>\n",
       "\t<li>'need'</li>\n",
       "\t<li>'think'</li>\n",
       "\t<li>'want'</li>\n",
       "\t<li>'use'</li>\n",
       "\t<li>'well'</li>\n",
       "\t<li>'article'</li>\n",
       "\t<li>'will'</li>\n",
       "\t<li>'one'</li>\n",
       "\t<li>'also'</li>\n",
       "\t<li>'see'</li>\n",
       "\t<li>'thank'</li>\n",
       "\t<li>'wikipedia'</li>\n",
       "\t<li>'good'</li>\n",
       "\t<li>'like'</li>\n",
       "\t<li>'even'</li>\n",
       "\t<li>'editing'</li>\n",
       "\t<li>'get'</li>\n",
       "\t<li>'much'</li>\n",
       "\t<li>'time'</li>\n",
       "\t<li>'people'</li>\n",
       "\t<li>'way'</li>\n",
       "\t<li>'say'</li>\n",
       "</ol>\n"
      ],
      "text/latex": [
       "\\begin{enumerate*}\n",
       "\\item 'id'\n",
       "\\item 'comment\\_text'\n",
       "\\item 'toxic'\n",
       "\\item 'severe\\_toxic'\n",
       "\\item 'obscene'\n",
       "\\item 'threat'\n",
       "\\item 'insult'\n",
       "\\item 'identity\\_hate'\n",
       "\\item 'dont'\n",
       "\\item 'just'\n",
       "\\item 'made'\n",
       "\\item 'now'\n",
       "\\item 'page'\n",
       "\\item 'please'\n",
       "\\item 'talk'\n",
       "\\item 'thanks'\n",
       "\\item 'edit'\n",
       "\\item 'information'\n",
       "\\item 'articles'\n",
       "\\item 'can'\n",
       "\\item 'first'\n",
       "\\item 'know'\n",
       "\\item 'make'\n",
       "\\item 'may'\n",
       "\\item 'need'\n",
       "\\item 'think'\n",
       "\\item 'want'\n",
       "\\item 'use'\n",
       "\\item 'well'\n",
       "\\item 'article'\n",
       "\\item 'will'\n",
       "\\item 'one'\n",
       "\\item 'also'\n",
       "\\item 'see'\n",
       "\\item 'thank'\n",
       "\\item 'wikipedia'\n",
       "\\item 'good'\n",
       "\\item 'like'\n",
       "\\item 'even'\n",
       "\\item 'editing'\n",
       "\\item 'get'\n",
       "\\item 'much'\n",
       "\\item 'time'\n",
       "\\item 'people'\n",
       "\\item 'way'\n",
       "\\item 'say'\n",
       "\\end{enumerate*}\n"
      ],
      "text/markdown": [
       "1. 'id'\n",
       "2. 'comment_text'\n",
       "3. 'toxic'\n",
       "4. 'severe_toxic'\n",
       "5. 'obscene'\n",
       "6. 'threat'\n",
       "7. 'insult'\n",
       "8. 'identity_hate'\n",
       "9. 'dont'\n",
       "10. 'just'\n",
       "11. 'made'\n",
       "12. 'now'\n",
       "13. 'page'\n",
       "14. 'please'\n",
       "15. 'talk'\n",
       "16. 'thanks'\n",
       "17. 'edit'\n",
       "18. 'information'\n",
       "19. 'articles'\n",
       "20. 'can'\n",
       "21. 'first'\n",
       "22. 'know'\n",
       "23. 'make'\n",
       "24. 'may'\n",
       "25. 'need'\n",
       "26. 'think'\n",
       "27. 'want'\n",
       "28. 'use'\n",
       "29. 'well'\n",
       "30. 'article'\n",
       "31. 'will'\n",
       "32. 'one'\n",
       "33. 'also'\n",
       "34. 'see'\n",
       "35. 'thank'\n",
       "36. 'wikipedia'\n",
       "37. 'good'\n",
       "38. 'like'\n",
       "39. 'even'\n",
       "40. 'editing'\n",
       "41. 'get'\n",
       "42. 'much'\n",
       "43. 'time'\n",
       "44. 'people'\n",
       "45. 'way'\n",
       "46. 'say'\n",
       "\n",
       "\n"
      ],
      "text/plain": [
       " [1] \"id\"            \"comment_text\"  \"toxic\"         \"severe_toxic\" \n",
       " [5] \"obscene\"       \"threat\"        \"insult\"        \"identity_hate\"\n",
       " [9] \"dont\"          \"just\"          \"made\"          \"now\"          \n",
       "[13] \"page\"          \"please\"        \"talk\"          \"thanks\"       \n",
       "[17] \"edit\"          \"information\"   \"articles\"      \"can\"          \n",
       "[21] \"first\"         \"know\"          \"make\"          \"may\"          \n",
       "[25] \"need\"          \"think\"         \"want\"          \"use\"          \n",
       "[29] \"well\"          \"article\"       \"will\"          \"one\"          \n",
       "[33] \"also\"          \"see\"           \"thank\"         \"wikipedia\"    \n",
       "[37] \"good\"          \"like\"          \"even\"          \"editing\"      \n",
       "[41] \"get\"           \"much\"          \"time\"          \"people\"       \n",
       "[45] \"way\"           \"say\"          "
      ]
     },
     "metadata": {},
     "output_type": "display_data"
    }
   ],
   "source": [
    "names(val)"
   ]
  },
  {
   "cell_type": "code",
   "execution_count": 48,
   "metadata": {},
   "outputs": [],
   "source": [
    "pred.glm = predict(toxic.glm, newdata = subset(val,select = -c(1:8)) , type = 'response')"
   ]
  },
  {
   "cell_type": "code",
   "execution_count": 49,
   "metadata": {},
   "outputs": [],
   "source": [
    "predict.glm <- ifelse(pred.glm > 0.5, 1, 0)"
   ]
  },
  {
   "cell_type": "code",
   "execution_count": 50,
   "metadata": {},
   "outputs": [],
   "source": [
    "misClassifiError  <- mean(predict.glm != val$toxic)"
   ]
  },
  {
   "cell_type": "code",
   "execution_count": 54,
   "metadata": {},
   "outputs": [
    {
     "name": "stdout",
     "output_type": "stream",
     "text": [
      "[1] \"accuracy is 90.4349097593583\"\n"
     ]
    }
   ],
   "source": [
    "print(paste('accuracy is',(1 - misClassifiError)*100))"
   ]
  },
  {
   "cell_type": "markdown",
   "metadata": {},
   "source": [
    "Yahoo!! that's not bad for a base model right, but wait here our goal is to build a model which is highly accuarte in classifying the toxic comments, one thing to notice is that our predictor's built from dict doesn't have the toxic specific set of words, so now let's explore the text data in further and try to extract features from them."
   ]
  },
  {
   "cell_type": "code",
   "execution_count": 75,
   "metadata": {},
   "outputs": [],
   "source": [
    "comment_txt <- comment[,2] #assigning the text_comments to comment_txt"
   ]
  },
  {
   "cell_type": "markdown",
   "metadata": {},
   "source": [
    "# EXPLORATORY DATA ANALYSIS FOR TEXT"
   ]
  },
  {
   "cell_type": "markdown",
   "metadata": {},
   "source": [
    "Here we'll be using the tidy_text() package to unlock the textdata.Using tidy data principles is a powerful way to make handling data easier and more effective, and this is no less true when it comes to dealing with text. Tidy data has a specific structure:\n",
    "\n",
    "    Each variable is a column\n",
    "    Each observation is a row\n",
    "    Each type of observational unit is a table\n",
    "\n",
    "We thus define the tidy text format as being a table with one-token-per-row. A token is a meaningful unit of text, such as a word, that we are interested in using for analysis, and tokenization is the process of splitting text into tokens. This one-token-per-row structure is in contrast to the ways text is often stored in current analyses, perhaps as strings or in a document-term matrix. For tidy text mining, the token that is stored in each row is most often a single word, but can also be an n-gram, sentence, or paragraph. In the tidytext package, we provide functionality to tokenize by commonly used units of text like these and convert to a one-term-per-row format."
   ]
  },
  {
   "cell_type": "code",
   "execution_count": 76,
   "metadata": {},
   "outputs": [
    {
     "data": {
      "text/html": [
       "'comment_text'"
      ],
      "text/latex": [
       "'comment\\_text'"
      ],
      "text/markdown": [
       "'comment_text'"
      ],
      "text/plain": [
       "[1] \"comment_text\""
      ]
     },
     "metadata": {},
     "output_type": "display_data"
    }
   ],
   "source": [
    "names(comment_txt)"
   ]
  },
  {
   "cell_type": "code",
   "execution_count": 78,
   "metadata": {},
   "outputs": [],
   "source": [
    "colnames(comment_txt)[1] <- 'text' #renaming to avoid confusion"
   ]
  },
  {
   "cell_type": "code",
   "execution_count": 80,
   "metadata": {},
   "outputs": [],
   "source": [
    "#Within our tidy text framework, we need to both break the text into individual tokens (a process called tokenization) \n",
    "#and transform it to a tidy data structure. To do this, we use tidytext’s unnest_tokens() function.\n",
    "tidy_comment <- comment_txt %>%\n",
    "  unnest_tokens(word,text)"
   ]
  },
  {
   "cell_type": "code",
   "execution_count": 81,
   "metadata": {},
   "outputs": [
    {
     "data": {
      "text/html": [
       "<table>\n",
       "<thead><tr><th scope=col>word</th></tr></thead>\n",
       "<tbody>\n",
       "\t<tr><td>explanation</td></tr>\n",
       "\t<tr><td>why        </td></tr>\n",
       "\t<tr><td>the        </td></tr>\n",
       "\t<tr><td>edits      </td></tr>\n",
       "\t<tr><td>made       </td></tr>\n",
       "\t<tr><td>under      </td></tr>\n",
       "</tbody>\n",
       "</table>\n"
      ],
      "text/latex": [
       "\\begin{tabular}{r|l}\n",
       " word\\\\\n",
       "\\hline\n",
       "\t explanation\\\\\n",
       "\t why        \\\\\n",
       "\t the        \\\\\n",
       "\t edits      \\\\\n",
       "\t made       \\\\\n",
       "\t under      \\\\\n",
       "\\end{tabular}\n"
      ],
      "text/markdown": [
       "\n",
       "word | \n",
       "|---|---|---|---|---|---|\n",
       "| explanation | \n",
       "| why         | \n",
       "| the         | \n",
       "| edits       | \n",
       "| made        | \n",
       "| under       | \n",
       "\n",
       "\n"
      ],
      "text/plain": [
       "  word       \n",
       "1 explanation\n",
       "2 why        \n",
       "3 the        \n",
       "4 edits      \n",
       "5 made       \n",
       "6 under      "
      ]
     },
     "metadata": {},
     "output_type": "display_data"
    }
   ],
   "source": [
    "head(tidy_comment)"
   ]
  },
  {
   "cell_type": "markdown",
   "metadata": {},
   "source": [
    "Having the text data in this format lets us manipulate, process, and visualize the text using the standard set of tidy tools, namely dplyr, tidyr, and ggplot2, as shown in Figure 1.1."
   ]
  },
  {
   "attachments": {
    "tidyflow-ch-1.2.png": {
     "image/png": "[encoded data removed]"
    }
   },
   "cell_type": "markdown",
   "metadata": {},
   "source": [
    "![tidyflow-ch-1.2.png](attachment:tidyflow-ch-1.2.png)"
   ]
  },
  {
   "cell_type": "markdown",
   "metadata": {},
   "source": [
    "Often in text analysis, we will want to remove stop words; stop words are words that are not useful for an analysis, typically extremely common words such as “the”, “of”, “to”, and so forth in English. We can remove stop words (kept in the tidytext dataset stop_words) with an anti_join()."
   ]
  },
  {
   "cell_type": "code",
   "execution_count": 14,
   "metadata": {},
   "outputs": [
    {
     "name": "stderr",
     "output_type": "stream",
     "text": [
      "Joining, by = \"word\"\n"
     ]
    }
   ],
   "source": [
    "#remove the stop words\n",
    "\n",
    "data(stop_words)\n",
    "\n",
    "tidy_comment <- tidy_comment %>%\n",
    "  anti_join(stop_words)"
   ]
  },
  {
   "cell_type": "code",
   "execution_count": 17,
   "metadata": {},
   "outputs": [
    {
     "name": "stderr",
     "output_type": "stream",
     "text": [
      "Selecting by n\n"
     ]
    },
    {
     "data": {
      "text/html": [
       "<table>\n",
       "<thead><tr><th scope=col>word</th><th scope=col>n</th></tr></thead>\n",
       "<tbody>\n",
       "\t<tr><td>article    </td><td>57714      </td></tr>\n",
       "\t<tr><td>wikipedia  </td><td>48602      </td></tr>\n",
       "\t<tr><td>page       </td><td>46525      </td></tr>\n",
       "\t<tr><td>talk       </td><td>37796      </td></tr>\n",
       "\t<tr><td>people     </td><td>18498      </td></tr>\n",
       "\t<tr><td>edit       </td><td>18306      </td></tr>\n",
       "\t<tr><td>articles   </td><td>16809      </td></tr>\n",
       "\t<tr><td>time       </td><td>15893      </td></tr>\n",
       "\t<tr><td>user       </td><td>14670      </td></tr>\n",
       "\t<tr><td>information</td><td>12178      </td></tr>\n",
       "\t<tr><td>deletion   </td><td>11535      </td></tr>\n",
       "\t<tr><td>sources    </td><td>11386      </td></tr>\n",
       "\t<tr><td>image      </td><td>11080      </td></tr>\n",
       "\t<tr><td>wp         </td><td>10959      </td></tr>\n",
       "\t<tr><td>pages      </td><td>10737      </td></tr>\n",
       "\t<tr><td>source     </td><td>10436      </td></tr>\n",
       "\t<tr><td>editing    </td><td>10369      </td></tr>\n",
       "\t<tr><td>section    </td><td>10177      </td></tr>\n",
       "\t<tr><td>fuck       </td><td>10088      </td></tr>\n",
       "\t<tr><td>edits      </td><td> 9995      </td></tr>\n",
       "</tbody>\n",
       "</table>\n"
      ],
      "text/latex": [
       "\\begin{tabular}{r|ll}\n",
       " word & n\\\\\n",
       "\\hline\n",
       "\t article     & 57714      \\\\\n",
       "\t wikipedia   & 48602      \\\\\n",
       "\t page        & 46525      \\\\\n",
       "\t talk        & 37796      \\\\\n",
       "\t people      & 18498      \\\\\n",
       "\t edit        & 18306      \\\\\n",
       "\t articles    & 16809      \\\\\n",
       "\t time        & 15893      \\\\\n",
       "\t user        & 14670      \\\\\n",
       "\t information & 12178      \\\\\n",
       "\t deletion    & 11535      \\\\\n",
       "\t sources     & 11386      \\\\\n",
       "\t image       & 11080      \\\\\n",
       "\t wp          & 10959      \\\\\n",
       "\t pages       & 10737      \\\\\n",
       "\t source      & 10436      \\\\\n",
       "\t editing     & 10369      \\\\\n",
       "\t section     & 10177      \\\\\n",
       "\t fuck        & 10088      \\\\\n",
       "\t edits       &  9995      \\\\\n",
       "\\end{tabular}\n"
      ],
      "text/markdown": [
       "\n",
       "word | n | \n",
       "|---|---|---|---|---|---|---|---|---|---|---|---|---|---|---|---|---|---|---|---|\n",
       "| article     | 57714       | \n",
       "| wikipedia   | 48602       | \n",
       "| page        | 46525       | \n",
       "| talk        | 37796       | \n",
       "| people      | 18498       | \n",
       "| edit        | 18306       | \n",
       "| articles    | 16809       | \n",
       "| time        | 15893       | \n",
       "| user        | 14670       | \n",
       "| information | 12178       | \n",
       "| deletion    | 11535       | \n",
       "| sources     | 11386       | \n",
       "| image       | 11080       | \n",
       "| wp          | 10959       | \n",
       "| pages       | 10737       | \n",
       "| source      | 10436       | \n",
       "| editing     | 10369       | \n",
       "| section     | 10177       | \n",
       "| fuck        | 10088       | \n",
       "| edits       |  9995       | \n",
       "\n",
       "\n"
      ],
      "text/plain": [
       "   word        n    \n",
       "1  article     57714\n",
       "2  wikipedia   48602\n",
       "3  page        46525\n",
       "4  talk        37796\n",
       "5  people      18498\n",
       "6  edit        18306\n",
       "7  articles    16809\n",
       "8  time        15893\n",
       "9  user        14670\n",
       "10 information 12178\n",
       "11 deletion    11535\n",
       "12 sources     11386\n",
       "13 image       11080\n",
       "14 wp          10959\n",
       "15 pages       10737\n",
       "16 source      10436\n",
       "17 editing     10369\n",
       "18 section     10177\n",
       "19 fuck        10088\n",
       "20 edits        9995"
      ]
     },
     "metadata": {},
     "output_type": "display_data"
    }
   ],
   "source": [
    "#overview of top 20 words\n",
    "tidy_comment %>%\n",
    " count(word, sort = TRUE) %>%\n",
    " top_n(20)"
   ]
  },
  {
   "cell_type": "code",
   "execution_count": 67,
   "metadata": {},
   "outputs": [
    {
     "data": {},
     "metadata": {},
     "output_type": "display_data"
    },
    {
     "data": {
      "image/png": "[encoded data removed]",
      "text/plain": [
       "plot without title"
      ]
     },
     "metadata": {},
     "output_type": "display_data"
    }
   ],
   "source": [
    "#now let's plot the above using ggplot\n",
    "tidy_comment %>%\n",
    "  count(word, sort = TRUE) %>%\n",
    "  filter(n > 9000) %>%\n",
    "  mutate(word = reorder(word, n)) %>%\n",
    "  ggplot(aes(word, n)) +\n",
    "  geom_bar(aes(fill = word),stat='identity', color = 'black') +\n",
    "  xlab(NULL) +\n",
    "  ggtitle('most common words used in comments') + \n",
    "  coord_flip()"
   ]
  },
  {
   "cell_type": "markdown",
   "metadata": {},
   "source": [
    "# Sentiment analysis"
   ]
  },
  {
   "cell_type": "markdown",
   "metadata": {},
   "source": [
    "Understanding of the emotional intent of words to infer whether a section of text is positive or negative, or perhaps characterized by some other more nuanced emotion like surprise or disgust plays a key in ananlysis of text.\n",
    "\n",
    "Let's analyze the sentiments using 2 popular lexicons: bing and afinn.\n",
    "\n",
    "Bing lexicon categorizes words in a binary fashion into positive and negative categories. The AFINN lexicon assigns words with a score that runs between -5 and 5, with negative scores indicating negative sentiment and positive scores indicating positive sentiment. All of this information is tabulated in the sentiments dataset, and tidytext provides a function get_sentiments() to get specific sentiment lexicons without the columns that are not used in that lexicon"
   ]
  },
  {
   "cell_type": "code",
   "execution_count": 71,
   "metadata": {},
   "outputs": [
    {
     "name": "stderr",
     "output_type": "stream",
     "text": [
      "Joining, by = \"word\"\n"
     ]
    }
   ],
   "source": [
    "afinn <- tidy_comment %>% \n",
    "  inner_join(get_sentiments(\"afinn\")) %>% \n",
    "  mutate(linenumber = row_number()) %>%\n",
    "  group_by(index = linenumber %/% 80) %>% \n",
    "  summarise(sentiment = sum(score)) %>% \n",
    "  mutate(method = \"AFINN\")"
   ]
  },
  {
   "cell_type": "code",
   "execution_count": 72,
   "metadata": {},
   "outputs": [
    {
     "data": {},
     "metadata": {},
     "output_type": "display_data"
    },
    {
     "data": {
      "image/png": "[encoded data removed]",
      "text/plain": [
       "plot without title"
      ]
     },
     "metadata": {},
     "output_type": "display_data"
    }
   ],
   "source": [
    "afinn %>%\n",
    "  ggplot(aes(index, sentiment, fill = method)) +\n",
    "  geom_col(show.legend = FALSE) +\n",
    "  facet_wrap(~method, ncol = 1, scales = \"free_y\")"
   ]
  },
  {
   "cell_type": "code",
   "execution_count": 104,
   "metadata": {},
   "outputs": [
    {
     "name": "stderr",
     "output_type": "stream",
     "text": [
      "Joining, by = \"word\"\n"
     ]
    }
   ],
   "source": [
    "bing <- tidy_comment %>% \n",
    "  inner_join(get_sentiments(\"bing\")) %>%\n",
    "  mutate(method = \"Bing et al.\") %>%\n",
    "  mutate(linenumber = row_number()) %>%\n",
    "  count(method, index = linenumber %/% 30, sentiment) %>%\n",
    "  spread(sentiment, n, fill = 0) %>%\n",
    "  mutate(sentiment = positive - negative)"
   ]
  },
  {
   "cell_type": "code",
   "execution_count": 105,
   "metadata": {},
   "outputs": [
    {
     "data": {},
     "metadata": {},
     "output_type": "display_data"
    },
    {
     "data": {
      "image/png": "[encoded data removed]",
      "text/plain": [
       "plot without title"
      ]
     },
     "metadata": {},
     "output_type": "display_data"
    }
   ],
   "source": [
    "bing %>%\n",
    "  ggplot(aes(index, sentiment, fill = method)) +\n",
    "  geom_col(show.legend = FALSE) +\n",
    "  facet_wrap(~method, ncol = 1, scales = \"free_y\")"
   ]
  },
  {
   "cell_type": "markdown",
   "metadata": {},
   "source": [
    "Interesting to see the ratio of negative is more than positive, this will be crucial for our ananlysis. Now let's get the count of them."
   ]
  },
  {
   "cell_type": "code",
   "execution_count": 85,
   "metadata": {},
   "outputs": [
    {
     "data": {
      "text/html": [
       "<table>\n",
       "<thead><tr><th scope=col>sentiment</th><th scope=col>n</th></tr></thead>\n",
       "<tbody>\n",
       "\t<tr><td>negative</td><td>4782    </td></tr>\n",
       "\t<tr><td>positive</td><td>2006    </td></tr>\n",
       "</tbody>\n",
       "</table>\n"
      ],
      "text/latex": [
       "\\begin{tabular}{r|ll}\n",
       " sentiment & n\\\\\n",
       "\\hline\n",
       "\t negative & 4782    \\\\\n",
       "\t positive & 2006    \\\\\n",
       "\\end{tabular}\n"
      ],
      "text/markdown": [
       "\n",
       "sentiment | n | \n",
       "|---|---|\n",
       "| negative | 4782     | \n",
       "| positive | 2006     | \n",
       "\n",
       "\n"
      ],
      "text/plain": [
       "  sentiment n   \n",
       "1 negative  4782\n",
       "2 positive  2006"
      ]
     },
     "metadata": {},
     "output_type": "display_data"
    }
   ],
   "source": [
    "get_sentiments(\"bing\") %>% \n",
    "  count(sentiment)"
   ]
  },
  {
   "cell_type": "markdown",
   "metadata": {},
   "source": [
    "Yes bing lexicons have more negative than positive words. Copy that!! Yes indeed."
   ]
  },
  {
   "cell_type": "code",
   "execution_count": 106,
   "metadata": {},
   "outputs": [
    {
     "name": "stderr",
     "output_type": "stream",
     "text": [
      "Joining, by = \"word\"\n"
     ]
    }
   ],
   "source": [
    "bing_word_counts <- tidy_comment %>%\n",
    "  inner_join(get_sentiments(\"bing\")) %>%\n",
    "  count(word, sentiment, sort = TRUE) %>%\n",
    "  ungroup()"
   ]
  },
  {
   "cell_type": "code",
   "execution_count": 107,
   "metadata": {},
   "outputs": [
    {
     "data": {
      "text/html": [
       "<table>\n",
       "<thead><tr><th scope=col>word</th><th scope=col>sentiment</th><th scope=col>n</th></tr></thead>\n",
       "<tbody>\n",
       "\t<tr><td>fuck    </td><td>negative</td><td>10088   </td></tr>\n",
       "\t<tr><td>free    </td><td>positive</td><td> 6426   </td></tr>\n",
       "\t<tr><td>wrong   </td><td>negative</td><td> 5224   </td></tr>\n",
       "\t<tr><td>speedy  </td><td>positive</td><td> 4863   </td></tr>\n",
       "\t<tr><td>issue   </td><td>negative</td><td> 4832   </td></tr>\n",
       "\t<tr><td>reliable</td><td>positive</td><td> 4726   </td></tr>\n",
       "</tbody>\n",
       "</table>\n"
      ],
      "text/latex": [
       "\\begin{tabular}{r|lll}\n",
       " word & sentiment & n\\\\\n",
       "\\hline\n",
       "\t fuck     & negative & 10088   \\\\\n",
       "\t free     & positive &  6426   \\\\\n",
       "\t wrong    & negative &  5224   \\\\\n",
       "\t speedy   & positive &  4863   \\\\\n",
       "\t issue    & negative &  4832   \\\\\n",
       "\t reliable & positive &  4726   \\\\\n",
       "\\end{tabular}\n"
      ],
      "text/markdown": [
       "\n",
       "word | sentiment | n | \n",
       "|---|---|---|---|---|---|\n",
       "| fuck     | negative | 10088    | \n",
       "| free     | positive |  6426    | \n",
       "| wrong    | negative |  5224    | \n",
       "| speedy   | positive |  4863    | \n",
       "| issue    | negative |  4832    | \n",
       "| reliable | positive |  4726    | \n",
       "\n",
       "\n"
      ],
      "text/plain": [
       "  word     sentiment n    \n",
       "1 fuck     negative  10088\n",
       "2 free     positive   6426\n",
       "3 wrong    negative   5224\n",
       "4 speedy   positive   4863\n",
       "5 issue    negative   4832\n",
       "6 reliable positive   4726"
      ]
     },
     "metadata": {},
     "output_type": "display_data"
    }
   ],
   "source": [
    "head(bing_word_counts)"
   ]
  },
  {
   "cell_type": "markdown",
   "metadata": {},
   "source": [
    "# Visualizing the most common positive and negative words and their contribution towards sentiment"
   ]
  },
  {
   "cell_type": "code",
   "execution_count": 117,
   "metadata": {},
   "outputs": [
    {
     "name": "stderr",
     "output_type": "stream",
     "text": [
      "Selecting by n\n"
     ]
    },
    {
     "data": {},
     "metadata": {},
     "output_type": "display_data"
    },
    {
     "data": {
      "image/png": "[encoded data removed]",
      "text/plain": [
       "plot without title"
      ]
     },
     "metadata": {},
     "output_type": "display_data"
    }
   ],
   "source": [
    "bing_word_counts %>%\n",
    "  group_by(sentiment) %>%\n",
    "  top_n(20) %>%\n",
    "  ungroup() %>%\n",
    "  mutate(word = reorder(word, n)) %>%\n",
    "  ggplot(aes(word, n, fill = sentiment)) +\n",
    "  geom_col(show.legend = FALSE) +\n",
    "  facet_wrap(~sentiment, scales = \"free_y\") +\n",
    "  labs(y = \"Contribution to sentiment\",\n",
    "       x = NULL) +\n",
    "  coord_flip()"
   ]
  },
  {
   "cell_type": "markdown",
   "metadata": {},
   "source": [
    "# Tokenisation of the sentences"
   ]
  },
  {
   "cell_type": "code",
   "execution_count": 31,
   "metadata": {},
   "outputs": [],
   "source": [
    "#The sentences are broken up into words.The first Six rows of sentences broken up into words are shown below\n",
    "Words <- comment %>%\n",
    "  unnest_tokens(word, comment_text) %>%\n",
    "  count(toxic,severe_toxic,obscene,threat,insult,identity_hate,word) %>%\n",
    "  ungroup()\n"
   ]
  },
  {
   "cell_type": "code",
   "execution_count": 32,
   "metadata": {},
   "outputs": [
    {
     "data": {
      "text/html": [
       "<table>\n",
       "<thead><tr><th scope=col>toxic</th><th scope=col>severe_toxic</th><th scope=col>obscene</th><th scope=col>threat</th><th scope=col>insult</th><th scope=col>identity_hate</th><th scope=col>word</th><th scope=col>n</th></tr></thead>\n",
       "<tbody>\n",
       "\t<tr><td>0  </td><td>0  </td><td>0  </td><td>0  </td><td>0  </td><td>0  </td><td>ˆ  </td><td>50 </td></tr>\n",
       "\t<tr><td>0  </td><td>0  </td><td>0  </td><td>0  </td><td>0  </td><td>0  </td><td>ˆ:â</td><td> 2 </td></tr>\n",
       "\t<tr><td>0  </td><td>0  </td><td>0  </td><td>0  </td><td>0  </td><td>0  </td><td>ˆà </td><td>12 </td></tr>\n",
       "\t<tr><td>0  </td><td>0  </td><td>0  </td><td>0  </td><td>0  </td><td>0  </td><td>ˆâ </td><td>14 </td></tr>\n",
       "\t<tr><td>0  </td><td>0  </td><td>0  </td><td>0  </td><td>0  </td><td>0  </td><td>ˆä </td><td> 3 </td></tr>\n",
       "\t<tr><td>0  </td><td>0  </td><td>0  </td><td>0  </td><td>0  </td><td>0  </td><td>ˆã </td><td>11 </td></tr>\n",
       "</tbody>\n",
       "</table>\n"
      ],
      "text/latex": [
       "\\begin{tabular}{r|llllllll}\n",
       " toxic & severe\\_toxic & obscene & threat & insult & identity\\_hate & word & n\\\\\n",
       "\\hline\n",
       "\t 0   & 0   & 0   & 0   & 0   & 0   & ˆ   & 50 \\\\\n",
       "\t 0   & 0   & 0   & 0   & 0   & 0   & ˆ:â &  2 \\\\\n",
       "\t 0   & 0   & 0   & 0   & 0   & 0   & ˆà  & 12 \\\\\n",
       "\t 0   & 0   & 0   & 0   & 0   & 0   & ˆâ  & 14 \\\\\n",
       "\t 0   & 0   & 0   & 0   & 0   & 0   & ˆä  &  3 \\\\\n",
       "\t 0   & 0   & 0   & 0   & 0   & 0   & ˆã  & 11 \\\\\n",
       "\\end{tabular}\n"
      ],
      "text/markdown": [
       "\n",
       "toxic | severe_toxic | obscene | threat | insult | identity_hate | word | n | \n",
       "|---|---|---|---|---|---|\n",
       "| 0   | 0   | 0   | 0   | 0   | 0   | ˆ   | 50  | \n",
       "| 0   | 0   | 0   | 0   | 0   | 0   | ˆ:â |  2  | \n",
       "| 0   | 0   | 0   | 0   | 0   | 0   | ˆà  | 12  | \n",
       "| 0   | 0   | 0   | 0   | 0   | 0   | ˆâ  | 14  | \n",
       "| 0   | 0   | 0   | 0   | 0   | 0   | ˆä  |  3  | \n",
       "| 0   | 0   | 0   | 0   | 0   | 0   | ˆã  | 11  | \n",
       "\n",
       "\n"
      ],
      "text/plain": [
       "  toxic severe_toxic obscene threat insult identity_hate word n \n",
       "1 0     0            0       0      0      0                 50\n",
       "2 0     0            0       0      0      0             :â   2\n",
       "3 0     0            0       0      0      0             à   12\n",
       "4 0     0            0       0      0      0             â   14\n",
       "5 0     0            0       0      0      0             ä    3\n",
       "6 0     0            0       0      0      0             ã   11"
      ]
     },
     "metadata": {},
     "output_type": "display_data"
    }
   ],
   "source": [
    "head(Words)"
   ]
  },
  {
   "cell_type": "code",
   "execution_count": 37,
   "metadata": {},
   "outputs": [
    {
     "data": {
      "text/html": [
       "<table>\n",
       "<thead><tr><th scope=col>toxic</th><th scope=col>severe_toxic</th><th scope=col>obscene</th><th scope=col>threat</th><th scope=col>insult</th><th scope=col>identity_hate</th><th scope=col>total</th></tr></thead>\n",
       "<tbody>\n",
       "\t<tr><td>0      </td><td>0      </td><td>0      </td><td>0      </td><td>0      </td><td>0      </td><td>9928641</td></tr>\n",
       "\t<tr><td>0      </td><td>0      </td><td>0      </td><td>0      </td><td>0      </td><td>1      </td><td>   4854</td></tr>\n",
       "\t<tr><td>0      </td><td>0      </td><td>0      </td><td>0      </td><td>1      </td><td>0      </td><td>  17540</td></tr>\n",
       "\t<tr><td>0      </td><td>0      </td><td>0      </td><td>0      </td><td>1      </td><td>1      </td><td>   1801</td></tr>\n",
       "\t<tr><td>0      </td><td>0      </td><td>0      </td><td>1      </td><td>0      </td><td>0      </td><td>    765</td></tr>\n",
       "\t<tr><td>0      </td><td>0      </td><td>0      </td><td>1      </td><td>1      </td><td>0      </td><td>    934</td></tr>\n",
       "\t<tr><td>0      </td><td>0      </td><td>1      </td><td>0      </td><td>0      </td><td>0      </td><td>  30128</td></tr>\n",
       "\t<tr><td>0      </td><td>0      </td><td>1      </td><td>0      </td><td>0      </td><td>1      </td><td>    142</td></tr>\n",
       "\t<tr><td>0      </td><td>0      </td><td>1      </td><td>0      </td><td>1      </td><td>0      </td><td>  13369</td></tr>\n",
       "\t<tr><td>0      </td><td>0      </td><td>1      </td><td>0      </td><td>1      </td><td>1      </td><td>   1280</td></tr>\n",
       "\t<tr><td>0      </td><td>0      </td><td>1      </td><td>1      </td><td>0      </td><td>0      </td><td>    204</td></tr>\n",
       "\t<tr><td>0      </td><td>0      </td><td>1      </td><td>1      </td><td>1      </td><td>0      </td><td>    319</td></tr>\n",
       "\t<tr><td>1      </td><td>0      </td><td>0      </td><td>0      </td><td>0      </td><td>0      </td><td> 334880</td></tr>\n",
       "\t<tr><td>1      </td><td>0      </td><td>0      </td><td>0      </td><td>0      </td><td>1      </td><td>   3966</td></tr>\n",
       "\t<tr><td>1      </td><td>0      </td><td>0      </td><td>0      </td><td>1      </td><td>0      </td><td>  53448</td></tr>\n",
       "\t<tr><td>1      </td><td>0      </td><td>0      </td><td>0      </td><td>1      </td><td>1      </td><td>   5804</td></tr>\n",
       "\t<tr><td>1      </td><td>0      </td><td>0      </td><td>1      </td><td>0      </td><td>0      </td><td>   2069</td></tr>\n",
       "\t<tr><td>1      </td><td>0      </td><td>0      </td><td>1      </td><td>0      </td><td>1      </td><td>    107</td></tr>\n",
       "\t<tr><td>1      </td><td>0      </td><td>0      </td><td>1      </td><td>1      </td><td>0      </td><td>    357</td></tr>\n",
       "\t<tr><td>1      </td><td>0      </td><td>0      </td><td>1      </td><td>1      </td><td>1      </td><td>    103</td></tr>\n",
       "\t<tr><td>1      </td><td>0      </td><td>1      </td><td>0      </td><td>0      </td><td>0      </td><td>  74106</td></tr>\n",
       "\t<tr><td>1      </td><td>0      </td><td>1      </td><td>0      </td><td>0      </td><td>1      </td><td>   1643</td></tr>\n",
       "\t<tr><td>1      </td><td>0      </td><td>1      </td><td>0      </td><td>1      </td><td>0      </td><td> 151000</td></tr>\n",
       "\t<tr><td>1      </td><td>0      </td><td>1      </td><td>0      </td><td>1      </td><td>1      </td><td>  30186</td></tr>\n",
       "\t<tr><td>1      </td><td>0      </td><td>1      </td><td>1      </td><td>0      </td><td>0      </td><td>    383</td></tr>\n",
       "\t<tr><td>1      </td><td>0      </td><td>1      </td><td>1      </td><td>1      </td><td>0      </td><td>   6930</td></tr>\n",
       "\t<tr><td>1      </td><td>0      </td><td>1      </td><td>1      </td><td>1      </td><td>1      </td><td>   2975</td></tr>\n",
       "\t<tr><td>1      </td><td>1      </td><td>0      </td><td>0      </td><td>0      </td><td>0      </td><td>   4259</td></tr>\n",
       "\t<tr><td>1      </td><td>1      </td><td>0      </td><td>0      </td><td>0      </td><td>1      </td><td>    203</td></tr>\n",
       "\t<tr><td>1      </td><td>1      </td><td>0      </td><td>0      </td><td>1      </td><td>0      </td><td>   2208</td></tr>\n",
       "\t<tr><td>1      </td><td>1      </td><td>0      </td><td>0      </td><td>1      </td><td>1      </td><td>   2031</td></tr>\n",
       "\t<tr><td>1      </td><td>1      </td><td>0      </td><td>1      </td><td>0      </td><td>0      </td><td>   2300</td></tr>\n",
       "\t<tr><td>1      </td><td>1      </td><td>0      </td><td>1      </td><td>0      </td><td>1      </td><td>     46</td></tr>\n",
       "\t<tr><td>1      </td><td>1      </td><td>0      </td><td>1      </td><td>1      </td><td>0      </td><td>     31</td></tr>\n",
       "\t<tr><td>1      </td><td>1      </td><td>1      </td><td>0      </td><td>0      </td><td>0      </td><td>  15173</td></tr>\n",
       "\t<tr><td>1      </td><td>1      </td><td>1      </td><td>0      </td><td>0      </td><td>1      </td><td>    670</td></tr>\n",
       "\t<tr><td>1      </td><td>1      </td><td>1      </td><td>0      </td><td>1      </td><td>0      </td><td>  71977</td></tr>\n",
       "\t<tr><td>1      </td><td>1      </td><td>1      </td><td>0      </td><td>1      </td><td>1      </td><td>  16099</td></tr>\n",
       "\t<tr><td>1      </td><td>1      </td><td>1      </td><td>1      </td><td>0      </td><td>0      </td><td>   1258</td></tr>\n",
       "\t<tr><td>1      </td><td>1      </td><td>1      </td><td>1      </td><td>1      </td><td>0      </td><td>   5405</td></tr>\n",
       "\t<tr><td>1      </td><td>1      </td><td>1      </td><td>1      </td><td>1      </td><td>1      </td><td>   2637</td></tr>\n",
       "</tbody>\n",
       "</table>\n"
      ],
      "text/latex": [
       "\\begin{tabular}{r|lllllll}\n",
       " toxic & severe\\_toxic & obscene & threat & insult & identity\\_hate & total\\\\\n",
       "\\hline\n",
       "\t 0       & 0       & 0       & 0       & 0       & 0       & 9928641\\\\\n",
       "\t 0       & 0       & 0       & 0       & 0       & 1       &    4854\\\\\n",
       "\t 0       & 0       & 0       & 0       & 1       & 0       &   17540\\\\\n",
       "\t 0       & 0       & 0       & 0       & 1       & 1       &    1801\\\\\n",
       "\t 0       & 0       & 0       & 1       & 0       & 0       &     765\\\\\n",
       "\t 0       & 0       & 0       & 1       & 1       & 0       &     934\\\\\n",
       "\t 0       & 0       & 1       & 0       & 0       & 0       &   30128\\\\\n",
       "\t 0       & 0       & 1       & 0       & 0       & 1       &     142\\\\\n",
       "\t 0       & 0       & 1       & 0       & 1       & 0       &   13369\\\\\n",
       "\t 0       & 0       & 1       & 0       & 1       & 1       &    1280\\\\\n",
       "\t 0       & 0       & 1       & 1       & 0       & 0       &     204\\\\\n",
       "\t 0       & 0       & 1       & 1       & 1       & 0       &     319\\\\\n",
       "\t 1       & 0       & 0       & 0       & 0       & 0       &  334880\\\\\n",
       "\t 1       & 0       & 0       & 0       & 0       & 1       &    3966\\\\\n",
       "\t 1       & 0       & 0       & 0       & 1       & 0       &   53448\\\\\n",
       "\t 1       & 0       & 0       & 0       & 1       & 1       &    5804\\\\\n",
       "\t 1       & 0       & 0       & 1       & 0       & 0       &    2069\\\\\n",
       "\t 1       & 0       & 0       & 1       & 0       & 1       &     107\\\\\n",
       "\t 1       & 0       & 0       & 1       & 1       & 0       &     357\\\\\n",
       "\t 1       & 0       & 0       & 1       & 1       & 1       &     103\\\\\n",
       "\t 1       & 0       & 1       & 0       & 0       & 0       &   74106\\\\\n",
       "\t 1       & 0       & 1       & 0       & 0       & 1       &    1643\\\\\n",
       "\t 1       & 0       & 1       & 0       & 1       & 0       &  151000\\\\\n",
       "\t 1       & 0       & 1       & 0       & 1       & 1       &   30186\\\\\n",
       "\t 1       & 0       & 1       & 1       & 0       & 0       &     383\\\\\n",
       "\t 1       & 0       & 1       & 1       & 1       & 0       &    6930\\\\\n",
       "\t 1       & 0       & 1       & 1       & 1       & 1       &    2975\\\\\n",
       "\t 1       & 1       & 0       & 0       & 0       & 0       &    4259\\\\\n",
       "\t 1       & 1       & 0       & 0       & 0       & 1       &     203\\\\\n",
       "\t 1       & 1       & 0       & 0       & 1       & 0       &    2208\\\\\n",
       "\t 1       & 1       & 0       & 0       & 1       & 1       &    2031\\\\\n",
       "\t 1       & 1       & 0       & 1       & 0       & 0       &    2300\\\\\n",
       "\t 1       & 1       & 0       & 1       & 0       & 1       &      46\\\\\n",
       "\t 1       & 1       & 0       & 1       & 1       & 0       &      31\\\\\n",
       "\t 1       & 1       & 1       & 0       & 0       & 0       &   15173\\\\\n",
       "\t 1       & 1       & 1       & 0       & 0       & 1       &     670\\\\\n",
       "\t 1       & 1       & 1       & 0       & 1       & 0       &   71977\\\\\n",
       "\t 1       & 1       & 1       & 0       & 1       & 1       &   16099\\\\\n",
       "\t 1       & 1       & 1       & 1       & 0       & 0       &    1258\\\\\n",
       "\t 1       & 1       & 1       & 1       & 1       & 0       &    5405\\\\\n",
       "\t 1       & 1       & 1       & 1       & 1       & 1       &    2637\\\\\n",
       "\\end{tabular}\n"
      ],
      "text/markdown": [
       "\n",
       "toxic | severe_toxic | obscene | threat | insult | identity_hate | total | \n",
       "|---|---|---|---|---|---|---|---|---|---|---|---|---|---|---|---|---|---|---|---|---|---|---|---|---|---|---|---|---|---|---|---|---|---|---|---|---|---|---|---|---|\n",
       "| 0       | 0       | 0       | 0       | 0       | 0       | 9928641 | \n",
       "| 0       | 0       | 0       | 0       | 0       | 1       |    4854 | \n",
       "| 0       | 0       | 0       | 0       | 1       | 0       |   17540 | \n",
       "| 0       | 0       | 0       | 0       | 1       | 1       |    1801 | \n",
       "| 0       | 0       | 0       | 1       | 0       | 0       |     765 | \n",
       "| 0       | 0       | 0       | 1       | 1       | 0       |     934 | \n",
       "| 0       | 0       | 1       | 0       | 0       | 0       |   30128 | \n",
       "| 0       | 0       | 1       | 0       | 0       | 1       |     142 | \n",
       "| 0       | 0       | 1       | 0       | 1       | 0       |   13369 | \n",
       "| 0       | 0       | 1       | 0       | 1       | 1       |    1280 | \n",
       "| 0       | 0       | 1       | 1       | 0       | 0       |     204 | \n",
       "| 0       | 0       | 1       | 1       | 1       | 0       |     319 | \n",
       "| 1       | 0       | 0       | 0       | 0       | 0       |  334880 | \n",
       "| 1       | 0       | 0       | 0       | 0       | 1       |    3966 | \n",
       "| 1       | 0       | 0       | 0       | 1       | 0       |   53448 | \n",
       "| 1       | 0       | 0       | 0       | 1       | 1       |    5804 | \n",
       "| 1       | 0       | 0       | 1       | 0       | 0       |    2069 | \n",
       "| 1       | 0       | 0       | 1       | 0       | 1       |     107 | \n",
       "| 1       | 0       | 0       | 1       | 1       | 0       |     357 | \n",
       "| 1       | 0       | 0       | 1       | 1       | 1       |     103 | \n",
       "| 1       | 0       | 1       | 0       | 0       | 0       |   74106 | \n",
       "| 1       | 0       | 1       | 0       | 0       | 1       |    1643 | \n",
       "| 1       | 0       | 1       | 0       | 1       | 0       |  151000 | \n",
       "| 1       | 0       | 1       | 0       | 1       | 1       |   30186 | \n",
       "| 1       | 0       | 1       | 1       | 0       | 0       |     383 | \n",
       "| 1       | 0       | 1       | 1       | 1       | 0       |    6930 | \n",
       "| 1       | 0       | 1       | 1       | 1       | 1       |    2975 | \n",
       "| 1       | 1       | 0       | 0       | 0       | 0       |    4259 | \n",
       "| 1       | 1       | 0       | 0       | 0       | 1       |     203 | \n",
       "| 1       | 1       | 0       | 0       | 1       | 0       |    2208 | \n",
       "| 1       | 1       | 0       | 0       | 1       | 1       |    2031 | \n",
       "| 1       | 1       | 0       | 1       | 0       | 0       |    2300 | \n",
       "| 1       | 1       | 0       | 1       | 0       | 1       |      46 | \n",
       "| 1       | 1       | 0       | 1       | 1       | 0       |      31 | \n",
       "| 1       | 1       | 1       | 0       | 0       | 0       |   15173 | \n",
       "| 1       | 1       | 1       | 0       | 0       | 1       |     670 | \n",
       "| 1       | 1       | 1       | 0       | 1       | 0       |   71977 | \n",
       "| 1       | 1       | 1       | 0       | 1       | 1       |   16099 | \n",
       "| 1       | 1       | 1       | 1       | 0       | 0       |    1258 | \n",
       "| 1       | 1       | 1       | 1       | 1       | 0       |    5405 | \n",
       "| 1       | 1       | 1       | 1       | 1       | 1       |    2637 | \n",
       "\n",
       "\n"
      ],
      "text/plain": [
       "   toxic severe_toxic obscene threat insult identity_hate total  \n",
       "1  0     0            0       0      0      0             9928641\n",
       "2  0     0            0       0      0      1                4854\n",
       "3  0     0            0       0      1      0               17540\n",
       "4  0     0            0       0      1      1                1801\n",
       "5  0     0            0       1      0      0                 765\n",
       "6  0     0            0       1      1      0                 934\n",
       "7  0     0            1       0      0      0               30128\n",
       "8  0     0            1       0      0      1                 142\n",
       "9  0     0            1       0      1      0               13369\n",
       "10 0     0            1       0      1      1                1280\n",
       "11 0     0            1       1      0      0                 204\n",
       "12 0     0            1       1      1      0                 319\n",
       "13 1     0            0       0      0      0              334880\n",
       "14 1     0            0       0      0      1                3966\n",
       "15 1     0            0       0      1      0               53448\n",
       "16 1     0            0       0      1      1                5804\n",
       "17 1     0            0       1      0      0                2069\n",
       "18 1     0            0       1      0      1                 107\n",
       "19 1     0            0       1      1      0                 357\n",
       "20 1     0            0       1      1      1                 103\n",
       "21 1     0            1       0      0      0               74106\n",
       "22 1     0            1       0      0      1                1643\n",
       "23 1     0            1       0      1      0              151000\n",
       "24 1     0            1       0      1      1               30186\n",
       "25 1     0            1       1      0      0                 383\n",
       "26 1     0            1       1      1      0                6930\n",
       "27 1     0            1       1      1      1                2975\n",
       "28 1     1            0       0      0      0                4259\n",
       "29 1     1            0       0      0      1                 203\n",
       "30 1     1            0       0      1      0                2208\n",
       "31 1     1            0       0      1      1                2031\n",
       "32 1     1            0       1      0      0                2300\n",
       "33 1     1            0       1      0      1                  46\n",
       "34 1     1            0       1      1      0                  31\n",
       "35 1     1            1       0      0      0               15173\n",
       "36 1     1            1       0      0      1                 670\n",
       "37 1     1            1       0      1      0               71977\n",
       "38 1     1            1       0      1      1               16099\n",
       "39 1     1            1       1      0      0                1258\n",
       "40 1     1            1       1      1      0                5405\n",
       "41 1     1            1       1      1      1                2637"
      ]
     },
     "metadata": {},
     "output_type": "display_data"
    }
   ],
   "source": [
    "# A look into the unique Categories of Text\n",
    "Words <- comment %>%\n",
    "  unnest_tokens(word, comment_text) %>%\n",
    "  count(toxic,severe_toxic,obscene,threat,insult,identity_hate,word) %>%\n",
    "  ungroup()\n",
    "\n",
    "total_words <- Words %>% \n",
    "  group_by(toxic,severe_toxic,obscene,threat,insult,identity_hate) %>% \n",
    "  summarize(total = sum(n))\n",
    "\n",
    "total_words"
   ]
  },
  {
   "cell_type": "code",
   "execution_count": 34,
   "metadata": {},
   "outputs": [
    {
     "name": "stderr",
     "output_type": "stream",
     "text": [
      "Joining, by = \"word\"\n"
     ]
    },
    {
     "data": {
      "text/html": [
       "<table>\n",
       "<thead><tr><th scope=col>toxic</th><th scope=col>severe_toxic</th><th scope=col>obscene</th><th scope=col>threat</th><th scope=col>insult</th><th scope=col>identity_hate</th><th scope=col>total</th></tr></thead>\n",
       "<tbody>\n",
       "\t<tr><td>0      </td><td>0      </td><td>0      </td><td>0      </td><td>0      </td><td>0      </td><td>3890522</td></tr>\n",
       "\t<tr><td>0      </td><td>0      </td><td>0      </td><td>0      </td><td>0      </td><td>1      </td><td>   1905</td></tr>\n",
       "\t<tr><td>0      </td><td>0      </td><td>0      </td><td>0      </td><td>1      </td><td>0      </td><td>   6565</td></tr>\n",
       "\t<tr><td>0      </td><td>0      </td><td>0      </td><td>0      </td><td>1      </td><td>1      </td><td>    697</td></tr>\n",
       "\t<tr><td>0      </td><td>0      </td><td>0      </td><td>1      </td><td>0      </td><td>0      </td><td>    251</td></tr>\n",
       "\t<tr><td>0      </td><td>0      </td><td>0      </td><td>1      </td><td>1      </td><td>0      </td><td>    455</td></tr>\n",
       "\t<tr><td>0      </td><td>0      </td><td>1      </td><td>0      </td><td>0      </td><td>0      </td><td>  10842</td></tr>\n",
       "\t<tr><td>0      </td><td>0      </td><td>1      </td><td>0      </td><td>0      </td><td>1      </td><td>     60</td></tr>\n",
       "\t<tr><td>0      </td><td>0      </td><td>1      </td><td>0      </td><td>1      </td><td>0      </td><td>   5257</td></tr>\n",
       "\t<tr><td>0      </td><td>0      </td><td>1      </td><td>0      </td><td>1      </td><td>1      </td><td>    482</td></tr>\n",
       "\t<tr><td>0      </td><td>0      </td><td>1      </td><td>1      </td><td>0      </td><td>0      </td><td>     82</td></tr>\n",
       "\t<tr><td>0      </td><td>0      </td><td>1      </td><td>1      </td><td>1      </td><td>0      </td><td>     86</td></tr>\n",
       "\t<tr><td>1      </td><td>0      </td><td>0      </td><td>0      </td><td>0      </td><td>0      </td><td> 136208</td></tr>\n",
       "\t<tr><td>1      </td><td>0      </td><td>0      </td><td>0      </td><td>0      </td><td>1      </td><td>   1819</td></tr>\n",
       "\t<tr><td>1      </td><td>0      </td><td>0      </td><td>0      </td><td>1      </td><td>0      </td><td>  20710</td></tr>\n",
       "\t<tr><td>1      </td><td>0      </td><td>0      </td><td>0      </td><td>1      </td><td>1      </td><td>   3193</td></tr>\n",
       "\t<tr><td>1      </td><td>0      </td><td>0      </td><td>1      </td><td>0      </td><td>0      </td><td>    732</td></tr>\n",
       "\t<tr><td>1      </td><td>0      </td><td>0      </td><td>1      </td><td>0      </td><td>1      </td><td>     41</td></tr>\n",
       "\t<tr><td>1      </td><td>0      </td><td>0      </td><td>1      </td><td>1      </td><td>0      </td><td>    133</td></tr>\n",
       "\t<tr><td>1      </td><td>0      </td><td>0      </td><td>1      </td><td>1      </td><td>1      </td><td>     40</td></tr>\n",
       "\t<tr><td>1      </td><td>0      </td><td>1      </td><td>0      </td><td>0      </td><td>0      </td><td>  31930</td></tr>\n",
       "\t<tr><td>1      </td><td>0      </td><td>1      </td><td>0      </td><td>0      </td><td>1      </td><td>    910</td></tr>\n",
       "\t<tr><td>1      </td><td>0      </td><td>1      </td><td>0      </td><td>1      </td><td>0      </td><td>  62911</td></tr>\n",
       "\t<tr><td>1      </td><td>0      </td><td>1      </td><td>0      </td><td>1      </td><td>1      </td><td>  15270</td></tr>\n",
       "\t<tr><td>1      </td><td>0      </td><td>1      </td><td>1      </td><td>0      </td><td>0      </td><td>    198</td></tr>\n",
       "\t<tr><td>1      </td><td>0      </td><td>1      </td><td>1      </td><td>1      </td><td>0      </td><td>   3090</td></tr>\n",
       "\t<tr><td>1      </td><td>0      </td><td>1      </td><td>1      </td><td>1      </td><td>1      </td><td>   1302</td></tr>\n",
       "\t<tr><td>1      </td><td>1      </td><td>0      </td><td>0      </td><td>0      </td><td>0      </td><td>   2745</td></tr>\n",
       "\t<tr><td>1      </td><td>1      </td><td>0      </td><td>0      </td><td>0      </td><td>1      </td><td>    133</td></tr>\n",
       "\t<tr><td>1      </td><td>1      </td><td>0      </td><td>0      </td><td>1      </td><td>0      </td><td>   1340</td></tr>\n",
       "\t<tr><td>1      </td><td>1      </td><td>0      </td><td>0      </td><td>1      </td><td>1      </td><td>    934</td></tr>\n",
       "\t<tr><td>1      </td><td>1      </td><td>0      </td><td>1      </td><td>0      </td><td>0      </td><td>   1130</td></tr>\n",
       "\t<tr><td>1      </td><td>1      </td><td>0      </td><td>1      </td><td>0      </td><td>1      </td><td>     32</td></tr>\n",
       "\t<tr><td>1      </td><td>1      </td><td>0      </td><td>1      </td><td>1      </td><td>0      </td><td>      9</td></tr>\n",
       "\t<tr><td>1      </td><td>1      </td><td>1      </td><td>0      </td><td>0      </td><td>0      </td><td>   9565</td></tr>\n",
       "\t<tr><td>1      </td><td>1      </td><td>1      </td><td>0      </td><td>0      </td><td>1      </td><td>    484</td></tr>\n",
       "\t<tr><td>1      </td><td>1      </td><td>1      </td><td>0      </td><td>1      </td><td>0      </td><td>  36947</td></tr>\n",
       "\t<tr><td>1      </td><td>1      </td><td>1      </td><td>0      </td><td>1      </td><td>1      </td><td>  10060</td></tr>\n",
       "\t<tr><td>1      </td><td>1      </td><td>1      </td><td>1      </td><td>0      </td><td>0      </td><td>    220</td></tr>\n",
       "\t<tr><td>1      </td><td>1      </td><td>1      </td><td>1      </td><td>1      </td><td>0      </td><td>   2345</td></tr>\n",
       "\t<tr><td>1      </td><td>1      </td><td>1      </td><td>1      </td><td>1      </td><td>1      </td><td>   1760</td></tr>\n",
       "</tbody>\n",
       "</table>\n"
      ],
      "text/latex": [
       "\\begin{tabular}{r|lllllll}\n",
       " toxic & severe\\_toxic & obscene & threat & insult & identity\\_hate & total\\\\\n",
       "\\hline\n",
       "\t 0       & 0       & 0       & 0       & 0       & 0       & 3890522\\\\\n",
       "\t 0       & 0       & 0       & 0       & 0       & 1       &    1905\\\\\n",
       "\t 0       & 0       & 0       & 0       & 1       & 0       &    6565\\\\\n",
       "\t 0       & 0       & 0       & 0       & 1       & 1       &     697\\\\\n",
       "\t 0       & 0       & 0       & 1       & 0       & 0       &     251\\\\\n",
       "\t 0       & 0       & 0       & 1       & 1       & 0       &     455\\\\\n",
       "\t 0       & 0       & 1       & 0       & 0       & 0       &   10842\\\\\n",
       "\t 0       & 0       & 1       & 0       & 0       & 1       &      60\\\\\n",
       "\t 0       & 0       & 1       & 0       & 1       & 0       &    5257\\\\\n",
       "\t 0       & 0       & 1       & 0       & 1       & 1       &     482\\\\\n",
       "\t 0       & 0       & 1       & 1       & 0       & 0       &      82\\\\\n",
       "\t 0       & 0       & 1       & 1       & 1       & 0       &      86\\\\\n",
       "\t 1       & 0       & 0       & 0       & 0       & 0       &  136208\\\\\n",
       "\t 1       & 0       & 0       & 0       & 0       & 1       &    1819\\\\\n",
       "\t 1       & 0       & 0       & 0       & 1       & 0       &   20710\\\\\n",
       "\t 1       & 0       & 0       & 0       & 1       & 1       &    3193\\\\\n",
       "\t 1       & 0       & 0       & 1       & 0       & 0       &     732\\\\\n",
       "\t 1       & 0       & 0       & 1       & 0       & 1       &      41\\\\\n",
       "\t 1       & 0       & 0       & 1       & 1       & 0       &     133\\\\\n",
       "\t 1       & 0       & 0       & 1       & 1       & 1       &      40\\\\\n",
       "\t 1       & 0       & 1       & 0       & 0       & 0       &   31930\\\\\n",
       "\t 1       & 0       & 1       & 0       & 0       & 1       &     910\\\\\n",
       "\t 1       & 0       & 1       & 0       & 1       & 0       &   62911\\\\\n",
       "\t 1       & 0       & 1       & 0       & 1       & 1       &   15270\\\\\n",
       "\t 1       & 0       & 1       & 1       & 0       & 0       &     198\\\\\n",
       "\t 1       & 0       & 1       & 1       & 1       & 0       &    3090\\\\\n",
       "\t 1       & 0       & 1       & 1       & 1       & 1       &    1302\\\\\n",
       "\t 1       & 1       & 0       & 0       & 0       & 0       &    2745\\\\\n",
       "\t 1       & 1       & 0       & 0       & 0       & 1       &     133\\\\\n",
       "\t 1       & 1       & 0       & 0       & 1       & 0       &    1340\\\\\n",
       "\t 1       & 1       & 0       & 0       & 1       & 1       &     934\\\\\n",
       "\t 1       & 1       & 0       & 1       & 0       & 0       &    1130\\\\\n",
       "\t 1       & 1       & 0       & 1       & 0       & 1       &      32\\\\\n",
       "\t 1       & 1       & 0       & 1       & 1       & 0       &       9\\\\\n",
       "\t 1       & 1       & 1       & 0       & 0       & 0       &    9565\\\\\n",
       "\t 1       & 1       & 1       & 0       & 0       & 1       &     484\\\\\n",
       "\t 1       & 1       & 1       & 0       & 1       & 0       &   36947\\\\\n",
       "\t 1       & 1       & 1       & 0       & 1       & 1       &   10060\\\\\n",
       "\t 1       & 1       & 1       & 1       & 0       & 0       &     220\\\\\n",
       "\t 1       & 1       & 1       & 1       & 1       & 0       &    2345\\\\\n",
       "\t 1       & 1       & 1       & 1       & 1       & 1       &    1760\\\\\n",
       "\\end{tabular}\n"
      ],
      "text/markdown": [
       "\n",
       "toxic | severe_toxic | obscene | threat | insult | identity_hate | total | \n",
       "|---|---|---|---|---|---|---|---|---|---|---|---|---|---|---|---|---|---|---|---|---|---|---|---|---|---|---|---|---|---|---|---|---|---|---|---|---|---|---|---|---|\n",
       "| 0       | 0       | 0       | 0       | 0       | 0       | 3890522 | \n",
       "| 0       | 0       | 0       | 0       | 0       | 1       |    1905 | \n",
       "| 0       | 0       | 0       | 0       | 1       | 0       |    6565 | \n",
       "| 0       | 0       | 0       | 0       | 1       | 1       |     697 | \n",
       "| 0       | 0       | 0       | 1       | 0       | 0       |     251 | \n",
       "| 0       | 0       | 0       | 1       | 1       | 0       |     455 | \n",
       "| 0       | 0       | 1       | 0       | 0       | 0       |   10842 | \n",
       "| 0       | 0       | 1       | 0       | 0       | 1       |      60 | \n",
       "| 0       | 0       | 1       | 0       | 1       | 0       |    5257 | \n",
       "| 0       | 0       | 1       | 0       | 1       | 1       |     482 | \n",
       "| 0       | 0       | 1       | 1       | 0       | 0       |      82 | \n",
       "| 0       | 0       | 1       | 1       | 1       | 0       |      86 | \n",
       "| 1       | 0       | 0       | 0       | 0       | 0       |  136208 | \n",
       "| 1       | 0       | 0       | 0       | 0       | 1       |    1819 | \n",
       "| 1       | 0       | 0       | 0       | 1       | 0       |   20710 | \n",
       "| 1       | 0       | 0       | 0       | 1       | 1       |    3193 | \n",
       "| 1       | 0       | 0       | 1       | 0       | 0       |     732 | \n",
       "| 1       | 0       | 0       | 1       | 0       | 1       |      41 | \n",
       "| 1       | 0       | 0       | 1       | 1       | 0       |     133 | \n",
       "| 1       | 0       | 0       | 1       | 1       | 1       |      40 | \n",
       "| 1       | 0       | 1       | 0       | 0       | 0       |   31930 | \n",
       "| 1       | 0       | 1       | 0       | 0       | 1       |     910 | \n",
       "| 1       | 0       | 1       | 0       | 1       | 0       |   62911 | \n",
       "| 1       | 0       | 1       | 0       | 1       | 1       |   15270 | \n",
       "| 1       | 0       | 1       | 1       | 0       | 0       |     198 | \n",
       "| 1       | 0       | 1       | 1       | 1       | 0       |    3090 | \n",
       "| 1       | 0       | 1       | 1       | 1       | 1       |    1302 | \n",
       "| 1       | 1       | 0       | 0       | 0       | 0       |    2745 | \n",
       "| 1       | 1       | 0       | 0       | 0       | 1       |     133 | \n",
       "| 1       | 1       | 0       | 0       | 1       | 0       |    1340 | \n",
       "| 1       | 1       | 0       | 0       | 1       | 1       |     934 | \n",
       "| 1       | 1       | 0       | 1       | 0       | 0       |    1130 | \n",
       "| 1       | 1       | 0       | 1       | 0       | 1       |      32 | \n",
       "| 1       | 1       | 0       | 1       | 1       | 0       |       9 | \n",
       "| 1       | 1       | 1       | 0       | 0       | 0       |    9565 | \n",
       "| 1       | 1       | 1       | 0       | 0       | 1       |     484 | \n",
       "| 1       | 1       | 1       | 0       | 1       | 0       |   36947 | \n",
       "| 1       | 1       | 1       | 0       | 1       | 1       |   10060 | \n",
       "| 1       | 1       | 1       | 1       | 0       | 0       |     220 | \n",
       "| 1       | 1       | 1       | 1       | 1       | 0       |    2345 | \n",
       "| 1       | 1       | 1       | 1       | 1       | 1       |    1760 | \n",
       "\n",
       "\n"
      ],
      "text/plain": [
       "   toxic severe_toxic obscene threat insult identity_hate total  \n",
       "1  0     0            0       0      0      0             3890522\n",
       "2  0     0            0       0      0      1                1905\n",
       "3  0     0            0       0      1      0                6565\n",
       "4  0     0            0       0      1      1                 697\n",
       "5  0     0            0       1      0      0                 251\n",
       "6  0     0            0       1      1      0                 455\n",
       "7  0     0            1       0      0      0               10842\n",
       "8  0     0            1       0      0      1                  60\n",
       "9  0     0            1       0      1      0                5257\n",
       "10 0     0            1       0      1      1                 482\n",
       "11 0     0            1       1      0      0                  82\n",
       "12 0     0            1       1      1      0                  86\n",
       "13 1     0            0       0      0      0              136208\n",
       "14 1     0            0       0      0      1                1819\n",
       "15 1     0            0       0      1      0               20710\n",
       "16 1     0            0       0      1      1                3193\n",
       "17 1     0            0       1      0      0                 732\n",
       "18 1     0            0       1      0      1                  41\n",
       "19 1     0            0       1      1      0                 133\n",
       "20 1     0            0       1      1      1                  40\n",
       "21 1     0            1       0      0      0               31930\n",
       "22 1     0            1       0      0      1                 910\n",
       "23 1     0            1       0      1      0               62911\n",
       "24 1     0            1       0      1      1               15270\n",
       "25 1     0            1       1      0      0                 198\n",
       "26 1     0            1       1      1      0                3090\n",
       "27 1     0            1       1      1      1                1302\n",
       "28 1     1            0       0      0      0                2745\n",
       "29 1     1            0       0      0      1                 133\n",
       "30 1     1            0       0      1      0                1340\n",
       "31 1     1            0       0      1      1                 934\n",
       "32 1     1            0       1      0      0                1130\n",
       "33 1     1            0       1      0      1                  32\n",
       "34 1     1            0       1      1      0                   9\n",
       "35 1     1            1       0      0      0                9565\n",
       "36 1     1            1       0      0      1                 484\n",
       "37 1     1            1       0      1      0               36947\n",
       "38 1     1            1       0      1      1               10060\n",
       "39 1     1            1       1      0      0                 220\n",
       "40 1     1            1       1      1      0                2345\n",
       "41 1     1            1       1      1      1                1760"
      ]
     },
     "metadata": {},
     "output_type": "display_data"
    }
   ],
   "source": [
    "Words <- comment %>%\n",
    "  unnest_tokens(word, comment_text) %>%\n",
    "   anti_join(stop_words) %>%\n",
    "  count(toxic,severe_toxic,obscene,threat,insult,identity_hate,word) %>%\n",
    "  ungroup()\n",
    "\n",
    "total_words <- Words %>% \n",
    "  group_by(toxic,severe_toxic,obscene,threat,insult,identity_hate) %>% \n",
    "  summarize(total = sum(n))\n",
    "\n",
    "total_words"
   ]
  },
  {
   "cell_type": "code",
   "execution_count": 38,
   "metadata": {},
   "outputs": [
    {
     "data": {
      "text/html": [
       "<ol class=list-inline>\n",
       "\t<li>'toxic'</li>\n",
       "\t<li>'severe_toxic'</li>\n",
       "\t<li>'obscene'</li>\n",
       "\t<li>'threat'</li>\n",
       "\t<li>'insult'</li>\n",
       "\t<li>'identity_hate'</li>\n",
       "\t<li>'total'</li>\n",
       "</ol>\n"
      ],
      "text/latex": [
       "\\begin{enumerate*}\n",
       "\\item 'toxic'\n",
       "\\item 'severe\\_toxic'\n",
       "\\item 'obscene'\n",
       "\\item 'threat'\n",
       "\\item 'insult'\n",
       "\\item 'identity\\_hate'\n",
       "\\item 'total'\n",
       "\\end{enumerate*}\n"
      ],
      "text/markdown": [
       "1. 'toxic'\n",
       "2. 'severe_toxic'\n",
       "3. 'obscene'\n",
       "4. 'threat'\n",
       "5. 'insult'\n",
       "6. 'identity_hate'\n",
       "7. 'total'\n",
       "\n",
       "\n"
      ],
      "text/plain": [
       "[1] \"toxic\"         \"severe_toxic\"  \"obscene\"       \"threat\"       \n",
       "[5] \"insult\"        \"identity_hate\" \"total\"        "
      ]
     },
     "metadata": {},
     "output_type": "display_data"
    }
   ],
   "source": [
    "colnames(total_words)"
   ]
  },
  {
   "cell_type": "markdown",
   "metadata": {},
   "source": [
    "# TF-IDF"
   ]
  },
  {
   "cell_type": "markdown",
   "metadata": {},
   "source": [
    "The statistic tf-idf is intended to measure how important a word is to a document in a collection (or corpus) of documents, for example, to one novel in a collection of novels or to one website in a collection of websites.\n",
    "\n",
    "One measure of how important a word may be is its term frequency (tf), how frequently a word occurs in a document.\n",
    "\n",
    "Inverse document frequency (idf), decreases the weight for commonly used words and increases the weight for words that are not used very much in a collection of documents. This can be combined with term frequency to calculate a term’s tf-idf (the two quantities multiplied together), the frequency of a term adjusted for how rarely it is used.\n",
    " \n",
    "The inverse document frequency for any given term is defined as"
   ]
  },
  {
   "attachments": {
    "tf-idf.PNG": {
     "image/png": "[encoded data removed]"
    }
   },
   "cell_type": "markdown",
   "metadata": {},
   "source": [
    "![tf-idf.PNG](attachment:tf-idf.PNG)"
   ]
  },
  {
   "cell_type": "code",
   "execution_count": 52,
   "metadata": {},
   "outputs": [
    {
     "name": "stderr",
     "output_type": "stream",
     "text": [
      "Joining, by = c(\"toxic\", \"severe_toxic\", \"obscene\", \"threat\", \"insult\", \"identity_hate\")\n",
      "Selecting by tf_idf\n"
     ]
    },
    {
     "data": {},
     "metadata": {},
     "output_type": "display_data"
    },
    {
     "data": {
      "image/png": "[encoded data removed]",
      "text/plain": [
       "plot without title"
      ]
     },
     "metadata": {},
     "output_type": "display_data"
    }
   ],
   "source": [
    "#list of 20 most important words\n",
    "class = 1:41\n",
    "total_words$class <- class\n",
    "trainWords <- left_join(Words, total_words)\n",
    "\n",
    "trainWords <- trainWords %>%\n",
    "  bind_tf_idf(word, class, n)\n",
    "\n",
    "trainWords %>%\n",
    "  arrange(desc(tf_idf)) %>%\n",
    "  mutate(word = factor(word, levels = rev(unique(word)))) %>% \n",
    "  top_n(20) %>%\n",
    "  ggplot(aes(word, tf_idf)) +\n",
    "  geom_col(aes(fill = word), color = 'black') +\n",
    "  labs(x = NULL, y = \"tf-idf\") +\n",
    "  coord_flip()\n",
    "  "
   ]
  },
  {
   "cell_type": "markdown",
   "metadata": {},
   "source": [
    "We now are able to draw the most important words and clearly it makes sense to have them(toxic words) in our list.\n",
    "Let's look into them in detail by each target variable."
   ]
  },
  {
   "cell_type": "code",
   "execution_count": 66,
   "metadata": {},
   "outputs": [],
   "source": [
    "trainWords <- trainWords %>%\n",
    "  arrange(desc(tf_idf)) %>%\n",
    "  mutate(word = factor(word, levels = rev(unique(word))))"
   ]
  },
  {
   "cell_type": "code",
   "execution_count": 86,
   "metadata": {},
   "outputs": [
    {
     "name": "stderr",
     "output_type": "stream",
     "text": [
      "Selecting by tf_idf\n"
     ]
    },
    {
     "data": {},
     "metadata": {},
     "output_type": "display_data"
    },
    {
     "data": {
      "image/png": "[encoded data removed]",
      "text/plain": [
       "plot without title"
      ]
     },
     "metadata": {},
     "output_type": "display_data"
    }
   ],
   "source": [
    "#important words in toxic\n",
    "trainWords %>%\n",
    "  filter(toxic == 1) %>%\n",
    "  top_n(20) %>%\n",
    "  ggplot(aes(word, tf_idf)) +\n",
    "  geom_col(fill = '#db1526', color = 'black') +\n",
    "  labs(x = NULL, y = \"tf-idf\") +\n",
    "  coord_flip()"
   ]
  },
  {
   "cell_type": "code",
   "execution_count": 84,
   "metadata": {},
   "outputs": [
    {
     "name": "stderr",
     "output_type": "stream",
     "text": [
      "Selecting by tf_idf\n"
     ]
    },
    {
     "data": {},
     "metadata": {},
     "output_type": "display_data"
    },
    {
     "data": {
      "image/png": "[encoded data removed]",
      "text/plain": [
       "plot without title"
      ]
     },
     "metadata": {},
     "output_type": "display_data"
    }
   ],
   "source": [
    "#important words in severe_toxic\n",
    "trainWords %>%\n",
    "  filter(severe_toxic == 1) %>%\n",
    "  top_n(20) %>%\n",
    "  ggplot(aes(word, tf_idf)) +\n",
    "  geom_col(fill = '#ef0404', color = 'black') +\n",
    "  labs(x = NULL, y = \"tf-idf\") +\n",
    "  coord_flip()"
   ]
  },
  {
   "cell_type": "code",
   "execution_count": 82,
   "metadata": {},
   "outputs": [
    {
     "name": "stderr",
     "output_type": "stream",
     "text": [
      "Selecting by tf_idf\n"
     ]
    },
    {
     "data": {},
     "metadata": {},
     "output_type": "display_data"
    },
    {
     "data": {
      "image/png": "[encoded data removed]",
      "text/plain": [
       "plot without title"
      ]
     },
     "metadata": {},
     "output_type": "display_data"
    }
   ],
   "source": [
    "#important words in obscene\n",
    "trainWords %>%\n",
    "  filter(obscene == 1) %>%\n",
    "  top_n(20) %>%\n",
    "  ggplot(aes(word, tf_idf)) +\n",
    "  geom_col(fill = '#0c0000') +\n",
    "  labs(x = NULL, y = \"tf-idf\") +\n",
    "  coord_flip()"
   ]
  },
  {
   "cell_type": "code",
   "execution_count": 87,
   "metadata": {},
   "outputs": [
    {
     "name": "stderr",
     "output_type": "stream",
     "text": [
      "Selecting by tf_idf\n"
     ]
    },
    {
     "data": {},
     "metadata": {},
     "output_type": "display_data"
    },
    {
     "data": {
      "image/png": "[encoded data removed]",
      "text/plain": [
       "plot without title"
      ]
     },
     "metadata": {},
     "output_type": "display_data"
    }
   ],
   "source": [
    "#important words in threat\n",
    "trainWords %>%\n",
    "  filter(threat == 1) %>%\n",
    "  top_n(20) %>%\n",
    "  ggplot(aes(word, tf_idf)) +\n",
    "  geom_col(fill = '#a78383', color = 'black') +\n",
    "  labs(x = NULL, y = \"tf-idf\") +\n",
    "  coord_flip()"
   ]
  },
  {
   "cell_type": "code",
   "execution_count": 88,
   "metadata": {},
   "outputs": [
    {
     "name": "stderr",
     "output_type": "stream",
     "text": [
      "Selecting by tf_idf\n"
     ]
    },
    {
     "data": {},
     "metadata": {},
     "output_type": "display_data"
    },
    {
     "data": {
      "image/png": "[encoded data removed]",
      "text/plain": [
       "plot without title"
      ]
     },
     "metadata": {},
     "output_type": "display_data"
    }
   ],
   "source": [
    "#important words in insult\n",
    "trainWords %>%\n",
    "  filter(insult == 1) %>%\n",
    "  top_n(20) %>%\n",
    "  ggplot(aes(word, tf_idf)) +\n",
    "  geom_col(fill = '#302022', color = 'black') +\n",
    "  labs(x = NULL, y = \"tf-idf\") +\n",
    "  coord_flip()"
   ]
  },
  {
   "cell_type": "code",
   "execution_count": 89,
   "metadata": {},
   "outputs": [
    {
     "name": "stderr",
     "output_type": "stream",
     "text": [
      "Selecting by tf_idf\n"
     ]
    },
    {
     "data": {},
     "metadata": {},
     "output_type": "display_data"
    },
    {
     "data": {
      "image/png": "[encoded data removed]",
      "text/plain": [
       "plot without title"
      ]
     },
     "metadata": {},
     "output_type": "display_data"
    }
   ],
   "source": [
    "#important words in identity_hate\n",
    "trainWords %>%\n",
    "  filter(identity_hate == 1) %>%\n",
    "  top_n(20) %>%\n",
    "  ggplot(aes(word, tf_idf)) +\n",
    "  geom_col(fill = '#190003', color = 'black') +\n",
    "  labs(x = NULL, y = \"tf-idf\") +\n",
    "  coord_flip()"
   ]
  },
  {
   "cell_type": "markdown",
   "metadata": {},
   "source": [
    "How about a wordcloud for the same,"
   ]
  },
  {
   "cell_type": "code",
   "execution_count": 100,
   "metadata": {},
   "outputs": [
    {
     "data": {
      "image/png": "[encoded data removed]",
      "text/plain": [
       "plot without title"
      ]
     },
     "metadata": {},
     "output_type": "display_data"
    }
   ],
   "source": [
    "trainWords %>%\n",
    "  with(wordcloud(word, tf_idf, max.words = 150,colors=brewer.pal(8, \"Dark2\")))"
   ]
  },
  {
   "cell_type": "code",
   "execution_count": null,
   "metadata": {},
   "outputs": [],
   "source": []
  }
 ],
 "metadata": {
  "kernelspec": {
   "display_name": "R",
   "language": "R",
   "name": "ir"
  },
  "language_info": {
   "codemirror_mode": "r",
   "file_extension": ".r",
   "mimetype": "text/x-r-source",
   "name": "R",
   "pygments_lexer": "r",
   "version": "3.4.3"
  }
 },
 "nbformat": 4,
 "nbformat_minor": 2
}
