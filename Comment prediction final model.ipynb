{
 "cells": [
  {
   "cell_type": "markdown",
   "metadata": {},
   "source": [
    "# TOXIC COMMENT CLASSIFICATION PART 2 \n",
    "cont.. from  Comment Classification initial overview and EDA"
   ]
  },
  {
   "cell_type": "markdown",
   "metadata": {},
   "source": [
    "Here we'll revisit the information extracted from PART 1 of our analysis and see how we can use it in model building"
   ]
  },
  {
   "cell_type": "code",
   "execution_count": 1,
   "metadata": {},
   "outputs": [
    {
     "data": {
      "text/html": [
       "'C:/Users/sugand1994/Downloads'"
      ],
      "text/latex": [
       "'C:/Users/sugand1994/Downloads'"
      ],
      "text/markdown": [
       "'C:/Users/sugand1994/Downloads'"
      ],
      "text/plain": [
       "[1] \"C:/Users/sugand1994/Downloads\""
      ]
     },
     "metadata": {},
     "output_type": "display_data"
    }
   ],
   "source": [
    "getwd()"
   ]
  },
  {
   "cell_type": "code",
   "execution_count": 2,
   "metadata": {},
   "outputs": [
    {
     "name": "stderr",
     "output_type": "stream",
     "text": [
      "Loading required package: NLP\n",
      "Loading required package: RColorBrewer\n",
      "\n",
      "Attaching package: 'dplyr'\n",
      "\n",
      "The following objects are masked from 'package:stats':\n",
      "\n",
      "    filter, lag\n",
      "\n",
      "The following objects are masked from 'package:base':\n",
      "\n",
      "    intersect, setdiff, setequal, union\n",
      "\n",
      "\n",
      "Attaching package: 'ggplot2'\n",
      "\n",
      "The following object is masked from 'package:NLP':\n",
      "\n",
      "    annotate\n",
      "\n"
     ]
    }
   ],
   "source": [
    "#list of libraries required\n",
    "library(tm)\n",
    "library(SnowballC)\n",
    "library(dplyr)\n",
    "library(ggplot2)\n",
    "library(rpart)\n",
    "library(tidyr)\n",
    "library(tidytext)\n",
    "library(textstem)"
   ]
  },
  {
   "cell_type": "code",
   "execution_count": 3,
   "metadata": {},
   "outputs": [],
   "source": [
    "train <- read.csv('comment.train.csv', stringsAsFactors=FALSE )"
   ]
  },
  {
   "cell_type": "code",
   "execution_count": 4,
   "metadata": {},
   "outputs": [
    {
     "data": {
      "text/html": [
       "<ol class=list-inline>\n",
       "\t<li>159571</li>\n",
       "\t<li>8</li>\n",
       "</ol>\n"
      ],
      "text/latex": [
       "\\begin{enumerate*}\n",
       "\\item 159571\n",
       "\\item 8\n",
       "\\end{enumerate*}\n"
      ],
      "text/markdown": [
       "1. 159571\n",
       "2. 8\n",
       "\n",
       "\n"
      ],
      "text/plain": [
       "[1] 159571      8"
      ]
     },
     "metadata": {},
     "output_type": "display_data"
    }
   ],
   "source": [
    "dim(train)"
   ]
  },
  {
   "cell_type": "code",
   "execution_count": 5,
   "metadata": {},
   "outputs": [
    {
     "name": "stdout",
     "output_type": "stream",
     "text": [
      "'data.frame':\t159571 obs. of  8 variables:\n",
      " $ id           : chr  \"0000997932d777bf\" \"000103f0d9cfb60f\" \"000113f07ec002fd\" \"0001b41b1c6bb37e\" ...\n",
      " $ comment_text : chr  \"Explanation\\nWhy the edits made under my username Hardcore Metallica Fan were reverted? They weren't vandalisms\"| __truncated__ \"D'aww! He matches this background colour I'm seemingly stuck with. Thanks.  (talk) 21:51, January 11, 2016 (UTC)\" \"Hey man, I'm really not trying to edit war. It's just that this guy is constantly removing relevant information\"| __truncated__ \"\\\"\\nMore\\nI can't make any real suggestions on improvement - I wondered if the section statistics should be lat\"| __truncated__ ...\n",
      " $ toxic        : int  0 0 0 0 0 0 1 0 0 0 ...\n",
      " $ severe_toxic : int  0 0 0 0 0 0 1 0 0 0 ...\n",
      " $ obscene      : int  0 0 0 0 0 0 1 0 0 0 ...\n",
      " $ threat       : int  0 0 0 0 0 0 0 0 0 0 ...\n",
      " $ insult       : int  0 0 0 0 0 0 1 0 0 0 ...\n",
      " $ identity_hate: int  0 0 0 0 0 0 0 0 0 0 ...\n"
     ]
    }
   ],
   "source": [
    "str(train)"
   ]
  },
  {
   "cell_type": "code",
   "execution_count": 6,
   "metadata": {},
   "outputs": [],
   "source": [
    "test <- read.csv('commtest.csv', stringsAsFactors=FALSE )"
   ]
  },
  {
   "cell_type": "code",
   "execution_count": 7,
   "metadata": {},
   "outputs": [
    {
     "name": "stdout",
     "output_type": "stream",
     "text": [
      "'data.frame':\t153164 obs. of  2 variables:\n",
      " $ id          : chr  \"00001cee341fdb12\" \"0000247867823ef7\" \"00013b17ad220c46\" \"00017563c3f7919a\" ...\n",
      " $ comment_text: chr  \"Yo bitch Ja Rule is more succesful then you'll ever be whats up with you and hating you sad mofuckas...i should\"| __truncated__ \"== From RfC == \\n\\n The title is fine as it is, IMO.\" \"\\\" \\n\\n == Sources == \\n\\n * Zawe Ashton on Lapland â€”  /  \\\"\" \":If you have a look back at the source, the information I updated was the correct form. I can only guess the so\"| __truncated__ ...\n"
     ]
    }
   ],
   "source": [
    "str(test)"
   ]
  },
  {
   "cell_type": "code",
   "execution_count": 8,
   "metadata": {},
   "outputs": [],
   "source": [
    "target <- read.csv('commsample_submission.csv')"
   ]
  },
  {
   "cell_type": "code",
   "execution_count": 9,
   "metadata": {},
   "outputs": [
    {
     "name": "stdout",
     "output_type": "stream",
     "text": [
      "'data.frame':\t153164 obs. of  7 variables:\n",
      " $ id           : Factor w/ 153164 levels \"00001cee341fdb12\",..: 1 2 3 4 5 6 7 8 9 10 ...\n",
      " $ toxic        : num  0.5 0.5 0.5 0.5 0.5 0.5 0.5 0.5 0.5 0.5 ...\n",
      " $ severe_toxic : num  0.5 0.5 0.5 0.5 0.5 0.5 0.5 0.5 0.5 0.5 ...\n",
      " $ obscene      : num  0.5 0.5 0.5 0.5 0.5 0.5 0.5 0.5 0.5 0.5 ...\n",
      " $ threat       : num  0.5 0.5 0.5 0.5 0.5 0.5 0.5 0.5 0.5 0.5 ...\n",
      " $ insult       : num  0.5 0.5 0.5 0.5 0.5 0.5 0.5 0.5 0.5 0.5 ...\n",
      " $ identity_hate: num  0.5 0.5 0.5 0.5 0.5 0.5 0.5 0.5 0.5 0.5 ...\n"
     ]
    }
   ],
   "source": [
    "str(target)"
   ]
  },
  {
   "cell_type": "code",
   "execution_count": 10,
   "metadata": {},
   "outputs": [],
   "source": [
    "#now lets merge the target and test data by 'id' for our further analysis\n",
    "test <- merge(test,target, by = 'id' )"
   ]
  },
  {
   "cell_type": "code",
   "execution_count": 11,
   "metadata": {},
   "outputs": [
    {
     "data": {
      "text/html": [
       "<ol class=list-inline>\n",
       "\t<li>'id'</li>\n",
       "\t<li>'comment_text'</li>\n",
       "\t<li>'toxic'</li>\n",
       "\t<li>'severe_toxic'</li>\n",
       "\t<li>'obscene'</li>\n",
       "\t<li>'threat'</li>\n",
       "\t<li>'insult'</li>\n",
       "\t<li>'identity_hate'</li>\n",
       "</ol>\n"
      ],
      "text/latex": [
       "\\begin{enumerate*}\n",
       "\\item 'id'\n",
       "\\item 'comment\\_text'\n",
       "\\item 'toxic'\n",
       "\\item 'severe\\_toxic'\n",
       "\\item 'obscene'\n",
       "\\item 'threat'\n",
       "\\item 'insult'\n",
       "\\item 'identity\\_hate'\n",
       "\\end{enumerate*}\n"
      ],
      "text/markdown": [
       "1. 'id'\n",
       "2. 'comment_text'\n",
       "3. 'toxic'\n",
       "4. 'severe_toxic'\n",
       "5. 'obscene'\n",
       "6. 'threat'\n",
       "7. 'insult'\n",
       "8. 'identity_hate'\n",
       "\n",
       "\n"
      ],
      "text/plain": [
       "[1] \"id\"            \"comment_text\"  \"toxic\"         \"severe_toxic\" \n",
       "[5] \"obscene\"       \"threat\"        \"insult\"        \"identity_hate\""
      ]
     },
     "metadata": {},
     "output_type": "display_data"
    }
   ],
   "source": [
    "colnames(test)"
   ]
  },
  {
   "cell_type": "code",
   "execution_count": 12,
   "metadata": {},
   "outputs": [],
   "source": [
    "#now let's create a complete dataset for text cleaning and create a document term matrix and later let's split it.\n",
    "comment <- rbind(train, test)"
   ]
  },
  {
   "cell_type": "code",
   "execution_count": 13,
   "metadata": {},
   "outputs": [],
   "source": [
    "comment$comment_text <- sapply(comment$comment_text,tolower)\n",
    "comment$comment_text = iconv(comment$comment_text, 'UTF-8', 'ASCII') # to remove EMOTICONS "
   ]
  },
  {
   "cell_type": "code",
   "execution_count": 14,
   "metadata": {},
   "outputs": [],
   "source": [
    "removeSpecialChars <- function(x) gsub(\"[^a-zA-Z0-9 ]\", \" \", x)"
   ]
  },
  {
   "cell_type": "code",
   "execution_count": 15,
   "metadata": {},
   "outputs": [],
   "source": [
    "#custom fucntion to fix the contractions\n",
    "fix.contractions <- function(doc) {\n",
    "  # \"won't\" is a special case as it does not expand to \"wo not\"\n",
    "  doc <- gsub(\"won't\", \"will not\", doc)\n",
    "  doc <- gsub(\"can't\", \"can not\", doc)\n",
    "  doc <- gsub(\"n't\", \" not\", doc)\n",
    "  doc <- gsub(\"'ll\", \" will\", doc)\n",
    "  doc <- gsub(\"'re\", \" are\", doc)\n",
    "  doc <- gsub(\"'ve\", \" have\", doc)\n",
    "  doc <- gsub(\"'m\", \" am\", doc)\n",
    "  doc <- gsub(\"'d\", \" would\", doc)\n",
    "  # 's could be 'is' or could be possessive: it has no expansion\n",
    "  doc <- gsub(\"'s\", \"\", doc)\n",
    "  return(doc)\n",
    " }"
   ]
  },
  {
   "cell_type": "code",
   "execution_count": 16,
   "metadata": {},
   "outputs": [],
   "source": [
    "comment$comment_text <- sapply(comment$comment_text, fix.contractions)\n",
    "comment$comment_text <- sapply(comment$comment_text, removeSpecialChars)\n"
   ]
  },
  {
   "cell_type": "code",
   "execution_count": 17,
   "metadata": {},
   "outputs": [],
   "source": [
    "# described in part1, now to proceed further we lemmatize the strings.\n",
    "#Lemmatization usually refers to doing things properly with the use of a vocabulary and morphological analysis of words,\n",
    "#normally aiming to remove inflectional endings only and to return the base or dictionary form of a word,\n",
    "#which is known as the lemma .\n",
    "comment$comment_text <- lemmatize_strings(comment$comment_text) "
   ]
  },
  {
   "cell_type": "markdown",
   "metadata": {},
   "source": [
    "We saw that our base model's accuracy was 90%, now let's focus on improving the accuracy.\n",
    "\n",
    "One of the most important practice in text mining is: Domain Specific Features in the Corpus\n",
    "\n",
    "For a classification problem, it is important to choose the test and training corpus very carefully. For a variety of features to act in the classification algorithm, here the immediate thought that flashes in mind is feature engineering."
   ]
  },
  {
   "cell_type": "markdown",
   "metadata": {},
   "source": [
    "# FEATURE ENGINEERING"
   ]
  },
  {
   "cell_type": "markdown",
   "metadata": {},
   "source": [
    "From part 1 we extracted wordclouds, most used words, sentiment analysis and TD-IDF where we we were able to find the \n",
    "most crucial words. Now we make use of them and extract 59 new features."
   ]
  },
  {
   "cell_type": "markdown",
   "metadata": {},
   "source": [
    "Features extracted from sentiment analysis of negative words"
   ]
  },
  {
   "cell_type": "code",
   "execution_count": 18,
   "metadata": {},
   "outputs": [],
   "source": [
    "comment$fuck <- ifelse(grepl(\"fuck\", comment$comment_text),1,0)\n",
    "comment$self <- ifelse(grepl(\"self\", comment$comment_text),1,0)\n",
    "comment$your <- ifelse(grepl(\"your\", comment$comment_text),1,0)\n",
    "comment$shit <- ifelse(grepl(\"shit\", comment$comment_text),1,0)\n",
    "comment$hate <- ifelse(grepl(\"hate\", comment$comment_text),1,0)\n",
    "comment$hell <- ifelse(grepl(\"hell\", comment$comment_text),1,0)\n",
    "comment$fat <- ifelse(grepl(\"fat\", comment$comment_text),1,0)\n",
    "comment$shut <- ifelse(grepl(\"shut\", comment$comment_text),1,0)\n",
    "comment$attack <- ifelse(grepl(\"attack\", comment$comment_text),1,0)\n",
    "comment$stupid <- ifelse(grepl(\"stupid\", comment$comment_text),1,0)\n",
    "comment$moron <- ifelse(grepl(\"moron\", comment$comment_text),1,0)\n",
    "comment$dispute <- ifelse(grepl(\"dispute\", comment$comment_text),1,0)\n",
    "comment$suck <- ifelse(grepl(\"suck\", comment$comment_text),1,0)\n",
    "comment$cock <- ifelse(grepl(\"cock\", comment$comment_text),1,0)\n",
    "comment$dick <- ifelse(grepl(\"dick\", comment$comment_text),1,0)\n",
    "comment$bitch<- ifelse(grepl(\"bitch\", comment$comment_text),1,0)"
   ]
  },
  {
   "cell_type": "markdown",
   "metadata": {},
   "source": [
    "Features extracted from sentiment analysis of negative words"
   ]
  },
  {
   "cell_type": "code",
   "execution_count": 19,
   "metadata": {},
   "outputs": [],
   "source": [
    "comment$free <- ifelse(grepl(\"free\", comment$comment_text),1,0)\n",
    "comment$reliable <- ifelse(grepl(\"reliable\", comment$comment_text),1,0)\n",
    "comment$fair <- ifelse(grepl(\"fair\", comment$comment_text),1,0)\n",
    "comment$support <- ifelse(grepl(\"support\", comment$comment_text),1,0)\n",
    "comment$correct <- ifelse(grepl(\"correct\", comment$comment_text),1,0)\n",
    "comment$happy <- ifelse(grepl(\"happy\", comment$comment_text),1,0)\n",
    "comment$love <- ifelse(grepl(\"love\", comment$comment_text),1,0)\n",
    "comment$pretty <- ifelse(grepl(\"pretty\", comment$comment_text),1,0)\n",
    "comment$enjoy <- ifelse(grepl(\"enjoy\", comment$comment_text),1,0)\n",
    "comment$speed <- ifelse(grepl(\"speed\", comment$comment_text),1,0)\n",
    "comment$respect <- ifelse(grepl(\"respect\", comment$comment_text),1,0)\n",
    "comment$accurate <- ifelse(grepl(\"accurate\", comment$comment_text),1,0)\n",
    "comment$help <- ifelse(grepl(\"help\", comment$comment_text),1,0)\n",
    "comment$fine <- ifelse(grepl(\"fine\", comment$comment_text),1,0)\n",
    "comment$faith <- ifelse(grepl(\"faith\", comment$comment_text),1,0)\n",
    "comment$lead <- ifelse(grepl(\"lead\", comment$comment_text),1,0)\n",
    "comment$improve <- ifelse(grepl(\"improve\", comment$comment_text),1,0)\n"
   ]
  },
  {
   "cell_type": "code",
   "execution_count": null,
   "metadata": {},
   "outputs": [],
   "source": [
    "Features extracted from  TF-IDF analysis"
   ]
  },
  {
   "cell_type": "code",
   "execution_count": 20,
   "metadata": {},
   "outputs": [],
   "source": [
    "comment$bleach <- ifelse(grepl(\"bleach\", comment$comment_text),1,0)\n",
    "comment$hero <- ifelse(grepl(\"hero\", comment$comment_text),1,0)\n",
    "comment$sex <- ifelse(grepl(\"sex\", comment$comment_text),1,0)\n",
    "comment$nigger <- ifelse(grepl(\"nigger\", comment$comment_text),1,0)\n",
    "comment$judah <- ifelse(grepl(\"judah\", comment$comment_text),1,0)\n",
    "comment$criminal <- ifelse(grepl(\"criminal\", comment$comment_text),1,0)\n",
    "comment$war <- ifelse(grepl(\"war\", comment$comment_text),1,0)\n",
    "comment$faggot <- ifelse(grepl(\"faggot\", comment$comment_text),1,0)\n",
    "comment$drink <- ifelse(grepl(\"drink\", comment$comment_text),1,0)\n",
    "comment$die <- ifelse(grepl(\"die\", comment$comment_text),1,0)\n",
    "comment$bunk <- ifelse(grepl(\"bunk\", comment$comment_text),1,0)\n",
    "comment$troll <- ifelse(grepl(\"troll\", comment$comment_text),1,0)\n",
    "comment$super <- ifelse(grepl(\"super\", comment$comment_text),1,0)\n",
    "comment$rab <- ifelse(grepl(\"rab\", comment$comment_text),1,0)\n",
    "comment$ass <- ifelse(grepl(\"ass\", comment$comment_text),1,0)\n",
    "comment$gay <- ifelse(grepl(\"gay\", comment$comment_text),1,0)\n",
    "comment$murder <- ifelse(grepl(\"murder\", comment$comment_text),1,0)\n",
    "comment$nl <- ifelse(grepl(\"nl\", comment$comment_text),1,0)\n",
    "comment$colonial <- ifelse(grepl(\"colonial\", comment$comment_text),1,0)\n",
    "comment$occupation <- ifelse(grepl(\"occupation\", comment$comment_text),1,0)\n",
    "comment$arab <- ifelse(grepl(\"arab\", comment$comment_text),1,0)\n",
    "comment$jew <- ifelse(grepl(\"jew\", comment$comment_text),1,0)\n",
    "comment$ers <- ifelse(grepl(\"ers\", comment$comment_text),1,0)\n",
    "comment$kill <- ifelse(grepl(\"kill\", comment$comment_text),1,0)\n",
    "comment$moth <- ifelse(grepl(\"moth\", comment$comment_text),1,0)\n",
    "comment$jerk <- ifelse(grepl(\"jerk\", comment$comment_text),1,0)\n"
   ]
  },
  {
   "cell_type": "code",
   "execution_count": 21,
   "metadata": {},
   "outputs": [],
   "source": [
    "comment_corpus <- Corpus(VectorSource(comment$comment_text))"
   ]
  },
  {
   "cell_type": "code",
   "execution_count": 23,
   "metadata": {},
   "outputs": [],
   "source": [
    "comment_corpus = tm_map(comment_corpus, removeNumbers)\n",
    "comment_corpus = tm_map(comment_corpus, removePunctuation)\n",
    "comment_corpus = tm_map(comment_corpus, removeWords, c(\"the\", \"and\",\"just\",\"try\",\"now\",\"know\",\"give\",\"see\",\"can\",\n",
    "                                                       \"say\",\"take\",\"may\",\"write\",\"much\",\"seem\",\"want\",\"will\",\n",
    "                                                       \"use\",\"add\",\"even\",\"look\",\"find\",\"get\",\"need\",stopwords(\"english\")))\n",
    "comment_corpus = tm_map(comment_corpus, stripWhitespace)"
   ]
  },
  {
   "cell_type": "code",
   "execution_count": 24,
   "metadata": {},
   "outputs": [
    {
     "data": {
      "text/plain": [
       "<<DocumentTermMatrix (documents: 312735, terms: 212384)>>\n",
       "Non-/sparse entries: 5688105/66414222135\n",
       "Sparsity           : 100%\n",
       "Maximal term length: 4955\n",
       "Weighting          : term frequency (tf)"
      ]
     },
     "metadata": {},
     "output_type": "display_data"
    }
   ],
   "source": [
    "comment_dtm <- DocumentTermMatrix(comment_corpus)\n",
    "comment_dtm"
   ]
  },
  {
   "cell_type": "code",
   "execution_count": 25,
   "metadata": {},
   "outputs": [
    {
     "name": "stdout",
     "output_type": "stream",
     "text": [
      "<<DocumentTermMatrix (documents: 6, terms: 6)>>\n",
      "Non-/sparse entries: 0/36\n",
      "Sparsity           : 100%\n",
      "Maximal term length: 8\n",
      "Weighting          : term frequency (tf)\n",
      "Sample             :\n",
      "     Terms\n",
      "Docs  combat day disorder divide dsm early\n",
      "  500      0   0        0      0   0     0\n",
      "  501      0   0        0      0   0     0\n",
      "  502      0   0        0      0   0     0\n",
      "  503      0   0        0      0   0     0\n",
      "  504      0   0        0      0   0     0\n",
      "  505      0   0        0      0   0     0\n"
     ]
    }
   ],
   "source": [
    "inspect(comment_dtm[500:505, 500:505])"
   ]
  },
  {
   "cell_type": "code",
   "execution_count": 26,
   "metadata": {},
   "outputs": [
    {
     "data": {
      "text/html": [
       "<ol class=list-inline>\n",
       "\t<li>312735</li>\n",
       "\t<li>212384</li>\n",
       "</ol>\n"
      ],
      "text/latex": [
       "\\begin{enumerate*}\n",
       "\\item 312735\n",
       "\\item 212384\n",
       "\\end{enumerate*}\n"
      ],
      "text/markdown": [
       "1. 312735\n",
       "2. 212384\n",
       "\n",
       "\n"
      ],
      "text/plain": [
       "[1] 312735 212384"
      ]
     },
     "metadata": {},
     "output_type": "display_data"
    }
   ],
   "source": [
    "dim(comment_dtm)"
   ]
  },
  {
   "cell_type": "markdown",
   "metadata": {},
   "source": [
    "Oops!! that looks like a huge number, one way we can reduce is to filter by the frequency of terms using tm()'s findFreqTerms() function."
   ]
  },
  {
   "cell_type": "code",
   "execution_count": 27,
   "metadata": {},
   "outputs": [],
   "source": [
    "find.fr5 <- findFreqTerms(comment_dtm,5) # find frequency of terms greater than 5 and ignore the rest"
   ]
  },
  {
   "cell_type": "code",
   "execution_count": 28,
   "metadata": {},
   "outputs": [
    {
     "data": {
      "text/html": [
       "40940"
      ],
      "text/latex": [
       "40940"
      ],
      "text/markdown": [
       "40940"
      ],
      "text/plain": [
       "[1] 40940"
      ]
     },
     "metadata": {},
     "output_type": "display_data"
    }
   ],
   "source": [
    "length(find.fr5)"
   ]
  },
  {
   "cell_type": "code",
   "execution_count": 29,
   "metadata": {},
   "outputs": [],
   "source": [
    "comment_dtm2 <- DocumentTermMatrix(comment_corpus, control = list(dictionary = find.fr5))"
   ]
  },
  {
   "cell_type": "code",
   "execution_count": 30,
   "metadata": {},
   "outputs": [
    {
     "data": {
      "text/html": [
       "<ol class=list-inline>\n",
       "\t<li>312735</li>\n",
       "\t<li>40940</li>\n",
       "</ol>\n"
      ],
      "text/latex": [
       "\\begin{enumerate*}\n",
       "\\item 312735\n",
       "\\item 40940\n",
       "\\end{enumerate*}\n"
      ],
      "text/markdown": [
       "1. 312735\n",
       "2. 40940\n",
       "\n",
       "\n"
      ],
      "text/plain": [
       "[1] 312735  40940"
      ]
     },
     "metadata": {},
     "output_type": "display_data"
    }
   ],
   "source": [
    "dim(comment_dtm2)"
   ]
  },
  {
   "cell_type": "markdown",
   "metadata": {},
   "source": [
    "That's a significant improvement, now let's reduce the sparness."
   ]
  },
  {
   "cell_type": "code",
   "execution_count": 31,
   "metadata": {},
   "outputs": [],
   "source": [
    "comment_dtm2 <- removeSparseTerms(comment_dtm2, 0.95)"
   ]
  },
  {
   "cell_type": "code",
   "execution_count": 32,
   "metadata": {},
   "outputs": [
    {
     "name": "stderr",
     "output_type": "stream",
     "text": [
      "\n",
      "Attaching package: 'data.table'\n",
      "\n",
      "The following objects are masked from 'package:dplyr':\n",
      "\n",
      "    between, first, last\n",
      "\n"
     ]
    }
   ],
   "source": [
    "library(data.table)"
   ]
  },
  {
   "cell_type": "code",
   "execution_count": 33,
   "metadata": {},
   "outputs": [
    {
     "data": {
      "text/html": [
       "18"
      ],
      "text/latex": [
       "18"
      ],
      "text/markdown": [
       "18"
      ],
      "text/plain": [
       "[1] 18"
      ]
     },
     "metadata": {},
     "output_type": "display_data"
    },
    {
     "data": {
      "text/html": [
       "<table>\n",
       "<thead><tr><th scope=col>name</th><th scope=col>count</th></tr></thead>\n",
       "<tbody>\n",
       "\t<tr><td>article  </td><td>109742   </td></tr>\n",
       "\t<tr><td>page     </td><td> 76982   </td></tr>\n",
       "\t<tr><td>wikipedia</td><td> 65555   </td></tr>\n",
       "\t<tr><td>edit     </td><td> 55508   </td></tr>\n",
       "\t<tr><td>good     </td><td> 55450   </td></tr>\n",
       "\t<tr><td>one      </td><td> 45717   </td></tr>\n",
       "\t<tr><td>make     </td><td> 45534   </td></tr>\n",
       "\t<tr><td>like     </td><td> 45405   </td></tr>\n",
       "\t<tr><td>talk     </td><td> 44385   </td></tr>\n",
       "\t<tr><td>please   </td><td> 42438   </td></tr>\n",
       "</tbody>\n",
       "</table>\n"
      ],
      "text/latex": [
       "\\begin{tabular}{r|ll}\n",
       " name & count\\\\\n",
       "\\hline\n",
       "\t article   & 109742   \\\\\n",
       "\t page      &  76982   \\\\\n",
       "\t wikipedia &  65555   \\\\\n",
       "\t edit      &  55508   \\\\\n",
       "\t good      &  55450   \\\\\n",
       "\t one       &  45717   \\\\\n",
       "\t make      &  45534   \\\\\n",
       "\t like      &  45405   \\\\\n",
       "\t talk      &  44385   \\\\\n",
       "\t please    &  42438   \\\\\n",
       "\\end{tabular}\n"
      ],
      "text/markdown": [
       "\n",
       "name | count | \n",
       "|---|---|---|---|---|---|---|---|---|---|\n",
       "| article   | 109742    | \n",
       "| page      |  76982    | \n",
       "| wikipedia |  65555    | \n",
       "| edit      |  55508    | \n",
       "| good      |  55450    | \n",
       "| one       |  45717    | \n",
       "| make      |  45534    | \n",
       "| like      |  45405    | \n",
       "| talk      |  44385    | \n",
       "| please    |  42438    | \n",
       "\n",
       "\n"
      ],
      "text/plain": [
       "   name      count \n",
       "1  article   109742\n",
       "2  page       76982\n",
       "3  wikipedia  65555\n",
       "4  edit       55508\n",
       "5  good       55450\n",
       "6  one        45717\n",
       "7  make       45534\n",
       "8  like       45405\n",
       "9  talk       44385\n",
       "10 please     42438"
      ]
     },
     "metadata": {},
     "output_type": "display_data"
    },
    {
     "data": {
      "text/html": [
       "<table>\n",
       "<thead><tr><th scope=col>name</th><th scope=col>count</th></tr></thead>\n",
       "<tbody>\n",
       "\t<tr><td>work    </td><td>20322   </td></tr>\n",
       "\t<tr><td>remove  </td><td>21249   </td></tr>\n",
       "\t<tr><td>time    </td><td>28348   </td></tr>\n",
       "\t<tr><td>conjurer</td><td>29558   </td></tr>\n",
       "\t<tr><td>people  </td><td>29620   </td></tr>\n",
       "\t<tr><td>thank   </td><td>33844   </td></tr>\n",
       "\t<tr><td>source  </td><td>35481   </td></tr>\n",
       "\t<tr><td>think   </td><td>41105   </td></tr>\n",
       "\t<tr><td>please  </td><td>42438   </td></tr>\n",
       "\t<tr><td>talk    </td><td>44385   </td></tr>\n",
       "</tbody>\n",
       "</table>\n"
      ],
      "text/latex": [
       "\\begin{tabular}{r|ll}\n",
       " name & count\\\\\n",
       "\\hline\n",
       "\t work     & 20322   \\\\\n",
       "\t remove   & 21249   \\\\\n",
       "\t time     & 28348   \\\\\n",
       "\t conjurer & 29558   \\\\\n",
       "\t people   & 29620   \\\\\n",
       "\t thank    & 33844   \\\\\n",
       "\t source   & 35481   \\\\\n",
       "\t think    & 41105   \\\\\n",
       "\t please   & 42438   \\\\\n",
       "\t talk     & 44385   \\\\\n",
       "\\end{tabular}\n"
      ],
      "text/markdown": [
       "\n",
       "name | count | \n",
       "|---|---|---|---|---|---|---|---|---|---|\n",
       "| work     | 20322    | \n",
       "| remove   | 21249    | \n",
       "| time     | 28348    | \n",
       "| conjurer | 29558    | \n",
       "| people   | 29620    | \n",
       "| thank    | 33844    | \n",
       "| source   | 35481    | \n",
       "| think    | 41105    | \n",
       "| please   | 42438    | \n",
       "| talk     | 44385    | \n",
       "\n",
       "\n"
      ],
      "text/plain": [
       "   name     count\n",
       "1  work     20322\n",
       "2  remove   21249\n",
       "3  time     28348\n",
       "4  conjurer 29558\n",
       "5  people   29620\n",
       "6  thank    33844\n",
       "7  source   35481\n",
       "8  think    41105\n",
       "9  please   42438\n",
       "10 talk     44385"
      ]
     },
     "metadata": {},
     "output_type": "display_data"
    }
   ],
   "source": [
    "colS <- colSums(as.matrix(comment_dtm2))\n",
    "length(colS)\n",
    "doc_features <- data.table(name = attributes(colS)$names, count = colS)\n",
    "\n",
    "#most frequent and least frequent words\n",
    "doc_features[order(-count)][1:10] #top 10 most frequent words\n",
    "doc_features[order(count)][1:10] #least 10 frequent words"
   ]
  },
  {
   "cell_type": "markdown",
   "metadata": {},
   "source": [
    "\n",
    "Let's bind the comment_dtm2 matrix with the actual comment dataframe to comment3."
   ]
  },
  {
   "cell_type": "code",
   "execution_count": 34,
   "metadata": {},
   "outputs": [],
   "source": [
    "comment3 = cbind(comment, as.matrix(comment_dtm2))"
   ]
  },
  {
   "cell_type": "code",
   "execution_count": 35,
   "metadata": {},
   "outputs": [],
   "source": [
    "comment3$comment_text <- NULL # making the comment_text as null"
   ]
  },
  {
   "cell_type": "code",
   "execution_count": 36,
   "metadata": {},
   "outputs": [
    {
     "data": {
      "text/html": [
       "<ol class=list-inline>\n",
       "\t<li>'id'</li>\n",
       "\t<li>'toxic'</li>\n",
       "\t<li>'severe_toxic'</li>\n",
       "\t<li>'obscene'</li>\n",
       "\t<li>'threat'</li>\n",
       "\t<li>'insult'</li>\n",
       "\t<li>'identity_hate'</li>\n",
       "\t<li>'fuck'</li>\n",
       "\t<li>'self'</li>\n",
       "\t<li>'your'</li>\n",
       "\t<li>'shit'</li>\n",
       "\t<li>'hate'</li>\n",
       "\t<li>'hell'</li>\n",
       "\t<li>'fat'</li>\n",
       "\t<li>'shut'</li>\n",
       "\t<li>'attack'</li>\n",
       "\t<li>'stupid'</li>\n",
       "\t<li>'moron'</li>\n",
       "\t<li>'dispute'</li>\n",
       "\t<li>'suck'</li>\n",
       "\t<li>'cock'</li>\n",
       "\t<li>'dick'</li>\n",
       "\t<li>'bitch'</li>\n",
       "\t<li>'free'</li>\n",
       "\t<li>'reliable'</li>\n",
       "\t<li>'fair'</li>\n",
       "\t<li>'support'</li>\n",
       "\t<li>'correct'</li>\n",
       "\t<li>'happy'</li>\n",
       "\t<li>'love'</li>\n",
       "\t<li>'pretty'</li>\n",
       "\t<li>'enjoy'</li>\n",
       "\t<li>'speed'</li>\n",
       "\t<li>'respect'</li>\n",
       "\t<li>'accurate'</li>\n",
       "\t<li>'help'</li>\n",
       "\t<li>'fine'</li>\n",
       "\t<li>'faith'</li>\n",
       "\t<li>'lead'</li>\n",
       "\t<li>'improve'</li>\n",
       "\t<li>'bleach'</li>\n",
       "\t<li>'hero'</li>\n",
       "\t<li>'sex'</li>\n",
       "\t<li>'nigger'</li>\n",
       "\t<li>'judah'</li>\n",
       "\t<li>'criminal'</li>\n",
       "\t<li>'war'</li>\n",
       "\t<li>'faggot'</li>\n",
       "\t<li>'drink'</li>\n",
       "\t<li>'die'</li>\n",
       "\t<li>'bunk'</li>\n",
       "\t<li>'troll'</li>\n",
       "\t<li>'super'</li>\n",
       "\t<li>'rab'</li>\n",
       "\t<li>'ass'</li>\n",
       "\t<li>'gay'</li>\n",
       "\t<li>'murder'</li>\n",
       "\t<li>'nl'</li>\n",
       "\t<li>'colonial'</li>\n",
       "\t<li>'occupation'</li>\n",
       "\t<li>'arab'</li>\n",
       "\t<li>'jew'</li>\n",
       "\t<li>'ers'</li>\n",
       "\t<li>'kill'</li>\n",
       "\t<li>'moth'</li>\n",
       "\t<li>'jerk'</li>\n",
       "\t<li>'edit'</li>\n",
       "\t<li>'make'</li>\n",
       "\t<li>'page'</li>\n",
       "\t<li>'please'</li>\n",
       "\t<li>'remove'</li>\n",
       "\t<li>'talk'</li>\n",
       "\t<li>'thank'</li>\n",
       "\t<li>'article'</li>\n",
       "\t<li>'good'</li>\n",
       "\t<li>'one'</li>\n",
       "\t<li>'think'</li>\n",
       "\t<li>'wikipedia'</li>\n",
       "\t<li>'work'</li>\n",
       "\t<li>'like'</li>\n",
       "\t<li>'conjurer'</li>\n",
       "\t<li>'source'</li>\n",
       "\t<li>'time'</li>\n",
       "\t<li>'people'</li>\n",
       "</ol>\n"
      ],
      "text/latex": [
       "\\begin{enumerate*}\n",
       "\\item 'id'\n",
       "\\item 'toxic'\n",
       "\\item 'severe\\_toxic'\n",
       "\\item 'obscene'\n",
       "\\item 'threat'\n",
       "\\item 'insult'\n",
       "\\item 'identity\\_hate'\n",
       "\\item 'fuck'\n",
       "\\item 'self'\n",
       "\\item 'your'\n",
       "\\item 'shit'\n",
       "\\item 'hate'\n",
       "\\item 'hell'\n",
       "\\item 'fat'\n",
       "\\item 'shut'\n",
       "\\item 'attack'\n",
       "\\item 'stupid'\n",
       "\\item 'moron'\n",
       "\\item 'dispute'\n",
       "\\item 'suck'\n",
       "\\item 'cock'\n",
       "\\item 'dick'\n",
       "\\item 'bitch'\n",
       "\\item 'free'\n",
       "\\item 'reliable'\n",
       "\\item 'fair'\n",
       "\\item 'support'\n",
       "\\item 'correct'\n",
       "\\item 'happy'\n",
       "\\item 'love'\n",
       "\\item 'pretty'\n",
       "\\item 'enjoy'\n",
       "\\item 'speed'\n",
       "\\item 'respect'\n",
       "\\item 'accurate'\n",
       "\\item 'help'\n",
       "\\item 'fine'\n",
       "\\item 'faith'\n",
       "\\item 'lead'\n",
       "\\item 'improve'\n",
       "\\item 'bleach'\n",
       "\\item 'hero'\n",
       "\\item 'sex'\n",
       "\\item 'nigger'\n",
       "\\item 'judah'\n",
       "\\item 'criminal'\n",
       "\\item 'war'\n",
       "\\item 'faggot'\n",
       "\\item 'drink'\n",
       "\\item 'die'\n",
       "\\item 'bunk'\n",
       "\\item 'troll'\n",
       "\\item 'super'\n",
       "\\item 'rab'\n",
       "\\item 'ass'\n",
       "\\item 'gay'\n",
       "\\item 'murder'\n",
       "\\item 'nl'\n",
       "\\item 'colonial'\n",
       "\\item 'occupation'\n",
       "\\item 'arab'\n",
       "\\item 'jew'\n",
       "\\item 'ers'\n",
       "\\item 'kill'\n",
       "\\item 'moth'\n",
       "\\item 'jerk'\n",
       "\\item 'edit'\n",
       "\\item 'make'\n",
       "\\item 'page'\n",
       "\\item 'please'\n",
       "\\item 'remove'\n",
       "\\item 'talk'\n",
       "\\item 'thank'\n",
       "\\item 'article'\n",
       "\\item 'good'\n",
       "\\item 'one'\n",
       "\\item 'think'\n",
       "\\item 'wikipedia'\n",
       "\\item 'work'\n",
       "\\item 'like'\n",
       "\\item 'conjurer'\n",
       "\\item 'source'\n",
       "\\item 'time'\n",
       "\\item 'people'\n",
       "\\end{enumerate*}\n"
      ],
      "text/markdown": [
       "1. 'id'\n",
       "2. 'toxic'\n",
       "3. 'severe_toxic'\n",
       "4. 'obscene'\n",
       "5. 'threat'\n",
       "6. 'insult'\n",
       "7. 'identity_hate'\n",
       "8. 'fuck'\n",
       "9. 'self'\n",
       "10. 'your'\n",
       "11. 'shit'\n",
       "12. 'hate'\n",
       "13. 'hell'\n",
       "14. 'fat'\n",
       "15. 'shut'\n",
       "16. 'attack'\n",
       "17. 'stupid'\n",
       "18. 'moron'\n",
       "19. 'dispute'\n",
       "20. 'suck'\n",
       "21. 'cock'\n",
       "22. 'dick'\n",
       "23. 'bitch'\n",
       "24. 'free'\n",
       "25. 'reliable'\n",
       "26. 'fair'\n",
       "27. 'support'\n",
       "28. 'correct'\n",
       "29. 'happy'\n",
       "30. 'love'\n",
       "31. 'pretty'\n",
       "32. 'enjoy'\n",
       "33. 'speed'\n",
       "34. 'respect'\n",
       "35. 'accurate'\n",
       "36. 'help'\n",
       "37. 'fine'\n",
       "38. 'faith'\n",
       "39. 'lead'\n",
       "40. 'improve'\n",
       "41. 'bleach'\n",
       "42. 'hero'\n",
       "43. 'sex'\n",
       "44. 'nigger'\n",
       "45. 'judah'\n",
       "46. 'criminal'\n",
       "47. 'war'\n",
       "48. 'faggot'\n",
       "49. 'drink'\n",
       "50. 'die'\n",
       "51. 'bunk'\n",
       "52. 'troll'\n",
       "53. 'super'\n",
       "54. 'rab'\n",
       "55. 'ass'\n",
       "56. 'gay'\n",
       "57. 'murder'\n",
       "58. 'nl'\n",
       "59. 'colonial'\n",
       "60. 'occupation'\n",
       "61. 'arab'\n",
       "62. 'jew'\n",
       "63. 'ers'\n",
       "64. 'kill'\n",
       "65. 'moth'\n",
       "66. 'jerk'\n",
       "67. 'edit'\n",
       "68. 'make'\n",
       "69. 'page'\n",
       "70. 'please'\n",
       "71. 'remove'\n",
       "72. 'talk'\n",
       "73. 'thank'\n",
       "74. 'article'\n",
       "75. 'good'\n",
       "76. 'one'\n",
       "77. 'think'\n",
       "78. 'wikipedia'\n",
       "79. 'work'\n",
       "80. 'like'\n",
       "81. 'conjurer'\n",
       "82. 'source'\n",
       "83. 'time'\n",
       "84. 'people'\n",
       "\n",
       "\n"
      ],
      "text/plain": [
       " [1] \"id\"            \"toxic\"         \"severe_toxic\"  \"obscene\"      \n",
       " [5] \"threat\"        \"insult\"        \"identity_hate\" \"fuck\"         \n",
       " [9] \"self\"          \"your\"          \"shit\"          \"hate\"         \n",
       "[13] \"hell\"          \"fat\"           \"shut\"          \"attack\"       \n",
       "[17] \"stupid\"        \"moron\"         \"dispute\"       \"suck\"         \n",
       "[21] \"cock\"          \"dick\"          \"bitch\"         \"free\"         \n",
       "[25] \"reliable\"      \"fair\"          \"support\"       \"correct\"      \n",
       "[29] \"happy\"         \"love\"          \"pretty\"        \"enjoy\"        \n",
       "[33] \"speed\"         \"respect\"       \"accurate\"      \"help\"         \n",
       "[37] \"fine\"          \"faith\"         \"lead\"          \"improve\"      \n",
       "[41] \"bleach\"        \"hero\"          \"sex\"           \"nigger\"       \n",
       "[45] \"judah\"         \"criminal\"      \"war\"           \"faggot\"       \n",
       "[49] \"drink\"         \"die\"           \"bunk\"          \"troll\"        \n",
       "[53] \"super\"         \"rab\"           \"ass\"           \"gay\"          \n",
       "[57] \"murder\"        \"nl\"            \"colonial\"      \"occupation\"   \n",
       "[61] \"arab\"          \"jew\"           \"ers\"           \"kill\"         \n",
       "[65] \"moth\"          \"jerk\"          \"edit\"          \"make\"         \n",
       "[69] \"page\"          \"please\"        \"remove\"        \"talk\"         \n",
       "[73] \"thank\"         \"article\"       \"good\"          \"one\"          \n",
       "[77] \"think\"         \"wikipedia\"     \"work\"          \"like\"         \n",
       "[81] \"conjurer\"      \"source\"        \"time\"          \"people\"       "
      ]
     },
     "metadata": {},
     "output_type": "display_data"
    }
   ],
   "source": [
    "names(comment3)"
   ]
  },
  {
   "cell_type": "code",
   "execution_count": 37,
   "metadata": {},
   "outputs": [],
   "source": [
    "train_len <- dim(train)[1]\n",
    "comment_len <- dim(comment)[1]"
   ]
  },
  {
   "cell_type": "code",
   "execution_count": 38,
   "metadata": {},
   "outputs": [],
   "source": [
    "#split train and test\n",
    "train_x <- comment3[1:train_len,]\n",
    "test_x <- comment3[(train_len+1):comment_len,]"
   ]
  },
  {
   "cell_type": "code",
   "execution_count": 39,
   "metadata": {},
   "outputs": [
    {
     "data": {
      "text/html": [
       "<ol class=list-inline>\n",
       "\t<li>153164</li>\n",
       "\t<li>84</li>\n",
       "</ol>\n"
      ],
      "text/latex": [
       "\\begin{enumerate*}\n",
       "\\item 153164\n",
       "\\item 84\n",
       "\\end{enumerate*}\n"
      ],
      "text/markdown": [
       "1. 153164\n",
       "2. 84\n",
       "\n",
       "\n"
      ],
      "text/plain": [
       "[1] 153164     84"
      ]
     },
     "metadata": {},
     "output_type": "display_data"
    }
   ],
   "source": [
    "dim(test_x)"
   ]
  },
  {
   "cell_type": "code",
   "execution_count": 40,
   "metadata": {},
   "outputs": [
    {
     "data": {
      "text/html": [
       "<ol class=list-inline>\n",
       "\t<li>'id'</li>\n",
       "\t<li>'toxic'</li>\n",
       "\t<li>'severe_toxic'</li>\n",
       "\t<li>'obscene'</li>\n",
       "\t<li>'threat'</li>\n",
       "\t<li>'insult'</li>\n",
       "\t<li>'identity_hate'</li>\n",
       "\t<li>'fuck'</li>\n",
       "\t<li>'self'</li>\n",
       "\t<li>'your'</li>\n",
       "\t<li>'shit'</li>\n",
       "\t<li>'hate'</li>\n",
       "\t<li>'hell'</li>\n",
       "\t<li>'fat'</li>\n",
       "\t<li>'shut'</li>\n",
       "\t<li>'attack'</li>\n",
       "\t<li>'stupid'</li>\n",
       "\t<li>'moron'</li>\n",
       "\t<li>'dispute'</li>\n",
       "\t<li>'suck'</li>\n",
       "\t<li>'cock'</li>\n",
       "\t<li>'dick'</li>\n",
       "\t<li>'bitch'</li>\n",
       "\t<li>'free'</li>\n",
       "\t<li>'reliable'</li>\n",
       "\t<li>'fair'</li>\n",
       "\t<li>'support'</li>\n",
       "\t<li>'correct'</li>\n",
       "\t<li>'happy'</li>\n",
       "\t<li>'love'</li>\n",
       "\t<li>'pretty'</li>\n",
       "\t<li>'enjoy'</li>\n",
       "\t<li>'speed'</li>\n",
       "\t<li>'respect'</li>\n",
       "\t<li>'accurate'</li>\n",
       "\t<li>'help'</li>\n",
       "\t<li>'fine'</li>\n",
       "\t<li>'faith'</li>\n",
       "\t<li>'lead'</li>\n",
       "\t<li>'improve'</li>\n",
       "\t<li>'bleach'</li>\n",
       "\t<li>'hero'</li>\n",
       "\t<li>'sex'</li>\n",
       "\t<li>'nigger'</li>\n",
       "\t<li>'judah'</li>\n",
       "\t<li>'criminal'</li>\n",
       "\t<li>'war'</li>\n",
       "\t<li>'faggot'</li>\n",
       "\t<li>'drink'</li>\n",
       "\t<li>'die'</li>\n",
       "\t<li>'bunk'</li>\n",
       "\t<li>'troll'</li>\n",
       "\t<li>'super'</li>\n",
       "\t<li>'rab'</li>\n",
       "\t<li>'ass'</li>\n",
       "\t<li>'gay'</li>\n",
       "\t<li>'murder'</li>\n",
       "\t<li>'nl'</li>\n",
       "\t<li>'colonial'</li>\n",
       "\t<li>'occupation'</li>\n",
       "\t<li>'arab'</li>\n",
       "\t<li>'jew'</li>\n",
       "\t<li>'ers'</li>\n",
       "\t<li>'kill'</li>\n",
       "\t<li>'moth'</li>\n",
       "\t<li>'jerk'</li>\n",
       "\t<li>'edit'</li>\n",
       "\t<li>'make'</li>\n",
       "\t<li>'page'</li>\n",
       "\t<li>'please'</li>\n",
       "\t<li>'remove'</li>\n",
       "\t<li>'talk'</li>\n",
       "\t<li>'thank'</li>\n",
       "\t<li>'article'</li>\n",
       "\t<li>'good'</li>\n",
       "\t<li>'one'</li>\n",
       "\t<li>'think'</li>\n",
       "\t<li>'wikipedia'</li>\n",
       "\t<li>'work'</li>\n",
       "\t<li>'like'</li>\n",
       "\t<li>'conjurer'</li>\n",
       "\t<li>'source'</li>\n",
       "\t<li>'time'</li>\n",
       "\t<li>'people'</li>\n",
       "</ol>\n"
      ],
      "text/latex": [
       "\\begin{enumerate*}\n",
       "\\item 'id'\n",
       "\\item 'toxic'\n",
       "\\item 'severe\\_toxic'\n",
       "\\item 'obscene'\n",
       "\\item 'threat'\n",
       "\\item 'insult'\n",
       "\\item 'identity\\_hate'\n",
       "\\item 'fuck'\n",
       "\\item 'self'\n",
       "\\item 'your'\n",
       "\\item 'shit'\n",
       "\\item 'hate'\n",
       "\\item 'hell'\n",
       "\\item 'fat'\n",
       "\\item 'shut'\n",
       "\\item 'attack'\n",
       "\\item 'stupid'\n",
       "\\item 'moron'\n",
       "\\item 'dispute'\n",
       "\\item 'suck'\n",
       "\\item 'cock'\n",
       "\\item 'dick'\n",
       "\\item 'bitch'\n",
       "\\item 'free'\n",
       "\\item 'reliable'\n",
       "\\item 'fair'\n",
       "\\item 'support'\n",
       "\\item 'correct'\n",
       "\\item 'happy'\n",
       "\\item 'love'\n",
       "\\item 'pretty'\n",
       "\\item 'enjoy'\n",
       "\\item 'speed'\n",
       "\\item 'respect'\n",
       "\\item 'accurate'\n",
       "\\item 'help'\n",
       "\\item 'fine'\n",
       "\\item 'faith'\n",
       "\\item 'lead'\n",
       "\\item 'improve'\n",
       "\\item 'bleach'\n",
       "\\item 'hero'\n",
       "\\item 'sex'\n",
       "\\item 'nigger'\n",
       "\\item 'judah'\n",
       "\\item 'criminal'\n",
       "\\item 'war'\n",
       "\\item 'faggot'\n",
       "\\item 'drink'\n",
       "\\item 'die'\n",
       "\\item 'bunk'\n",
       "\\item 'troll'\n",
       "\\item 'super'\n",
       "\\item 'rab'\n",
       "\\item 'ass'\n",
       "\\item 'gay'\n",
       "\\item 'murder'\n",
       "\\item 'nl'\n",
       "\\item 'colonial'\n",
       "\\item 'occupation'\n",
       "\\item 'arab'\n",
       "\\item 'jew'\n",
       "\\item 'ers'\n",
       "\\item 'kill'\n",
       "\\item 'moth'\n",
       "\\item 'jerk'\n",
       "\\item 'edit'\n",
       "\\item 'make'\n",
       "\\item 'page'\n",
       "\\item 'please'\n",
       "\\item 'remove'\n",
       "\\item 'talk'\n",
       "\\item 'thank'\n",
       "\\item 'article'\n",
       "\\item 'good'\n",
       "\\item 'one'\n",
       "\\item 'think'\n",
       "\\item 'wikipedia'\n",
       "\\item 'work'\n",
       "\\item 'like'\n",
       "\\item 'conjurer'\n",
       "\\item 'source'\n",
       "\\item 'time'\n",
       "\\item 'people'\n",
       "\\end{enumerate*}\n"
      ],
      "text/markdown": [
       "1. 'id'\n",
       "2. 'toxic'\n",
       "3. 'severe_toxic'\n",
       "4. 'obscene'\n",
       "5. 'threat'\n",
       "6. 'insult'\n",
       "7. 'identity_hate'\n",
       "8. 'fuck'\n",
       "9. 'self'\n",
       "10. 'your'\n",
       "11. 'shit'\n",
       "12. 'hate'\n",
       "13. 'hell'\n",
       "14. 'fat'\n",
       "15. 'shut'\n",
       "16. 'attack'\n",
       "17. 'stupid'\n",
       "18. 'moron'\n",
       "19. 'dispute'\n",
       "20. 'suck'\n",
       "21. 'cock'\n",
       "22. 'dick'\n",
       "23. 'bitch'\n",
       "24. 'free'\n",
       "25. 'reliable'\n",
       "26. 'fair'\n",
       "27. 'support'\n",
       "28. 'correct'\n",
       "29. 'happy'\n",
       "30. 'love'\n",
       "31. 'pretty'\n",
       "32. 'enjoy'\n",
       "33. 'speed'\n",
       "34. 'respect'\n",
       "35. 'accurate'\n",
       "36. 'help'\n",
       "37. 'fine'\n",
       "38. 'faith'\n",
       "39. 'lead'\n",
       "40. 'improve'\n",
       "41. 'bleach'\n",
       "42. 'hero'\n",
       "43. 'sex'\n",
       "44. 'nigger'\n",
       "45. 'judah'\n",
       "46. 'criminal'\n",
       "47. 'war'\n",
       "48. 'faggot'\n",
       "49. 'drink'\n",
       "50. 'die'\n",
       "51. 'bunk'\n",
       "52. 'troll'\n",
       "53. 'super'\n",
       "54. 'rab'\n",
       "55. 'ass'\n",
       "56. 'gay'\n",
       "57. 'murder'\n",
       "58. 'nl'\n",
       "59. 'colonial'\n",
       "60. 'occupation'\n",
       "61. 'arab'\n",
       "62. 'jew'\n",
       "63. 'ers'\n",
       "64. 'kill'\n",
       "65. 'moth'\n",
       "66. 'jerk'\n",
       "67. 'edit'\n",
       "68. 'make'\n",
       "69. 'page'\n",
       "70. 'please'\n",
       "71. 'remove'\n",
       "72. 'talk'\n",
       "73. 'thank'\n",
       "74. 'article'\n",
       "75. 'good'\n",
       "76. 'one'\n",
       "77. 'think'\n",
       "78. 'wikipedia'\n",
       "79. 'work'\n",
       "80. 'like'\n",
       "81. 'conjurer'\n",
       "82. 'source'\n",
       "83. 'time'\n",
       "84. 'people'\n",
       "\n",
       "\n"
      ],
      "text/plain": [
       " [1] \"id\"            \"toxic\"         \"severe_toxic\"  \"obscene\"      \n",
       " [5] \"threat\"        \"insult\"        \"identity_hate\" \"fuck\"         \n",
       " [9] \"self\"          \"your\"          \"shit\"          \"hate\"         \n",
       "[13] \"hell\"          \"fat\"           \"shut\"          \"attack\"       \n",
       "[17] \"stupid\"        \"moron\"         \"dispute\"       \"suck\"         \n",
       "[21] \"cock\"          \"dick\"          \"bitch\"         \"free\"         \n",
       "[25] \"reliable\"      \"fair\"          \"support\"       \"correct\"      \n",
       "[29] \"happy\"         \"love\"          \"pretty\"        \"enjoy\"        \n",
       "[33] \"speed\"         \"respect\"       \"accurate\"      \"help\"         \n",
       "[37] \"fine\"          \"faith\"         \"lead\"          \"improve\"      \n",
       "[41] \"bleach\"        \"hero\"          \"sex\"           \"nigger\"       \n",
       "[45] \"judah\"         \"criminal\"      \"war\"           \"faggot\"       \n",
       "[49] \"drink\"         \"die\"           \"bunk\"          \"troll\"        \n",
       "[53] \"super\"         \"rab\"           \"ass\"           \"gay\"          \n",
       "[57] \"murder\"        \"nl\"            \"colonial\"      \"occupation\"   \n",
       "[61] \"arab\"          \"jew\"           \"ers\"           \"kill\"         \n",
       "[65] \"moth\"          \"jerk\"          \"edit\"          \"make\"         \n",
       "[69] \"page\"          \"please\"        \"remove\"        \"talk\"         \n",
       "[73] \"thank\"         \"article\"       \"good\"          \"one\"          \n",
       "[77] \"think\"         \"wikipedia\"     \"work\"          \"like\"         \n",
       "[81] \"conjurer\"      \"source\"        \"time\"          \"people\"       "
      ]
     },
     "metadata": {},
     "output_type": "display_data"
    }
   ],
   "source": [
    "names(test_x)"
   ]
  },
  {
   "cell_type": "code",
   "execution_count": 41,
   "metadata": {},
   "outputs": [
    {
     "data": {
      "text/html": [
       "<ol class=list-inline>\n",
       "\t<li>159571</li>\n",
       "\t<li>84</li>\n",
       "</ol>\n"
      ],
      "text/latex": [
       "\\begin{enumerate*}\n",
       "\\item 159571\n",
       "\\item 84\n",
       "\\end{enumerate*}\n"
      ],
      "text/markdown": [
       "1. 159571\n",
       "2. 84\n",
       "\n",
       "\n"
      ],
      "text/plain": [
       "[1] 159571     84"
      ]
     },
     "metadata": {},
     "output_type": "display_data"
    }
   ],
   "source": [
    "dim(train_x)"
   ]
  },
  {
   "cell_type": "code",
   "execution_count": 42,
   "metadata": {},
   "outputs": [
    {
     "data": {
      "text/html": [
       "<ol class=list-inline>\n",
       "\t<li>159571</li>\n",
       "\t<li>8</li>\n",
       "</ol>\n"
      ],
      "text/latex": [
       "\\begin{enumerate*}\n",
       "\\item 159571\n",
       "\\item 8\n",
       "\\end{enumerate*}\n"
      ],
      "text/markdown": [
       "1. 159571\n",
       "2. 8\n",
       "\n",
       "\n"
      ],
      "text/plain": [
       "[1] 159571      8"
      ]
     },
     "metadata": {},
     "output_type": "display_data"
    }
   ],
   "source": [
    "dim(train)"
   ]
  },
  {
   "cell_type": "code",
   "execution_count": 43,
   "metadata": {},
   "outputs": [
    {
     "data": {
      "text/html": [
       "<ol class=list-inline>\n",
       "\t<li>153164</li>\n",
       "\t<li>8</li>\n",
       "</ol>\n"
      ],
      "text/latex": [
       "\\begin{enumerate*}\n",
       "\\item 153164\n",
       "\\item 8\n",
       "\\end{enumerate*}\n"
      ],
      "text/markdown": [
       "1. 153164\n",
       "2. 8\n",
       "\n",
       "\n"
      ],
      "text/plain": [
       "[1] 153164      8"
      ]
     },
     "metadata": {},
     "output_type": "display_data"
    }
   ],
   "source": [
    "dim(test)"
   ]
  },
  {
   "cell_type": "code",
   "execution_count": 44,
   "metadata": {},
   "outputs": [],
   "source": [
    "library(caTools)"
   ]
  },
  {
   "cell_type": "code",
   "execution_count": 45,
   "metadata": {},
   "outputs": [],
   "source": [
    "set.seed(101)"
   ]
  },
  {
   "cell_type": "markdown",
   "metadata": {},
   "source": [
    "Inorder to build, validate and check for accuracy of our model, we split the train data set further into train and validation in the ratio of 60:40 where 60% is to training and 40% is to validate."
   ]
  },
  {
   "cell_type": "code",
   "execution_count": 46,
   "metadata": {},
   "outputs": [],
   "source": [
    "id_train <- sample(nrow(train_x),nrow(train_x)*0.60)\n",
    "tr = train_x[id_train,]\n",
    "val = train_x[-id_train,]"
   ]
  },
  {
   "cell_type": "code",
   "execution_count": 47,
   "metadata": {},
   "outputs": [
    {
     "data": {
      "text/html": [
       "<ol class=list-inline>\n",
       "\t<li>95742</li>\n",
       "\t<li>84</li>\n",
       "</ol>\n"
      ],
      "text/latex": [
       "\\begin{enumerate*}\n",
       "\\item 95742\n",
       "\\item 84\n",
       "\\end{enumerate*}\n"
      ],
      "text/markdown": [
       "1. 95742\n",
       "2. 84\n",
       "\n",
       "\n"
      ],
      "text/plain": [
       "[1] 95742    84"
      ]
     },
     "metadata": {},
     "output_type": "display_data"
    }
   ],
   "source": [
    "dim(tr)"
   ]
  },
  {
   "cell_type": "code",
   "execution_count": 48,
   "metadata": {},
   "outputs": [
    {
     "data": {
      "text/html": [
       "<ol class=list-inline>\n",
       "\t<li>'id'</li>\n",
       "\t<li>'toxic'</li>\n",
       "\t<li>'severe_toxic'</li>\n",
       "\t<li>'obscene'</li>\n",
       "\t<li>'threat'</li>\n",
       "\t<li>'insult'</li>\n",
       "\t<li>'identity_hate'</li>\n",
       "\t<li>'fuck'</li>\n",
       "\t<li>'self'</li>\n",
       "\t<li>'your'</li>\n",
       "\t<li>'shit'</li>\n",
       "\t<li>'hate'</li>\n",
       "\t<li>'hell'</li>\n",
       "\t<li>'fat'</li>\n",
       "\t<li>'shut'</li>\n",
       "\t<li>'attack'</li>\n",
       "\t<li>'stupid'</li>\n",
       "\t<li>'moron'</li>\n",
       "\t<li>'dispute'</li>\n",
       "\t<li>'suck'</li>\n",
       "\t<li>'cock'</li>\n",
       "\t<li>'dick'</li>\n",
       "\t<li>'bitch'</li>\n",
       "\t<li>'free'</li>\n",
       "\t<li>'reliable'</li>\n",
       "\t<li>'fair'</li>\n",
       "\t<li>'support'</li>\n",
       "\t<li>'correct'</li>\n",
       "\t<li>'happy'</li>\n",
       "\t<li>'love'</li>\n",
       "\t<li>'pretty'</li>\n",
       "\t<li>'enjoy'</li>\n",
       "\t<li>'speed'</li>\n",
       "\t<li>'respect'</li>\n",
       "\t<li>'accurate'</li>\n",
       "\t<li>'help'</li>\n",
       "\t<li>'fine'</li>\n",
       "\t<li>'faith'</li>\n",
       "\t<li>'lead'</li>\n",
       "\t<li>'improve'</li>\n",
       "\t<li>'bleach'</li>\n",
       "\t<li>'hero'</li>\n",
       "\t<li>'sex'</li>\n",
       "\t<li>'nigger'</li>\n",
       "\t<li>'judah'</li>\n",
       "\t<li>'criminal'</li>\n",
       "\t<li>'war'</li>\n",
       "\t<li>'faggot'</li>\n",
       "\t<li>'drink'</li>\n",
       "\t<li>'die'</li>\n",
       "\t<li>'bunk'</li>\n",
       "\t<li>'troll'</li>\n",
       "\t<li>'super'</li>\n",
       "\t<li>'rab'</li>\n",
       "\t<li>'ass'</li>\n",
       "\t<li>'gay'</li>\n",
       "\t<li>'murder'</li>\n",
       "\t<li>'nl'</li>\n",
       "\t<li>'colonial'</li>\n",
       "\t<li>'occupation'</li>\n",
       "\t<li>'arab'</li>\n",
       "\t<li>'jew'</li>\n",
       "\t<li>'ers'</li>\n",
       "\t<li>'kill'</li>\n",
       "\t<li>'moth'</li>\n",
       "\t<li>'jerk'</li>\n",
       "\t<li>'edit'</li>\n",
       "\t<li>'make'</li>\n",
       "\t<li>'page'</li>\n",
       "\t<li>'please'</li>\n",
       "\t<li>'remove'</li>\n",
       "\t<li>'talk'</li>\n",
       "\t<li>'thank'</li>\n",
       "\t<li>'article'</li>\n",
       "\t<li>'good'</li>\n",
       "\t<li>'one'</li>\n",
       "\t<li>'think'</li>\n",
       "\t<li>'wikipedia'</li>\n",
       "\t<li>'work'</li>\n",
       "\t<li>'like'</li>\n",
       "\t<li>'conjurer'</li>\n",
       "\t<li>'source'</li>\n",
       "\t<li>'time'</li>\n",
       "\t<li>'people'</li>\n",
       "</ol>\n"
      ],
      "text/latex": [
       "\\begin{enumerate*}\n",
       "\\item 'id'\n",
       "\\item 'toxic'\n",
       "\\item 'severe\\_toxic'\n",
       "\\item 'obscene'\n",
       "\\item 'threat'\n",
       "\\item 'insult'\n",
       "\\item 'identity\\_hate'\n",
       "\\item 'fuck'\n",
       "\\item 'self'\n",
       "\\item 'your'\n",
       "\\item 'shit'\n",
       "\\item 'hate'\n",
       "\\item 'hell'\n",
       "\\item 'fat'\n",
       "\\item 'shut'\n",
       "\\item 'attack'\n",
       "\\item 'stupid'\n",
       "\\item 'moron'\n",
       "\\item 'dispute'\n",
       "\\item 'suck'\n",
       "\\item 'cock'\n",
       "\\item 'dick'\n",
       "\\item 'bitch'\n",
       "\\item 'free'\n",
       "\\item 'reliable'\n",
       "\\item 'fair'\n",
       "\\item 'support'\n",
       "\\item 'correct'\n",
       "\\item 'happy'\n",
       "\\item 'love'\n",
       "\\item 'pretty'\n",
       "\\item 'enjoy'\n",
       "\\item 'speed'\n",
       "\\item 'respect'\n",
       "\\item 'accurate'\n",
       "\\item 'help'\n",
       "\\item 'fine'\n",
       "\\item 'faith'\n",
       "\\item 'lead'\n",
       "\\item 'improve'\n",
       "\\item 'bleach'\n",
       "\\item 'hero'\n",
       "\\item 'sex'\n",
       "\\item 'nigger'\n",
       "\\item 'judah'\n",
       "\\item 'criminal'\n",
       "\\item 'war'\n",
       "\\item 'faggot'\n",
       "\\item 'drink'\n",
       "\\item 'die'\n",
       "\\item 'bunk'\n",
       "\\item 'troll'\n",
       "\\item 'super'\n",
       "\\item 'rab'\n",
       "\\item 'ass'\n",
       "\\item 'gay'\n",
       "\\item 'murder'\n",
       "\\item 'nl'\n",
       "\\item 'colonial'\n",
       "\\item 'occupation'\n",
       "\\item 'arab'\n",
       "\\item 'jew'\n",
       "\\item 'ers'\n",
       "\\item 'kill'\n",
       "\\item 'moth'\n",
       "\\item 'jerk'\n",
       "\\item 'edit'\n",
       "\\item 'make'\n",
       "\\item 'page'\n",
       "\\item 'please'\n",
       "\\item 'remove'\n",
       "\\item 'talk'\n",
       "\\item 'thank'\n",
       "\\item 'article'\n",
       "\\item 'good'\n",
       "\\item 'one'\n",
       "\\item 'think'\n",
       "\\item 'wikipedia'\n",
       "\\item 'work'\n",
       "\\item 'like'\n",
       "\\item 'conjurer'\n",
       "\\item 'source'\n",
       "\\item 'time'\n",
       "\\item 'people'\n",
       "\\end{enumerate*}\n"
      ],
      "text/markdown": [
       "1. 'id'\n",
       "2. 'toxic'\n",
       "3. 'severe_toxic'\n",
       "4. 'obscene'\n",
       "5. 'threat'\n",
       "6. 'insult'\n",
       "7. 'identity_hate'\n",
       "8. 'fuck'\n",
       "9. 'self'\n",
       "10. 'your'\n",
       "11. 'shit'\n",
       "12. 'hate'\n",
       "13. 'hell'\n",
       "14. 'fat'\n",
       "15. 'shut'\n",
       "16. 'attack'\n",
       "17. 'stupid'\n",
       "18. 'moron'\n",
       "19. 'dispute'\n",
       "20. 'suck'\n",
       "21. 'cock'\n",
       "22. 'dick'\n",
       "23. 'bitch'\n",
       "24. 'free'\n",
       "25. 'reliable'\n",
       "26. 'fair'\n",
       "27. 'support'\n",
       "28. 'correct'\n",
       "29. 'happy'\n",
       "30. 'love'\n",
       "31. 'pretty'\n",
       "32. 'enjoy'\n",
       "33. 'speed'\n",
       "34. 'respect'\n",
       "35. 'accurate'\n",
       "36. 'help'\n",
       "37. 'fine'\n",
       "38. 'faith'\n",
       "39. 'lead'\n",
       "40. 'improve'\n",
       "41. 'bleach'\n",
       "42. 'hero'\n",
       "43. 'sex'\n",
       "44. 'nigger'\n",
       "45. 'judah'\n",
       "46. 'criminal'\n",
       "47. 'war'\n",
       "48. 'faggot'\n",
       "49. 'drink'\n",
       "50. 'die'\n",
       "51. 'bunk'\n",
       "52. 'troll'\n",
       "53. 'super'\n",
       "54. 'rab'\n",
       "55. 'ass'\n",
       "56. 'gay'\n",
       "57. 'murder'\n",
       "58. 'nl'\n",
       "59. 'colonial'\n",
       "60. 'occupation'\n",
       "61. 'arab'\n",
       "62. 'jew'\n",
       "63. 'ers'\n",
       "64. 'kill'\n",
       "65. 'moth'\n",
       "66. 'jerk'\n",
       "67. 'edit'\n",
       "68. 'make'\n",
       "69. 'page'\n",
       "70. 'please'\n",
       "71. 'remove'\n",
       "72. 'talk'\n",
       "73. 'thank'\n",
       "74. 'article'\n",
       "75. 'good'\n",
       "76. 'one'\n",
       "77. 'think'\n",
       "78. 'wikipedia'\n",
       "79. 'work'\n",
       "80. 'like'\n",
       "81. 'conjurer'\n",
       "82. 'source'\n",
       "83. 'time'\n",
       "84. 'people'\n",
       "\n",
       "\n"
      ],
      "text/plain": [
       " [1] \"id\"            \"toxic\"         \"severe_toxic\"  \"obscene\"      \n",
       " [5] \"threat\"        \"insult\"        \"identity_hate\" \"fuck\"         \n",
       " [9] \"self\"          \"your\"          \"shit\"          \"hate\"         \n",
       "[13] \"hell\"          \"fat\"           \"shut\"          \"attack\"       \n",
       "[17] \"stupid\"        \"moron\"         \"dispute\"       \"suck\"         \n",
       "[21] \"cock\"          \"dick\"          \"bitch\"         \"free\"         \n",
       "[25] \"reliable\"      \"fair\"          \"support\"       \"correct\"      \n",
       "[29] \"happy\"         \"love\"          \"pretty\"        \"enjoy\"        \n",
       "[33] \"speed\"         \"respect\"       \"accurate\"      \"help\"         \n",
       "[37] \"fine\"          \"faith\"         \"lead\"          \"improve\"      \n",
       "[41] \"bleach\"        \"hero\"          \"sex\"           \"nigger\"       \n",
       "[45] \"judah\"         \"criminal\"      \"war\"           \"faggot\"       \n",
       "[49] \"drink\"         \"die\"           \"bunk\"          \"troll\"        \n",
       "[53] \"super\"         \"rab\"           \"ass\"           \"gay\"          \n",
       "[57] \"murder\"        \"nl\"            \"colonial\"      \"occupation\"   \n",
       "[61] \"arab\"          \"jew\"           \"ers\"           \"kill\"         \n",
       "[65] \"moth\"          \"jerk\"          \"edit\"          \"make\"         \n",
       "[69] \"page\"          \"please\"        \"remove\"        \"talk\"         \n",
       "[73] \"thank\"         \"article\"       \"good\"          \"one\"          \n",
       "[77] \"think\"         \"wikipedia\"     \"work\"          \"like\"         \n",
       "[81] \"conjurer\"      \"source\"        \"time\"          \"people\"       "
      ]
     },
     "metadata": {},
     "output_type": "display_data"
    }
   ],
   "source": [
    "colnames(tr)"
   ]
  },
  {
   "cell_type": "code",
   "execution_count": 48,
   "metadata": {},
   "outputs": [],
   "source": [
    "log_val = subset(val, select = c(8:84))"
   ]
  },
  {
   "cell_type": "markdown",
   "metadata": {},
   "source": [
    "# Model training for data"
   ]
  },
  {
   "cell_type": "markdown",
   "metadata": {},
   "source": [
    "Our base model was built on logistic regression, now let's try the tree methods using decision trees."
   ]
  },
  {
   "cell_type": "code",
   "execution_count": 49,
   "metadata": {},
   "outputs": [],
   "source": [
    "rpart.model <- rpart(toxic ~., data = subset(tr,select = -c(1,3,4,5,6,7))) # training the model"
   ]
  },
  {
   "cell_type": "code",
   "execution_count": 50,
   "metadata": {},
   "outputs": [],
   "source": [
    "rp.pred <- predict(rpart.model, log_val) # prediction using the validation data"
   ]
  },
  {
   "cell_type": "code",
   "execution_count": 51,
   "metadata": {},
   "outputs": [],
   "source": [
    "predict.rp <- ifelse(rp.pred > 0.5, 1, 0)"
   ]
  },
  {
   "cell_type": "code",
   "execution_count": 52,
   "metadata": {},
   "outputs": [],
   "source": [
    "misClassifiError  <- mean(predict.rp != val$toxic)"
   ]
  },
  {
   "cell_type": "code",
   "execution_count": 53,
   "metadata": {},
   "outputs": [
    {
     "data": {
      "text/html": [
       "0.939588588259255"
      ],
      "text/latex": [
       "0.939588588259255"
      ],
      "text/markdown": [
       "0.939588588259255"
      ],
      "text/plain": [
       "[1] 0.9395886"
      ]
     },
     "metadata": {},
     "output_type": "display_data"
    }
   ],
   "source": [
    "1 - misClassifiError"
   ]
  },
  {
   "cell_type": "markdown",
   "metadata": {},
   "source": [
    "Hurray!! that's a good improvement, kudos to feature engineering  for this accuracy."
   ]
  },
  {
   "cell_type": "markdown",
   "metadata": {},
   "source": [
    "Now let's come back to logistic regression and build our model and see if we can improve our accuracy."
   ]
  },
  {
   "cell_type": "markdown",
   "metadata": {},
   "source": [
    "Since we are going to use logistic model, we convert the target features to factor."
   ]
  },
  {
   "cell_type": "code",
   "execution_count": 65,
   "metadata": {},
   "outputs": [],
   "source": [
    "comment3$toxic = as.factor(comment3$toxic)\n",
    "comment3$severe_toxic = as.factor(comment3$severe_toxic)\n",
    "comment3$obscene = as.factor(comment3$obscene)\n",
    "comment3$threat = as.factor(comment3$threat )\n",
    "comment3$insult = as.factor(comment3$insult)\n",
    "comment3$identity_hate = as.factor(comment3$identity_hate)"
   ]
  },
  {
   "cell_type": "markdown",
   "metadata": {},
   "source": [
    "Using the generalized linear model, glm() function, we make a logistic regression analysis using \n",
    "‘toxic’ feature as outcome, with the rest of features in the training dataset as independent predictors. \n",
    "Specified binomial(link = ‘logit’) in the family argument will analyze the data using logistic regression."
   ]
  },
  {
   "cell_type": "code",
   "execution_count": 66,
   "metadata": {},
   "outputs": [
    {
     "name": "stderr",
     "output_type": "stream",
     "text": [
      "Warning message:\n",
      "\"glm.fit: fitted probabilities numerically 0 or 1 occurred\""
     ]
    }
   ],
   "source": [
    "toxic.glm = glm(toxic~ ., family = binomial(link = 'logit'), data = subset(tr,select = -c(1,3,4,5,6,7)), maxit = 100)"
   ]
  },
  {
   "cell_type": "code",
   "execution_count": 67,
   "metadata": {},
   "outputs": [
    {
     "data": {
      "text/plain": [
       "\n",
       "Call:\n",
       "glm(formula = toxic ~ ., family = binomial(link = \"logit\"), data = subset(tr, \n",
       "    select = -c(1, 3, 4, 5, 6, 7)), maxit = 100)\n",
       "\n",
       "Deviance Residuals: \n",
       "    Min       1Q   Median       3Q      Max  \n",
       "-5.0047  -0.3638  -0.2857  -0.1581   8.4904  \n",
       "\n",
       "Coefficients:\n",
       "              Estimate Std. Error  z value Pr(>|z|)    \n",
       "(Intercept)  -2.682132   0.019244 -139.376  < 2e-16 ***\n",
       "fuck          5.485864   0.110677   49.566  < 2e-16 ***\n",
       "self         -0.017338   0.069459   -0.250 0.802887    \n",
       "your          0.872398   0.037089   23.522  < 2e-16 ***\n",
       "shit          3.642637   0.094845   38.406  < 2e-16 ***\n",
       "hate          1.257445   0.080505   15.620  < 2e-16 ***\n",
       "hell          0.388729   0.067363    5.771 7.89e-09 ***\n",
       "fat           0.764887   0.126261    6.058 1.38e-09 ***\n",
       "shut          2.409232   0.147106   16.377  < 2e-16 ***\n",
       "attack        0.533755   0.092665    5.760 8.41e-09 ***\n",
       "stupid        3.196758   0.092605   34.521  < 2e-16 ***\n",
       "moron         2.844653   0.155298   18.317  < 2e-16 ***\n",
       "dispute      -1.371020   0.269228   -5.092 3.54e-07 ***\n",
       "suck          3.879706   0.132596   29.260  < 2e-16 ***\n",
       "cock          1.978958   0.205021    9.652  < 2e-16 ***\n",
       "dick          3.274563   0.137685   23.783  < 2e-16 ***\n",
       "bitch         4.027549   0.184260   21.858  < 2e-16 ***\n",
       "free         -0.388078   0.121507   -3.194 0.001404 ** \n",
       "reliable     -0.150703   0.179284   -0.841 0.400581    \n",
       "fair         -0.840980   0.174777   -4.812 1.50e-06 ***\n",
       "support      -0.480672   0.126175   -3.810 0.000139 ***\n",
       "correct      -0.706358   0.126327   -5.591 2.25e-08 ***\n",
       "happy        -0.473235   0.174568   -2.711 0.006710 ** \n",
       "love          0.315190   0.107386    2.935 0.003334 ** \n",
       "pretty       -0.733248   0.196695   -3.728 0.000193 ***\n",
       "enjoy         0.276801   0.180045    1.537 0.124195    \n",
       "speed        -0.896858   0.291465   -3.077 0.002090 ** \n",
       "respect      -0.589072   0.188477   -3.125 0.001775 ** \n",
       "accurate     -0.334236   0.207187   -1.613 0.106698    \n",
       "help         -0.649398   0.106403   -6.103 1.04e-09 ***\n",
       "fine         -0.859842   0.168907   -5.091 3.57e-07 ***\n",
       "faith        -0.634444   0.209975   -3.022 0.002515 ** \n",
       "lead         -1.318814   0.197817   -6.667 2.61e-11 ***\n",
       "improve      -0.458587   0.208629   -2.198 0.027942 *  \n",
       "bleach       -8.908755  91.754918   -0.097 0.922653    \n",
       "hero          0.231507   0.283941    0.815 0.414880    \n",
       "sex           1.290943   0.113419   11.382  < 2e-16 ***\n",
       "nigger        3.348088   0.269145   12.440  < 2e-16 ***\n",
       "judah        -8.717276 205.020317   -0.043 0.966085    \n",
       "criminal      0.636328   0.290616    2.190 0.028554 *  \n",
       "war          -0.251441   0.064422   -3.903 9.50e-05 ***\n",
       "faggot        4.382692   0.267809   16.365  < 2e-16 ***\n",
       "drink         0.528592   0.270634    1.953 0.050800 .  \n",
       "die           0.753142   0.106038    7.103 1.22e-12 ***\n",
       "bunk         -0.510041   0.788245   -0.647 0.517594    \n",
       "troll         1.105901   0.131948    8.381  < 2e-16 ***\n",
       "super        -0.362816   0.224354   -1.617 0.105844    \n",
       "rab          -0.248680   0.200791   -1.239 0.215529    \n",
       "ass           0.745406   0.048967   15.223  < 2e-16 ***\n",
       "gay           2.460873   0.114535   21.486  < 2e-16 ***\n",
       "murder        0.597831   0.205238    2.913 0.003581 ** \n",
       "nl           -0.479466   0.062163   -7.713 1.23e-14 ***\n",
       "colonial      0.044706   0.647321    0.069 0.944939    \n",
       "occupation   -0.645865   0.621916   -1.039 0.299033    \n",
       "arab          0.238654   0.298136    0.800 0.423429    \n",
       "jew           0.569247   0.135840    4.191 2.78e-05 ***\n",
       "ers          -0.411936   0.054267   -7.591 3.18e-14 ***\n",
       "kill          0.980140   0.109256    8.971  < 2e-16 ***\n",
       "moth          0.654122   0.173210    3.776 0.000159 ***\n",
       "jerk          3.109311   0.194198   16.011  < 2e-16 ***\n",
       "edit         -0.013106   0.023942   -0.547 0.584103    \n",
       "make         -0.248398   0.040477   -6.137 8.42e-10 ***\n",
       "page         -0.148808   0.031933   -4.660 3.16e-06 ***\n",
       "please       -0.644684   0.057933  -11.128  < 2e-16 ***\n",
       "remove        0.052759   0.046217    1.142 0.253640    \n",
       "talk         -0.173819   0.040075   -4.337 1.44e-05 ***\n",
       "thank        -0.847279   0.066633  -12.716  < 2e-16 ***\n",
       "article      -0.556870   0.034214  -16.276  < 2e-16 ***\n",
       "can          -0.009860   0.009085   -1.085 0.277775    \n",
       "good         -0.321516   0.039385   -8.163 3.26e-16 ***\n",
       "one          -0.397121   0.045134   -8.799  < 2e-16 ***\n",
       "think        -0.271041   0.045400   -5.970 2.37e-09 ***\n",
       "wikipedia     0.002406   0.004969    0.484 0.628224    \n",
       "work         -0.107660   0.046310   -2.325 0.020085 *  \n",
       "like          0.333788   0.032535   10.259  < 2e-16 ***\n",
       "conjurer     -0.627922   0.067882   -9.250  < 2e-16 ***\n",
       "source       -0.508125   0.067327   -7.547 4.45e-14 ***\n",
       "time         -0.143746   0.044858   -3.204 0.001353 ** \n",
       "people        0.166431   0.035907    4.635 3.57e-06 ***\n",
       "---\n",
       "Signif. codes:  0 '***' 0.001 '**' 0.01 '*' 0.05 '.' 0.1 ' ' 1\n",
       "\n",
       "(Dispersion parameter for binomial family taken to be 1)\n",
       "\n",
       "    Null deviance: 60771  on 95741  degrees of freedom\n",
       "Residual deviance: 36973  on 95663  degrees of freedom\n",
       "AIC: 37131\n",
       "\n",
       "Number of Fisher Scoring iterations: 11\n"
      ]
     },
     "metadata": {},
     "output_type": "display_data"
    }
   ],
   "source": [
    "summary(toxic.glm)"
   ]
  },
  {
   "cell_type": "markdown",
   "metadata": {},
   "source": [
    "Very interesting indeed, the output of the logistic regression object, toxic.glm , shows that the features such as \n",
    "'self','reliable','enjoy','bleach','hero','judah','bunk','colonial','occupation','arab','jew','edit','remove' and 'can' \n",
    "are insignificant features for predicitng toxic outcome. The rest of the model coefficients suggests significant contribution\n",
    "in toxic prediction. For example, increase one unit in 'conjurer' will decrease the log odd of toxic by 0.62;\n",
    "'source' will decrease the log odd of toxic by 0.5; and being in 'dispute' will decrease the log odd of \n",
    "toxic by 1.3 and so on."
   ]
  },
  {
   "cell_type": "markdown",
   "metadata": {},
   "source": [
    "Furthermore, using the pR2() function in the pscl package allows to see a linear regression R-square value equivelent, \n",
    "which is the McFadden R-square index. This is equivelently saying that the \n",
    "logsitic regresion model has well explained 39% of variation in the toxic comment prediction."
   ]
  },
  {
   "cell_type": "code",
   "execution_count": 72,
   "metadata": {},
   "outputs": [
    {
     "name": "stdout",
     "output_type": "stream",
     "text": [
      "package 'pscl' successfully unpacked and MD5 sums checked\n",
      "\n",
      "The downloaded binary packages are in\n",
      "\tC:\\Users\\sugand1994\\AppData\\Local\\Temp\\2\\RtmpSK3ZQl\\downloaded_packages\n"
     ]
    },
    {
     "name": "stderr",
     "output_type": "stream",
     "text": [
      "Classes and Methods for R developed in the\n",
      "Political Science Computational Laboratory\n",
      "Department of Political Science\n",
      "Stanford University\n",
      "Simon Jackman\n",
      "hurdle and zeroinfl functions by Achim Zeileis\n"
     ]
    },
    {
     "data": {
      "text/html": [
       "<dl class=dl-horizontal>\n",
       "\t<dt>llh</dt>\n",
       "\t\t<dd>-18486.4735988589</dd>\n",
       "\t<dt>llhNull</dt>\n",
       "\t\t<dd>-30385.4689707535</dd>\n",
       "\t<dt>G2</dt>\n",
       "\t\t<dd>23797.9907437891</dd>\n",
       "\t<dt>McFadden</dt>\n",
       "\t\t<dd>0.391601504763594</dd>\n",
       "\t<dt>r2ML</dt>\n",
       "\t\t<dd>0.220079862216859</dd>\n",
       "\t<dt>r2CU</dt>\n",
       "\t\t<dd>0.468329925991775</dd>\n",
       "</dl>\n"
      ],
      "text/latex": [
       "\\begin{description*}\n",
       "\\item[llh] -18486.4735988589\n",
       "\\item[llhNull] -30385.4689707535\n",
       "\\item[G2] 23797.9907437891\n",
       "\\item[McFadden] 0.391601504763594\n",
       "\\item[r2ML] 0.220079862216859\n",
       "\\item[r2CU] 0.468329925991775\n",
       "\\end{description*}\n"
      ],
      "text/markdown": [
       "llh\n",
       ":   -18486.4735988589llhNull\n",
       ":   -30385.4689707535G2\n",
       ":   23797.9907437891McFadden\n",
       ":   0.391601504763594r2ML\n",
       ":   0.220079862216859r2CU\n",
       ":   0.468329925991775\n",
       "\n"
      ],
      "text/plain": [
       "          llh       llhNull            G2      McFadden          r2ML \n",
       "-1.848647e+04 -3.038547e+04  2.379799e+04  3.916015e-01  2.200799e-01 \n",
       "         r2CU \n",
       " 4.683299e-01 "
      ]
     },
     "metadata": {},
     "output_type": "display_data"
    }
   ],
   "source": [
    "install.packages('pscl')\n",
    "library(pscl)\n",
    "pR2(toxic.glm)"
   ]
  },
  {
   "cell_type": "markdown",
   "metadata": {},
   "source": [
    "# Prediction and model performance evaluation"
   ]
  },
  {
   "cell_type": "code",
   "execution_count": 57,
   "metadata": {},
   "outputs": [],
   "source": [
    "pred.glm = predict(toxic.glm, newdata = log_val, type = 'response')"
   ]
  },
  {
   "cell_type": "code",
   "execution_count": 58,
   "metadata": {},
   "outputs": [
    {
     "data": {
      "text/html": [
       "<dl class=dl-horizontal>\n",
       "\t<dt>1</dt>\n",
       "\t\t<dd>0.0206699704731247</dd>\n",
       "\t<dt>3</dt>\n",
       "\t\t<dd>0.0321871900001343</dd>\n",
       "\t<dt>8</dt>\n",
       "\t\t<dd>0.0469184924807992</dd>\n",
       "\t<dt>10</dt>\n",
       "\t\t<dd>0.0640359993680684</dd>\n",
       "\t<dt>12</dt>\n",
       "\t\t<dd>0.0640359993680684</dd>\n",
       "\t<dt>17</dt>\n",
       "\t\t<dd>0.0495867979488507</dd>\n",
       "</dl>\n"
      ],
      "text/latex": [
       "\\begin{description*}\n",
       "\\item[1] 0.0206699704731247\n",
       "\\item[3] 0.0321871900001343\n",
       "\\item[8] 0.0469184924807992\n",
       "\\item[10] 0.0640359993680684\n",
       "\\item[12] 0.0640359993680684\n",
       "\\item[17] 0.0495867979488507\n",
       "\\end{description*}\n"
      ],
      "text/markdown": [
       "1\n",
       ":   0.02066997047312473\n",
       ":   0.03218719000013438\n",
       ":   0.046918492480799210\n",
       ":   0.064035999368068412\n",
       ":   0.064035999368068417\n",
       ":   0.0495867979488507\n",
       "\n"
      ],
      "text/plain": [
       "         1          3          8         10         12         17 \n",
       "0.02066997 0.03218719 0.04691849 0.06403600 0.06403600 0.04958680 "
      ]
     },
     "metadata": {},
     "output_type": "display_data"
    }
   ],
   "source": [
    "head(pred.glm)"
   ]
  },
  {
   "cell_type": "markdown",
   "metadata": {},
   "source": [
    "Since this is a binary/logistic predictor, it needs to change the continuous probability values into \n",
    "categorical values between 0 or 1. One way to fairly do that is to use an ifelse() statement to change probability \n",
    "greater than 0.5 to 1, as assumed to be likely toxic; and probability less than 0.5 to 0, as assumed to be \n",
    "unlikely toxic. The first few final binary survival outcome are shown below."
   ]
  },
  {
   "cell_type": "code",
   "execution_count": 59,
   "metadata": {},
   "outputs": [],
   "source": [
    "predict.glm <- ifelse(pred.glm > 0.5, 1, 0)"
   ]
  },
  {
   "cell_type": "code",
   "execution_count": 73,
   "metadata": {},
   "outputs": [
    {
     "data": {
      "text/html": [
       "<dl class=dl-horizontal>\n",
       "\t<dt>1</dt>\n",
       "\t\t<dd>0</dd>\n",
       "\t<dt>3</dt>\n",
       "\t\t<dd>0</dd>\n",
       "\t<dt>8</dt>\n",
       "\t\t<dd>0</dd>\n",
       "\t<dt>10</dt>\n",
       "\t\t<dd>0</dd>\n",
       "\t<dt>12</dt>\n",
       "\t\t<dd>0</dd>\n",
       "\t<dt>17</dt>\n",
       "\t\t<dd>0</dd>\n",
       "</dl>\n"
      ],
      "text/latex": [
       "\\begin{description*}\n",
       "\\item[1] 0\n",
       "\\item[3] 0\n",
       "\\item[8] 0\n",
       "\\item[10] 0\n",
       "\\item[12] 0\n",
       "\\item[17] 0\n",
       "\\end{description*}\n"
      ],
      "text/markdown": [
       "1\n",
       ":   03\n",
       ":   08\n",
       ":   010\n",
       ":   012\n",
       ":   017\n",
       ":   0\n",
       "\n"
      ],
      "text/plain": [
       " 1  3  8 10 12 17 \n",
       " 0  0  0  0  0  0 "
      ]
     },
     "metadata": {},
     "output_type": "display_data"
    }
   ],
   "source": [
    "head(predict.glm)"
   ]
  },
  {
   "cell_type": "code",
   "execution_count": 60,
   "metadata": {},
   "outputs": [],
   "source": [
    "misClassifiError  <- mean(predict.glm != val$toxic)"
   ]
  },
  {
   "cell_type": "code",
   "execution_count": 61,
   "metadata": {},
   "outputs": [
    {
     "data": {
      "text/html": [
       "0.943536636951856"
      ],
      "text/latex": [
       "0.943536636951856"
      ],
      "text/markdown": [
       "0.943536636951856"
      ],
      "text/plain": [
       "[1] 0.9435366"
      ]
     },
     "metadata": {},
     "output_type": "display_data"
    }
   ],
   "source": [
    "1 - misClassifiError"
   ]
  },
  {
   "cell_type": "markdown",
   "metadata": {},
   "source": [
    "The misClassifiError is a value that shows proportions of predicted outcomes that are not the same as the actual \n",
    "survival outcomes. Accuracy would be 1 minues the error value. The accuracy of predicting the toxic comment \n",
    "outcome is 0.943 i,e 94.3% and has performed better than our trees."
   ]
  },
  {
   "cell_type": "code",
   "execution_count": 62,
   "metadata": {},
   "outputs": [
    {
     "data": {
      "text/plain": [
       "Confusion Matrix and Statistics\n",
       "\n",
       "          Reference\n",
       "Prediction     0     1\n",
       "         0 57353  3181\n",
       "         1   423  2872\n",
       "                                          \n",
       "               Accuracy : 0.9435          \n",
       "                 95% CI : (0.9417, 0.9453)\n",
       "    No Information Rate : 0.9052          \n",
       "    P-Value [Acc > NIR] : < 2.2e-16       \n",
       "                                          \n",
       "                  Kappa : 0.5868          \n",
       " Mcnemar's Test P-Value : < 2.2e-16       \n",
       "                                          \n",
       "            Sensitivity : 0.9927          \n",
       "            Specificity : 0.4745          \n",
       "         Pos Pred Value : 0.9475          \n",
       "         Neg Pred Value : 0.8716          \n",
       "             Prevalence : 0.9052          \n",
       "         Detection Rate : 0.8985          \n",
       "   Detection Prevalence : 0.9484          \n",
       "      Balanced Accuracy : 0.7336          \n",
       "                                          \n",
       "       'Positive' Class : 0               \n",
       "                                          "
      ]
     },
     "metadata": {},
     "output_type": "display_data"
    }
   ],
   "source": [
    "confusionMatrix (predict.glm, val$toxic)"
   ]
  },
  {
   "cell_type": "markdown",
   "metadata": {},
   "source": [
    "The Receiver Operating Characteristic (ROC) curve is plotted below \n",
    "for false positive rate (FPR) in the x-axis vs. the true positive rate (TPR) in the y-axis. \n",
    "It shows the detection of true positive while avoiding the false positive. \n",
    "This is the same as measuring the unspecificity (1 - specificity) in x-axis, against the sensitivity in y-axis. \n",
    "This ROC curve in particular shows that its very closed to the perfect classifier meaning that its better at identifying \n",
    "the positive values. An index for that is the AUC (area under the curve) of this ROC, which is 0.86 for this case."
   ]
  },
  {
   "cell_type": "code",
   "execution_count": 97,
   "metadata": {},
   "outputs": [],
   "source": [
    "#detach(package:mlr, unload=TRUE)"
   ]
  },
  {
   "cell_type": "code",
   "execution_count": 101,
   "metadata": {},
   "outputs": [
    {
     "data": {
      "image/png": "[encoded data removed]",
      "text/plain": [
       "plot without title"
      ]
     },
     "metadata": {},
     "output_type": "display_data"
    }
   ],
   "source": [
    "p = predict(toxic.glm, newdata = subset(val, select= c(8:85)), type = 'response')\n",
    "pr = prediction(p, val$toxic)\n",
    "prf = performance(pr, measure = 'tpr' , x.measure = 'fpr')\n",
    "options(repr.plot.width=5, repr.plot.height=4)\n",
    "plot(prf)\n",
    "abline(0,1, lwd = 2, lty = 2)"
   ]
  },
  {
   "cell_type": "code",
   "execution_count": 102,
   "metadata": {},
   "outputs": [
    {
     "name": "stdout",
     "output_type": "stream",
     "text": [
      "Formal class 'performance' [package \"ROCR\"] with 6 slots\n",
      "  ..@ x.name      : chr \"None\"\n",
      "  ..@ y.name      : chr \"Area under the ROC curve\"\n",
      "  ..@ alpha.name  : chr \"none\"\n",
      "  ..@ x.values    : list()\n",
      "  ..@ y.values    :List of 1\n",
      "  .. ..$ : num 0.866\n",
      "  ..@ alpha.values: list()\n"
     ]
    }
   ],
   "source": [
    "auc = performance(pr, measure = 'auc')\n",
    "str(auc)"
   ]
  },
  {
   "cell_type": "code",
   "execution_count": 103,
   "metadata": {},
   "outputs": [
    {
     "data": {
      "text/html": [
       "0.866060692169774"
      ],
      "text/latex": [
       "0.866060692169774"
      ],
      "text/markdown": [
       "0.866060692169774"
      ],
      "text/plain": [
       "[1] 0.8660607"
      ]
     },
     "metadata": {},
     "output_type": "display_data"
    }
   ],
   "source": [
    "auc = auc@y.values[[1]]\n",
    "auc"
   ]
  },
  {
   "cell_type": "markdown",
   "metadata": {},
   "source": [
    "But wait it's not over yet, this is what makes this challenge much more interesting, we have got to still classify the text into 5 more labels i,e multi-label classification.\n",
    "One way is to make predictions for each one individually as above and then calculate the Accuracy. That's a little tedious isn't it.\n",
    "\n",
    "That's why R has introduced the mlr package through which we can achieve the output here for the multi-label classification."
   ]
  },
  {
   "cell_type": "markdown",
   "metadata": {},
   "source": [
    "Here two different approaches exist for multilabel classification.\n",
    "\n",
    "Problem transformation methods try to transform the multilabel classification into binary or multiclass classification problems. \n",
    "\n",
    "Algorithm adaptation methods adapt multiclass algorithms so they can be applied directly to the problem."
   ]
  },
  {
   "cell_type": "markdown",
   "metadata": {},
   "source": [
    "# Final prediction using mlr"
   ]
  },
  {
   "cell_type": "markdown",
   "metadata": {},
   "source": [
    "The first thing we have to do for multilabel classification in mlr is to get our data in the right format. We need a data.frame which consists of the features and a logical vector for each label which indicates if the label is present in the observation or not.\n",
    "\n",
    "One way we can simpy do this is by passing a condition as below, which directly converts into 'logical' format i,e if > 0 then 'TRUE' else 'FALSE'.\n",
    "\n",
    "We have to make sure before passing the condition that the variable consists only of binary(e.g 0 or 1)."
   ]
  },
  {
   "cell_type": "code",
   "execution_count": 49,
   "metadata": {},
   "outputs": [],
   "source": [
    "#convert train targets to logical\n",
    "tr$toxic <- tr$toxic > 0\n",
    "tr$severe_toxic <- tr$severe_toxic > 0\n",
    "tr$obscene <- tr$obscene > 0\n",
    "tr$threat <- tr$threat > 0\n",
    "tr$insult <- tr$insult > 0\n",
    "tr$identity_hate <- tr$identity_hate > 0"
   ]
  },
  {
   "cell_type": "code",
   "execution_count": 50,
   "metadata": {},
   "outputs": [],
   "source": [
    "#convert validation targets to logical\n",
    "val$toxic <- val$toxic > 0\n",
    "val$severe_toxic <- val$severe_toxic > 0\n",
    "val$obscene <- val$obscene > 0\n",
    "val$threat <- val$threat > 0\n",
    "val$insult <- val$insult > 0\n",
    "val$identity_hate <- val$identity_hate > 0"
   ]
  },
  {
   "cell_type": "code",
   "execution_count": 60,
   "metadata": {},
   "outputs": [],
   "source": [
    "#removing the id's\n",
    "tr <- tr[,-1]\n",
    "val <- val[,-1]"
   ]
  },
  {
   "cell_type": "code",
   "execution_count": 61,
   "metadata": {},
   "outputs": [],
   "source": [
    "#creating train and test labels\n",
    "labels <- colnames(tr)[1:6]\n",
    "ts_label <- colnames(val)[1:6]"
   ]
  },
  {
   "cell_type": "code",
   "execution_count": 59,
   "metadata": {},
   "outputs": [
    {
     "name": "stderr",
     "output_type": "stream",
     "text": [
      "Loading required package: ParamHelpers\n",
      "Warning message:\n",
      "\"replacing previous import 'BBmisc::isFALSE' by 'backports::isFALSE' when loading 'mlr'\""
     ]
    }
   ],
   "source": [
    "library(mlr)"
   ]
  },
  {
   "cell_type": "markdown",
   "metadata": {},
   "source": [
    "The 2nd step is to create a MultilabelTask like a normal ClassifTask. Instead of one target name we can specify a vector of targets which correspond to the names of logical variables in the data.frame."
   ]
  },
  {
   "cell_type": "code",
   "execution_count": 62,
   "metadata": {},
   "outputs": [],
   "source": [
    "#create tasks\n",
    "comment.task = makeMultilabelTask(id = \"multi\", data = tr, target = labels)\n",
    "tscomment.task = makeMultilabelTask(id = \"multi\", data = val, target = ts_label)"
   ]
  },
  {
   "cell_type": "markdown",
   "metadata": {},
   "source": [
    "The next step is to Construct a learner\n",
    "\n",
    "As mentioned above Multilabel classification in mlr can currently be done in two ways:\n",
    "\n",
    "Algorithm adaptation methods: Treat the whole problem with a specific algorithm.\n",
    "\n",
    "Problem transformation methods: Transform the problem, so that simple binary classification algorithms can be applied.\n"
   ]
  },
  {
   "cell_type": "markdown",
   "metadata": {},
   "source": [
    "We'll be using the problem transformation method here and it inturn has the following methods:\n",
    "    \n",
    "    Binary relevance\n",
    "    Classifier chains\n",
    "    Nested stacking\n",
    "    Dependent binary relevance\n",
    "    Stacking\n",
    "\n",
    "We shall use the Binary relevance method.\n",
    "\n",
    "For generating a wrapped multilabel learner we first create a binary (or multiclass) classification learner with makeLearner. Afterwards apply a function like makeMultilabelBinaryRelevanceWrapper, makeMultilabelClassifierChainsWrapper, makeMultilabelNestedStackingWrapper, makeMultilabelDBRWrapper or makeMultilabelStackingWrapper on the learner to convert it to a learner that uses the respective problem transformation method."
   ]
  },
  {
   "cell_type": "code",
   "execution_count": 63,
   "metadata": {},
   "outputs": [],
   "source": [
    "lrn = makeLearner(\"classif.rpart\", predict.type = \"prob\")\n",
    "multilabel.lrn1 = makeMultilabelBinaryRelevanceWrapper(lrn)\n",
    "multilabel.lrn2 = makeMultilabelNestedStackingWrapper(lrn)"
   ]
  },
  {
   "cell_type": "markdown",
   "metadata": {},
   "source": [
    "The binary relevance problem transformation method consists of converting the multilabel problem to binary classification problems for each label and applies a simple binary classificator on these. By using this method, we assume that our labels are independent (i.e each one will be treated as a single, stand-alone target outcome, and will be classified without considering the remaining labels)."
   ]
  },
  {
   "attachments": {
    "binary.jpeg": {
     "image/jpeg": "[encoded data removed]"
    }
   },
   "cell_type": "markdown",
   "metadata": {},
   "source": [
    "![binary.jpeg](attachment:binary.jpeg)"
   ]
  },
  {
   "cell_type": "code",
   "execution_count": 65,
   "metadata": {},
   "outputs": [],
   "source": [
    "#train a model as usual with a multilabel learner and a multilabel task as input\n",
    "mod = train(multilabel.lrn1, comment.task)"
   ]
  },
  {
   "cell_type": "code",
   "execution_count": 66,
   "metadata": {},
   "outputs": [],
   "source": [
    "#Prediction can be done as usual in mlr with predict and by passing a trained model and either the task to the \n",
    "#task argument or some new data to the newdata argument\n",
    "pred = predict(mod, task = tscomment.task)"
   ]
  },
  {
   "cell_type": "markdown",
   "metadata": {},
   "source": [
    "For evaluating the overall performance of the learning algorithm we can do some resampling. \n",
    "\n",
    "Resampling strategies are usually used to assess the performance of a learning algorithm: The entire data set is (repeatedly) split into training sets D∗b and test sets D∖D∗b, b=1,…,B. The learner is trained on each training set, predictions are made on the corresponding test set (sometimes on the training set as well) and the performance measure S(D∗b,D∖D∗b) is calculated. Then the B individual performance values are aggregated, most often by calculating the mean. There exist various different resampling strategies, for example cross-validation and bootstrap, to mention just two popular approaches.\n",
    "\n",
    "Resampling Figure\n",
    "As usual you have to define a resampling strategy, either via makeResampleDesc or makeResampleInstance. After that you can run the resample function. Below the default measure Hamming loss is calculated."
   ]
  },
  {
   "attachments": {
    "resampling.png": {
     "image/png": "[encoded data removed]"
    }
   },
   "cell_type": "markdown",
   "metadata": {},
   "source": [
    "![resampling.png](attachment:resampling.png)"
   ]
  },
  {
   "cell_type": "code",
   "execution_count": 67,
   "metadata": {},
   "outputs": [],
   "source": [
    "#resampling on the traning set\n",
    "rdesc = makeResampleDesc(method = \"CV\", stratify = FALSE, iters = 3)\n",
    "r = resample(learner = multilabel.lrn1, task = comment.task, resampling = rdesc,\n",
    "measures = list(multilabel.hamloss), show.info = FALSE)"
   ]
  },
  {
   "cell_type": "code",
   "execution_count": 69,
   "metadata": {},
   "outputs": [],
   "source": [
    "#resampling on the validation set\n",
    "rdesc = makeResampleDesc(method = \"CV\", stratify = FALSE, iters = 3)\n",
    "rtest = resample(learner = multilabel.lrn1, task = tscomment.task, resampling = rdesc,\n",
    "measures = list(multilabel.hamloss), show.info = FALSE)"
   ]
  },
  {
   "cell_type": "code",
   "execution_count": 153,
   "metadata": {},
   "outputs": [
    {
     "data": {
      "text/plain": [
       "Resample Result\n",
       "Task: multi\n",
       "Learner: multilabel.classif.rpart\n",
       "Aggr perf: multilabel.hamloss.test.mean=0.0248\n",
       "Runtime: 54.0469"
      ]
     },
     "metadata": {},
     "output_type": "display_data"
    }
   ],
   "source": [
    "r"
   ]
  },
  {
   "cell_type": "markdown",
   "metadata": {},
   "source": [
    "Finally let's see how our train set has perfomed.\n",
    "\n",
    "Train set validation"
   ]
  },
  {
   "cell_type": "code",
   "execution_count": 68,
   "metadata": {},
   "outputs": [
    {
     "data": {
      "text/html": [
       "<table>\n",
       "<thead><tr><th></th><th scope=col>acc.test.mean</th><th scope=col>mmce.test.mean</th><th scope=col>auc.test.mean</th></tr></thead>\n",
       "<tbody>\n",
       "\t<tr><th scope=row>toxic</th><td>0.9351173  </td><td>0.064882706</td><td>0.6988217  </td></tr>\n",
       "\t<tr><th scope=row>severe_toxic</th><td>0.9898895  </td><td>0.010110505</td><td>0.4812150  </td></tr>\n",
       "\t<tr><th scope=row>obscene</th><td>0.9724781  </td><td>0.027521882</td><td>0.8206144  </td></tr>\n",
       "\t<tr><th scope=row>threat</th><td>0.9970024  </td><td>0.002997639</td><td>0.4720416  </td></tr>\n",
       "\t<tr><th scope=row>insult</th><td>0.9634643  </td><td>0.036535690</td><td>0.7426157  </td></tr>\n",
       "\t<tr><th scope=row>identity_hate</th><td>0.9920724  </td><td>0.007927555</td><td>0.6436202  </td></tr>\n",
       "</tbody>\n",
       "</table>\n"
      ],
      "text/latex": [
       "\\begin{tabular}{r|lll}\n",
       "  & acc.test.mean & mmce.test.mean & auc.test.mean\\\\\n",
       "\\hline\n",
       "\ttoxic & 0.9351173   & 0.064882706 & 0.6988217  \\\\\n",
       "\tsevere\\_toxic & 0.9898895   & 0.010110505 & 0.4812150  \\\\\n",
       "\tobscene & 0.9724781   & 0.027521882 & 0.8206144  \\\\\n",
       "\tthreat & 0.9970024   & 0.002997639 & 0.4720416  \\\\\n",
       "\tinsult & 0.9634643   & 0.036535690 & 0.7426157  \\\\\n",
       "\tidentity\\_hate & 0.9920724   & 0.007927555 & 0.6436202  \\\\\n",
       "\\end{tabular}\n"
      ],
      "text/markdown": [
       "\n",
       "| <!--/--> | acc.test.mean | mmce.test.mean | auc.test.mean | \n",
       "|---|---|---|---|---|---|\n",
       "| toxic | 0.9351173   | 0.064882706 | 0.6988217   | \n",
       "| severe_toxic | 0.9898895   | 0.010110505 | 0.4812150   | \n",
       "| obscene | 0.9724781   | 0.027521882 | 0.8206144   | \n",
       "| threat | 0.9970024   | 0.002997639 | 0.4720416   | \n",
       "| insult | 0.9634643   | 0.036535690 | 0.7426157   | \n",
       "| identity_hate | 0.9920724   | 0.007927555 | 0.6436202   | \n",
       "\n",
       "\n"
      ],
      "text/plain": [
       "              acc.test.mean mmce.test.mean auc.test.mean\n",
       "toxic         0.9351173     0.064882706    0.6988217    \n",
       "severe_toxic  0.9898895     0.010110505    0.4812150    \n",
       "obscene       0.9724781     0.027521882    0.8206144    \n",
       "threat        0.9970024     0.002997639    0.4720416    \n",
       "insult        0.9634643     0.036535690    0.7426157    \n",
       "identity_hate 0.9920724     0.007927555    0.6436202    "
      ]
     },
     "metadata": {},
     "output_type": "display_data"
    }
   ],
   "source": [
    "head(getMultilabelBinaryPerformances(r$pred, measures = list(acc, mmce, auc)))"
   ]
  },
  {
   "cell_type": "markdown",
   "metadata": {},
   "source": [
    "Validation set performance"
   ]
  },
  {
   "cell_type": "code",
   "execution_count": 70,
   "metadata": {},
   "outputs": [
    {
     "data": {
      "text/html": [
       "<table>\n",
       "<thead><tr><th></th><th scope=col>acc.test.mean</th><th scope=col>mmce.test.mean</th><th scope=col>auc.test.mean</th></tr></thead>\n",
       "<tbody>\n",
       "\t<tr><th scope=row>toxic</th><td>0.9395886  </td><td>0.060411412</td><td>0.7187400  </td></tr>\n",
       "\t<tr><th scope=row>severe_toxic</th><td>0.9901769  </td><td>0.009823121</td><td>0.4608112  </td></tr>\n",
       "\t<tr><th scope=row>obscene</th><td>0.9745100  </td><td>0.025489981</td><td>0.8257055  </td></tr>\n",
       "\t<tr><th scope=row>threat</th><td>0.9970076  </td><td>0.002992370</td><td>0.4754887  </td></tr>\n",
       "\t<tr><th scope=row>insult</th><td>0.9642012  </td><td>0.035798775</td><td>0.7409923  </td></tr>\n",
       "\t<tr><th scope=row>identity_hate</th><td>0.9918062  </td><td>0.008193768</td><td>0.5931970  </td></tr>\n",
       "</tbody>\n",
       "</table>\n"
      ],
      "text/latex": [
       "\\begin{tabular}{r|lll}\n",
       "  & acc.test.mean & mmce.test.mean & auc.test.mean\\\\\n",
       "\\hline\n",
       "\ttoxic & 0.9395886   & 0.060411412 & 0.7187400  \\\\\n",
       "\tsevere\\_toxic & 0.9901769   & 0.009823121 & 0.4608112  \\\\\n",
       "\tobscene & 0.9745100   & 0.025489981 & 0.8257055  \\\\\n",
       "\tthreat & 0.9970076   & 0.002992370 & 0.4754887  \\\\\n",
       "\tinsult & 0.9642012   & 0.035798775 & 0.7409923  \\\\\n",
       "\tidentity\\_hate & 0.9918062   & 0.008193768 & 0.5931970  \\\\\n",
       "\\end{tabular}\n"
      ],
      "text/markdown": [
       "\n",
       "| <!--/--> | acc.test.mean | mmce.test.mean | auc.test.mean | \n",
       "|---|---|---|---|---|---|\n",
       "| toxic | 0.9395886   | 0.060411412 | 0.7187400   | \n",
       "| severe_toxic | 0.9901769   | 0.009823121 | 0.4608112   | \n",
       "| obscene | 0.9745100   | 0.025489981 | 0.8257055   | \n",
       "| threat | 0.9970076   | 0.002992370 | 0.4754887   | \n",
       "| insult | 0.9642012   | 0.035798775 | 0.7409923   | \n",
       "| identity_hate | 0.9918062   | 0.008193768 | 0.5931970   | \n",
       "\n",
       "\n"
      ],
      "text/plain": [
       "              acc.test.mean mmce.test.mean auc.test.mean\n",
       "toxic         0.9395886     0.060411412    0.7187400    \n",
       "severe_toxic  0.9901769     0.009823121    0.4608112    \n",
       "obscene       0.9745100     0.025489981    0.8257055    \n",
       "threat        0.9970076     0.002992370    0.4754887    \n",
       "insult        0.9642012     0.035798775    0.7409923    \n",
       "identity_hate 0.9918062     0.008193768    0.5931970    "
      ]
     },
     "metadata": {},
     "output_type": "display_data"
    }
   ],
   "source": [
    "head(getMultilabelBinaryPerformances(rtest$pred, measures = list(acc, mmce, auc)))"
   ]
  },
  {
   "cell_type": "markdown",
   "metadata": {},
   "source": [
    "All right so we have finaly validated our validation set and it looks good, hence let's freeze our model here and proceed to pass on our actual test set and predict the values."
   ]
  },
  {
   "cell_type": "code",
   "execution_count": 71,
   "metadata": {},
   "outputs": [
    {
     "data": {
      "text/html": [
       "<table>\n",
       "<thead><tr><th></th><th scope=col>toxic</th><th scope=col>severe_toxic</th><th scope=col>obscene</th><th scope=col>threat</th><th scope=col>insult</th><th scope=col>identity_hate</th></tr></thead>\n",
       "<tbody>\n",
       "\t<tr><th scope=row>1</th><td>FALSE</td><td>FALSE</td><td>FALSE</td><td>FALSE</td><td>FALSE</td><td>FALSE</td></tr>\n",
       "\t<tr><th scope=row>3</th><td>FALSE</td><td>FALSE</td><td>FALSE</td><td>FALSE</td><td>FALSE</td><td>FALSE</td></tr>\n",
       "\t<tr><th scope=row>8</th><td>FALSE</td><td>FALSE</td><td>FALSE</td><td>FALSE</td><td>FALSE</td><td>FALSE</td></tr>\n",
       "\t<tr><th scope=row>10</th><td>FALSE</td><td>FALSE</td><td>FALSE</td><td>FALSE</td><td>FALSE</td><td>FALSE</td></tr>\n",
       "\t<tr><th scope=row>12</th><td>FALSE</td><td>FALSE</td><td>FALSE</td><td>FALSE</td><td>FALSE</td><td>FALSE</td></tr>\n",
       "\t<tr><th scope=row>17</th><td>FALSE</td><td>FALSE</td><td>FALSE</td><td>FALSE</td><td>FALSE</td><td>FALSE</td></tr>\n",
       "</tbody>\n",
       "</table>\n"
      ],
      "text/latex": [
       "\\begin{tabular}{r|llllll}\n",
       "  & toxic & severe\\_toxic & obscene & threat & insult & identity\\_hate\\\\\n",
       "\\hline\n",
       "\t1 & FALSE & FALSE & FALSE & FALSE & FALSE & FALSE\\\\\n",
       "\t3 & FALSE & FALSE & FALSE & FALSE & FALSE & FALSE\\\\\n",
       "\t8 & FALSE & FALSE & FALSE & FALSE & FALSE & FALSE\\\\\n",
       "\t10 & FALSE & FALSE & FALSE & FALSE & FALSE & FALSE\\\\\n",
       "\t12 & FALSE & FALSE & FALSE & FALSE & FALSE & FALSE\\\\\n",
       "\t17 & FALSE & FALSE & FALSE & FALSE & FALSE & FALSE\\\\\n",
       "\\end{tabular}\n"
      ],
      "text/markdown": [
       "\n",
       "| <!--/--> | toxic | severe_toxic | obscene | threat | insult | identity_hate | \n",
       "|---|---|---|---|---|---|\n",
       "| 1 | FALSE | FALSE | FALSE | FALSE | FALSE | FALSE | \n",
       "| 3 | FALSE | FALSE | FALSE | FALSE | FALSE | FALSE | \n",
       "| 8 | FALSE | FALSE | FALSE | FALSE | FALSE | FALSE | \n",
       "| 10 | FALSE | FALSE | FALSE | FALSE | FALSE | FALSE | \n",
       "| 12 | FALSE | FALSE | FALSE | FALSE | FALSE | FALSE | \n",
       "| 17 | FALSE | FALSE | FALSE | FALSE | FALSE | FALSE | \n",
       "\n",
       "\n"
      ],
      "text/plain": [
       "   toxic severe_toxic obscene threat insult identity_hate\n",
       "1  FALSE FALSE        FALSE   FALSE  FALSE  FALSE        \n",
       "3  FALSE FALSE        FALSE   FALSE  FALSE  FALSE        \n",
       "8  FALSE FALSE        FALSE   FALSE  FALSE  FALSE        \n",
       "10 FALSE FALSE        FALSE   FALSE  FALSE  FALSE        \n",
       "12 FALSE FALSE        FALSE   FALSE  FALSE  FALSE        \n",
       "17 FALSE FALSE        FALSE   FALSE  FALSE  FALSE        "
      ]
     },
     "metadata": {},
     "output_type": "display_data"
    }
   ],
   "source": [
    "head(getPredictionResponse(pred))"
   ]
  },
  {
   "cell_type": "code",
   "execution_count": 72,
   "metadata": {},
   "outputs": [
    {
     "data": {
      "text/html": [
       "<table>\n",
       "<thead><tr><th></th><th scope=col>toxic</th><th scope=col>severe_toxic</th><th scope=col>obscene</th><th scope=col>threat</th><th scope=col>insult</th><th scope=col>identity_hate</th></tr></thead>\n",
       "<tbody>\n",
       "\t<tr><th scope=row>1</th><td>0.05674836 </td><td>0.01011051 </td><td>0.02020709 </td><td>0.002997639</td><td>0.02560293 </td><td>0.006143876</td></tr>\n",
       "\t<tr><th scope=row>3</th><td>0.05674836 </td><td>0.01011051 </td><td>0.02020709 </td><td>0.002997639</td><td>0.02560293 </td><td>0.006143876</td></tr>\n",
       "\t<tr><th scope=row>8</th><td>0.05674836 </td><td>0.01011051 </td><td>0.02020709 </td><td>0.002997639</td><td>0.02560293 </td><td>0.006143876</td></tr>\n",
       "\t<tr><th scope=row>10</th><td>0.05674836 </td><td>0.01011051 </td><td>0.02020709 </td><td>0.002997639</td><td>0.02560293 </td><td>0.006143876</td></tr>\n",
       "\t<tr><th scope=row>12</th><td>0.05674836 </td><td>0.01011051 </td><td>0.02020709 </td><td>0.002997639</td><td>0.02560293 </td><td>0.006143876</td></tr>\n",
       "\t<tr><th scope=row>17</th><td>0.05674836 </td><td>0.01011051 </td><td>0.02020709 </td><td>0.002997639</td><td>0.02560293 </td><td>0.006143876</td></tr>\n",
       "</tbody>\n",
       "</table>\n"
      ],
      "text/latex": [
       "\\begin{tabular}{r|llllll}\n",
       "  & toxic & severe\\_toxic & obscene & threat & insult & identity\\_hate\\\\\n",
       "\\hline\n",
       "\t1 & 0.05674836  & 0.01011051  & 0.02020709  & 0.002997639 & 0.02560293  & 0.006143876\\\\\n",
       "\t3 & 0.05674836  & 0.01011051  & 0.02020709  & 0.002997639 & 0.02560293  & 0.006143876\\\\\n",
       "\t8 & 0.05674836  & 0.01011051  & 0.02020709  & 0.002997639 & 0.02560293  & 0.006143876\\\\\n",
       "\t10 & 0.05674836  & 0.01011051  & 0.02020709  & 0.002997639 & 0.02560293  & 0.006143876\\\\\n",
       "\t12 & 0.05674836  & 0.01011051  & 0.02020709  & 0.002997639 & 0.02560293  & 0.006143876\\\\\n",
       "\t17 & 0.05674836  & 0.01011051  & 0.02020709  & 0.002997639 & 0.02560293  & 0.006143876\\\\\n",
       "\\end{tabular}\n"
      ],
      "text/markdown": [
       "\n",
       "| <!--/--> | toxic | severe_toxic | obscene | threat | insult | identity_hate | \n",
       "|---|---|---|---|---|---|\n",
       "| 1 | 0.05674836  | 0.01011051  | 0.02020709  | 0.002997639 | 0.02560293  | 0.006143876 | \n",
       "| 3 | 0.05674836  | 0.01011051  | 0.02020709  | 0.002997639 | 0.02560293  | 0.006143876 | \n",
       "| 8 | 0.05674836  | 0.01011051  | 0.02020709  | 0.002997639 | 0.02560293  | 0.006143876 | \n",
       "| 10 | 0.05674836  | 0.01011051  | 0.02020709  | 0.002997639 | 0.02560293  | 0.006143876 | \n",
       "| 12 | 0.05674836  | 0.01011051  | 0.02020709  | 0.002997639 | 0.02560293  | 0.006143876 | \n",
       "| 17 | 0.05674836  | 0.01011051  | 0.02020709  | 0.002997639 | 0.02560293  | 0.006143876 | \n",
       "\n",
       "\n"
      ],
      "text/plain": [
       "   toxic      severe_toxic obscene    threat      insult     identity_hate\n",
       "1  0.05674836 0.01011051   0.02020709 0.002997639 0.02560293 0.006143876  \n",
       "3  0.05674836 0.01011051   0.02020709 0.002997639 0.02560293 0.006143876  \n",
       "8  0.05674836 0.01011051   0.02020709 0.002997639 0.02560293 0.006143876  \n",
       "10 0.05674836 0.01011051   0.02020709 0.002997639 0.02560293 0.006143876  \n",
       "12 0.05674836 0.01011051   0.02020709 0.002997639 0.02560293 0.006143876  \n",
       "17 0.05674836 0.01011051   0.02020709 0.002997639 0.02560293 0.006143876  "
      ]
     },
     "metadata": {},
     "output_type": "display_data"
    }
   ],
   "source": [
    "head(getPredictionProbabilities(pred))"
   ]
  },
  {
   "cell_type": "code",
   "execution_count": 81,
   "metadata": {},
   "outputs": [
    {
     "data": {
      "text/html": [
       "<ol class=list-inline>\n",
       "\t<li>'id'</li>\n",
       "\t<li>'toxic'</li>\n",
       "\t<li>'severe_toxic'</li>\n",
       "\t<li>'obscene'</li>\n",
       "\t<li>'threat'</li>\n",
       "\t<li>'insult'</li>\n",
       "\t<li>'identity_hate'</li>\n",
       "\t<li>'fuck'</li>\n",
       "\t<li>'self'</li>\n",
       "\t<li>'your'</li>\n",
       "\t<li>'shit'</li>\n",
       "\t<li>'hate'</li>\n",
       "\t<li>'hell'</li>\n",
       "\t<li>'fat'</li>\n",
       "\t<li>'shut'</li>\n",
       "\t<li>'attack'</li>\n",
       "\t<li>'stupid'</li>\n",
       "\t<li>'moron'</li>\n",
       "\t<li>'dispute'</li>\n",
       "\t<li>'suck'</li>\n",
       "\t<li>'cock'</li>\n",
       "\t<li>'dick'</li>\n",
       "\t<li>'bitch'</li>\n",
       "\t<li>'free'</li>\n",
       "\t<li>'reliable'</li>\n",
       "\t<li>'fair'</li>\n",
       "\t<li>'support'</li>\n",
       "\t<li>'correct'</li>\n",
       "\t<li>'happy'</li>\n",
       "\t<li>'love'</li>\n",
       "\t<li>'pretty'</li>\n",
       "\t<li>'enjoy'</li>\n",
       "\t<li>'speed'</li>\n",
       "\t<li>'respect'</li>\n",
       "\t<li>'accurate'</li>\n",
       "\t<li>'help'</li>\n",
       "\t<li>'fine'</li>\n",
       "\t<li>'faith'</li>\n",
       "\t<li>'lead'</li>\n",
       "\t<li>'improve'</li>\n",
       "\t<li>'bleach'</li>\n",
       "\t<li>'hero'</li>\n",
       "\t<li>'sex'</li>\n",
       "\t<li>'nigger'</li>\n",
       "\t<li>'judah'</li>\n",
       "\t<li>'criminal'</li>\n",
       "\t<li>'war'</li>\n",
       "\t<li>'faggot'</li>\n",
       "\t<li>'drink'</li>\n",
       "\t<li>'die'</li>\n",
       "\t<li>'bunk'</li>\n",
       "\t<li>'troll'</li>\n",
       "\t<li>'super'</li>\n",
       "\t<li>'rab'</li>\n",
       "\t<li>'ass'</li>\n",
       "\t<li>'gay'</li>\n",
       "\t<li>'murder'</li>\n",
       "\t<li>'nl'</li>\n",
       "\t<li>'colonial'</li>\n",
       "\t<li>'occupation'</li>\n",
       "\t<li>'arab'</li>\n",
       "\t<li>'jew'</li>\n",
       "\t<li>'ers'</li>\n",
       "\t<li>'kill'</li>\n",
       "\t<li>'moth'</li>\n",
       "\t<li>'jerk'</li>\n",
       "\t<li>'edit'</li>\n",
       "\t<li>'make'</li>\n",
       "\t<li>'page'</li>\n",
       "\t<li>'please'</li>\n",
       "\t<li>'remove'</li>\n",
       "\t<li>'talk'</li>\n",
       "\t<li>'thank'</li>\n",
       "\t<li>'article'</li>\n",
       "\t<li>'good'</li>\n",
       "\t<li>'one'</li>\n",
       "\t<li>'think'</li>\n",
       "\t<li>'wikipedia'</li>\n",
       "\t<li>'work'</li>\n",
       "\t<li>'like'</li>\n",
       "\t<li>'conjurer'</li>\n",
       "\t<li>'source'</li>\n",
       "\t<li>'time'</li>\n",
       "\t<li>'people'</li>\n",
       "</ol>\n"
      ],
      "text/latex": [
       "\\begin{enumerate*}\n",
       "\\item 'id'\n",
       "\\item 'toxic'\n",
       "\\item 'severe\\_toxic'\n",
       "\\item 'obscene'\n",
       "\\item 'threat'\n",
       "\\item 'insult'\n",
       "\\item 'identity\\_hate'\n",
       "\\item 'fuck'\n",
       "\\item 'self'\n",
       "\\item 'your'\n",
       "\\item 'shit'\n",
       "\\item 'hate'\n",
       "\\item 'hell'\n",
       "\\item 'fat'\n",
       "\\item 'shut'\n",
       "\\item 'attack'\n",
       "\\item 'stupid'\n",
       "\\item 'moron'\n",
       "\\item 'dispute'\n",
       "\\item 'suck'\n",
       "\\item 'cock'\n",
       "\\item 'dick'\n",
       "\\item 'bitch'\n",
       "\\item 'free'\n",
       "\\item 'reliable'\n",
       "\\item 'fair'\n",
       "\\item 'support'\n",
       "\\item 'correct'\n",
       "\\item 'happy'\n",
       "\\item 'love'\n",
       "\\item 'pretty'\n",
       "\\item 'enjoy'\n",
       "\\item 'speed'\n",
       "\\item 'respect'\n",
       "\\item 'accurate'\n",
       "\\item 'help'\n",
       "\\item 'fine'\n",
       "\\item 'faith'\n",
       "\\item 'lead'\n",
       "\\item 'improve'\n",
       "\\item 'bleach'\n",
       "\\item 'hero'\n",
       "\\item 'sex'\n",
       "\\item 'nigger'\n",
       "\\item 'judah'\n",
       "\\item 'criminal'\n",
       "\\item 'war'\n",
       "\\item 'faggot'\n",
       "\\item 'drink'\n",
       "\\item 'die'\n",
       "\\item 'bunk'\n",
       "\\item 'troll'\n",
       "\\item 'super'\n",
       "\\item 'rab'\n",
       "\\item 'ass'\n",
       "\\item 'gay'\n",
       "\\item 'murder'\n",
       "\\item 'nl'\n",
       "\\item 'colonial'\n",
       "\\item 'occupation'\n",
       "\\item 'arab'\n",
       "\\item 'jew'\n",
       "\\item 'ers'\n",
       "\\item 'kill'\n",
       "\\item 'moth'\n",
       "\\item 'jerk'\n",
       "\\item 'edit'\n",
       "\\item 'make'\n",
       "\\item 'page'\n",
       "\\item 'please'\n",
       "\\item 'remove'\n",
       "\\item 'talk'\n",
       "\\item 'thank'\n",
       "\\item 'article'\n",
       "\\item 'good'\n",
       "\\item 'one'\n",
       "\\item 'think'\n",
       "\\item 'wikipedia'\n",
       "\\item 'work'\n",
       "\\item 'like'\n",
       "\\item 'conjurer'\n",
       "\\item 'source'\n",
       "\\item 'time'\n",
       "\\item 'people'\n",
       "\\end{enumerate*}\n"
      ],
      "text/markdown": [
       "1. 'id'\n",
       "2. 'toxic'\n",
       "3. 'severe_toxic'\n",
       "4. 'obscene'\n",
       "5. 'threat'\n",
       "6. 'insult'\n",
       "7. 'identity_hate'\n",
       "8. 'fuck'\n",
       "9. 'self'\n",
       "10. 'your'\n",
       "11. 'shit'\n",
       "12. 'hate'\n",
       "13. 'hell'\n",
       "14. 'fat'\n",
       "15. 'shut'\n",
       "16. 'attack'\n",
       "17. 'stupid'\n",
       "18. 'moron'\n",
       "19. 'dispute'\n",
       "20. 'suck'\n",
       "21. 'cock'\n",
       "22. 'dick'\n",
       "23. 'bitch'\n",
       "24. 'free'\n",
       "25. 'reliable'\n",
       "26. 'fair'\n",
       "27. 'support'\n",
       "28. 'correct'\n",
       "29. 'happy'\n",
       "30. 'love'\n",
       "31. 'pretty'\n",
       "32. 'enjoy'\n",
       "33. 'speed'\n",
       "34. 'respect'\n",
       "35. 'accurate'\n",
       "36. 'help'\n",
       "37. 'fine'\n",
       "38. 'faith'\n",
       "39. 'lead'\n",
       "40. 'improve'\n",
       "41. 'bleach'\n",
       "42. 'hero'\n",
       "43. 'sex'\n",
       "44. 'nigger'\n",
       "45. 'judah'\n",
       "46. 'criminal'\n",
       "47. 'war'\n",
       "48. 'faggot'\n",
       "49. 'drink'\n",
       "50. 'die'\n",
       "51. 'bunk'\n",
       "52. 'troll'\n",
       "53. 'super'\n",
       "54. 'rab'\n",
       "55. 'ass'\n",
       "56. 'gay'\n",
       "57. 'murder'\n",
       "58. 'nl'\n",
       "59. 'colonial'\n",
       "60. 'occupation'\n",
       "61. 'arab'\n",
       "62. 'jew'\n",
       "63. 'ers'\n",
       "64. 'kill'\n",
       "65. 'moth'\n",
       "66. 'jerk'\n",
       "67. 'edit'\n",
       "68. 'make'\n",
       "69. 'page'\n",
       "70. 'please'\n",
       "71. 'remove'\n",
       "72. 'talk'\n",
       "73. 'thank'\n",
       "74. 'article'\n",
       "75. 'good'\n",
       "76. 'one'\n",
       "77. 'think'\n",
       "78. 'wikipedia'\n",
       "79. 'work'\n",
       "80. 'like'\n",
       "81. 'conjurer'\n",
       "82. 'source'\n",
       "83. 'time'\n",
       "84. 'people'\n",
       "\n",
       "\n"
      ],
      "text/plain": [
       " [1] \"id\"            \"toxic\"         \"severe_toxic\"  \"obscene\"      \n",
       " [5] \"threat\"        \"insult\"        \"identity_hate\" \"fuck\"         \n",
       " [9] \"self\"          \"your\"          \"shit\"          \"hate\"         \n",
       "[13] \"hell\"          \"fat\"           \"shut\"          \"attack\"       \n",
       "[17] \"stupid\"        \"moron\"         \"dispute\"       \"suck\"         \n",
       "[21] \"cock\"          \"dick\"          \"bitch\"         \"free\"         \n",
       "[25] \"reliable\"      \"fair\"          \"support\"       \"correct\"      \n",
       "[29] \"happy\"         \"love\"          \"pretty\"        \"enjoy\"        \n",
       "[33] \"speed\"         \"respect\"       \"accurate\"      \"help\"         \n",
       "[37] \"fine\"          \"faith\"         \"lead\"          \"improve\"      \n",
       "[41] \"bleach\"        \"hero\"          \"sex\"           \"nigger\"       \n",
       "[45] \"judah\"         \"criminal\"      \"war\"           \"faggot\"       \n",
       "[49] \"drink\"         \"die\"           \"bunk\"          \"troll\"        \n",
       "[53] \"super\"         \"rab\"           \"ass\"           \"gay\"          \n",
       "[57] \"murder\"        \"nl\"            \"colonial\"      \"occupation\"   \n",
       "[61] \"arab\"          \"jew\"           \"ers\"           \"kill\"         \n",
       "[65] \"moth\"          \"jerk\"          \"edit\"          \"make\"         \n",
       "[69] \"page\"          \"please\"        \"remove\"        \"talk\"         \n",
       "[73] \"thank\"         \"article\"       \"good\"          \"one\"          \n",
       "[77] \"think\"         \"wikipedia\"     \"work\"          \"like\"         \n",
       "[81] \"conjurer\"      \"source\"        \"time\"          \"people\"       "
      ]
     },
     "metadata": {},
     "output_type": "display_data"
    }
   ],
   "source": [
    "names(test_x)"
   ]
  },
  {
   "cell_type": "code",
   "execution_count": null,
   "metadata": {},
   "outputs": [],
   "source": [
    "test_xact = subset(test_x, select = -c(1:7))"
   ]
  },
  {
   "cell_type": "code",
   "execution_count": 80,
   "metadata": {},
   "outputs": [],
   "source": [
    "#prediction on actual test data\n",
    "predcomment = predict(mod, newdata = test_xact)"
   ]
  },
  {
   "cell_type": "code",
   "execution_count": 82,
   "metadata": {},
   "outputs": [
    {
     "data": {
      "text/html": [
       "<table>\n",
       "<thead><tr><th></th><th scope=col>toxic</th><th scope=col>severe_toxic</th><th scope=col>obscene</th><th scope=col>threat</th><th scope=col>insult</th><th scope=col>identity_hate</th></tr></thead>\n",
       "<tbody>\n",
       "\t<tr><th scope=row>159572</th><td> TRUE</td><td>FALSE</td><td> TRUE</td><td>FALSE</td><td> TRUE</td><td>FALSE</td></tr>\n",
       "\t<tr><th scope=row>159573</th><td>FALSE</td><td>FALSE</td><td>FALSE</td><td>FALSE</td><td>FALSE</td><td>FALSE</td></tr>\n",
       "\t<tr><th scope=row>159574</th><td>FALSE</td><td>FALSE</td><td>FALSE</td><td>FALSE</td><td>FALSE</td><td>FALSE</td></tr>\n",
       "\t<tr><th scope=row>159575</th><td>FALSE</td><td>FALSE</td><td>FALSE</td><td>FALSE</td><td>FALSE</td><td>FALSE</td></tr>\n",
       "\t<tr><th scope=row>159576</th><td>FALSE</td><td>FALSE</td><td>FALSE</td><td>FALSE</td><td>FALSE</td><td>FALSE</td></tr>\n",
       "\t<tr><th scope=row>159577</th><td>FALSE</td><td>FALSE</td><td>FALSE</td><td>FALSE</td><td>FALSE</td><td>FALSE</td></tr>\n",
       "</tbody>\n",
       "</table>\n"
      ],
      "text/latex": [
       "\\begin{tabular}{r|llllll}\n",
       "  & toxic & severe\\_toxic & obscene & threat & insult & identity\\_hate\\\\\n",
       "\\hline\n",
       "\t159572 &  TRUE & FALSE &  TRUE & FALSE &  TRUE & FALSE\\\\\n",
       "\t159573 & FALSE & FALSE & FALSE & FALSE & FALSE & FALSE\\\\\n",
       "\t159574 & FALSE & FALSE & FALSE & FALSE & FALSE & FALSE\\\\\n",
       "\t159575 & FALSE & FALSE & FALSE & FALSE & FALSE & FALSE\\\\\n",
       "\t159576 & FALSE & FALSE & FALSE & FALSE & FALSE & FALSE\\\\\n",
       "\t159577 & FALSE & FALSE & FALSE & FALSE & FALSE & FALSE\\\\\n",
       "\\end{tabular}\n"
      ],
      "text/markdown": [
       "\n",
       "| <!--/--> | toxic | severe_toxic | obscene | threat | insult | identity_hate | \n",
       "|---|---|---|---|---|---|\n",
       "| 159572 |  TRUE | FALSE |  TRUE | FALSE |  TRUE | FALSE | \n",
       "| 159573 | FALSE | FALSE | FALSE | FALSE | FALSE | FALSE | \n",
       "| 159574 | FALSE | FALSE | FALSE | FALSE | FALSE | FALSE | \n",
       "| 159575 | FALSE | FALSE | FALSE | FALSE | FALSE | FALSE | \n",
       "| 159576 | FALSE | FALSE | FALSE | FALSE | FALSE | FALSE | \n",
       "| 159577 | FALSE | FALSE | FALSE | FALSE | FALSE | FALSE | \n",
       "\n",
       "\n"
      ],
      "text/plain": [
       "       toxic severe_toxic obscene threat insult identity_hate\n",
       "159572  TRUE FALSE         TRUE   FALSE   TRUE  FALSE        \n",
       "159573 FALSE FALSE        FALSE   FALSE  FALSE  FALSE        \n",
       "159574 FALSE FALSE        FALSE   FALSE  FALSE  FALSE        \n",
       "159575 FALSE FALSE        FALSE   FALSE  FALSE  FALSE        \n",
       "159576 FALSE FALSE        FALSE   FALSE  FALSE  FALSE        \n",
       "159577 FALSE FALSE        FALSE   FALSE  FALSE  FALSE        "
      ]
     },
     "metadata": {},
     "output_type": "display_data"
    }
   ],
   "source": [
    "head(getPredictionResponse(predcomment))"
   ]
  },
  {
   "cell_type": "markdown",
   "metadata": {},
   "source": [
    "A small rough work, let's see the first few texts in our test set and see if our model has predicted those accuarately.\n",
    "From below we can see that the text is toxic with obscene but is that a insult too?\n",
    "\n",
    "Making a second glance clearly it has some words which might hurt the feelings of someone, so it's cearly an insult too!! and for all these our model ha predicted 'TRUE'."
   ]
  },
  {
   "cell_type": "code",
   "execution_count": 85,
   "metadata": {},
   "outputs": [
    {
     "data": {
      "text/html": [
       "'Yo bitch Ja Rule is more succesful then you\\'ll ever be whats up with you and hating you sad mofuckas...i should bitch slap ur pethedic white faces and get you to kiss my ass you guys sicken me. Ja rule is about pride in da music man. dont diss that shit on him. and nothin is wrong bein like tupac he was a brother too...fuckin white boys get things right next time.,'"
      ],
      "text/latex": [
       "'Yo bitch Ja Rule is more succesful then you\\textbackslash{}'ll ever be whats up with you and hating you sad mofuckas...i should bitch slap ur pethedic white faces and get you to kiss my ass you guys sicken me. Ja rule is about pride in da music man. dont diss that shit on him. and nothin is wrong bein like tupac he was a brother too...fuckin white boys get things right next time.,'"
      ],
      "text/markdown": [
       "'Yo bitch Ja Rule is more succesful then you\\'ll ever be whats up with you and hating you sad mofuckas...i should bitch slap ur pethedic white faces and get you to kiss my ass you guys sicken me. Ja rule is about pride in da music man. dont diss that shit on him. and nothin is wrong bein like tupac he was a brother too...fuckin white boys get things right next time.,'"
      ],
      "text/plain": [
       "[1] \"Yo bitch Ja Rule is more succesful then you'll ever be whats up with you and hating you sad mofuckas...i should bitch slap ur pethedic white faces and get you to kiss my ass you guys sicken me. Ja rule is about pride in da music man. dont diss that shit on him. and nothin is wrong bein like tupac he was a brother too...fuckin white boys get things right next time.,\""
      ]
     },
     "metadata": {},
     "output_type": "display_data"
    }
   ],
   "source": [
    "head(test$comment_text,1)"
   ]
  },
  {
   "cell_type": "code",
   "execution_count": 86,
   "metadata": {},
   "outputs": [],
   "source": [
    "fncommentresultdf <- as.data.frame(getPredictionResponse(predcomment))"
   ]
  },
  {
   "cell_type": "code",
   "execution_count": 89,
   "metadata": {},
   "outputs": [
    {
     "data": {
      "text/plain": [
       "\n",
       " FALSE   TRUE \n",
       "133381  19783 "
      ]
     },
     "metadata": {},
     "output_type": "display_data"
    }
   ],
   "source": [
    "table(fncommentresultdf$toxic)"
   ]
  },
  {
   "cell_type": "code",
   "execution_count": 92,
   "metadata": {},
   "outputs": [],
   "source": [
    "#convert the TRUE/FALSE to 1'S AND 0'S.\n",
    "fncommentresultdf$toxic <- ifelse(fncommentresultdf$toxic == 'TRUE',1,0)\n",
    "fncommentresultdf$severe_toxic <- ifelse(fncommentresultdf$severe_toxic == 'TRUE',1,0)\n",
    "fncommentresultdf$obscene <- ifelse(fncommentresultdf$obscene == 'TRUE',1,0)\n",
    "fncommentresultdf$threat <- ifelse(fncommentresultdf$threat == 'TRUE',1,0)\n",
    "fncommentresultdf$insult <- ifelse(fncommentresultdf$insult == 'TRUE',1,0)\n",
    "fncommentresultdf$identity_hate <- ifelse(fncommentresultdf$identity_hate == 'TRUE',1,0)"
   ]
  },
  {
   "cell_type": "code",
   "execution_count": 95,
   "metadata": {},
   "outputs": [],
   "source": [
    "#bind the output with the test id\n",
    "fn.commentsubmission <- cbind(test$id,fncommentresultdf)"
   ]
  },
  {
   "cell_type": "code",
   "execution_count": 96,
   "metadata": {},
   "outputs": [
    {
     "data": {
      "text/html": [
       "<table>\n",
       "<thead><tr><th></th><th scope=col>test$id</th><th scope=col>toxic</th><th scope=col>severe_toxic</th><th scope=col>obscene</th><th scope=col>threat</th><th scope=col>insult</th><th scope=col>identity_hate</th></tr></thead>\n",
       "<tbody>\n",
       "\t<tr><th scope=row>159572</th><td>00001cee341fdb12</td><td>1               </td><td>0               </td><td>1               </td><td>0               </td><td>1               </td><td>0               </td></tr>\n",
       "\t<tr><th scope=row>159573</th><td>0000247867823ef7</td><td>0               </td><td>0               </td><td>0               </td><td>0               </td><td>0               </td><td>0               </td></tr>\n",
       "\t<tr><th scope=row>159574</th><td>00013b17ad220c46</td><td>0               </td><td>0               </td><td>0               </td><td>0               </td><td>0               </td><td>0               </td></tr>\n",
       "\t<tr><th scope=row>159575</th><td>00017563c3f7919a</td><td>0               </td><td>0               </td><td>0               </td><td>0               </td><td>0               </td><td>0               </td></tr>\n",
       "\t<tr><th scope=row>159576</th><td>00017695ad8997eb</td><td>0               </td><td>0               </td><td>0               </td><td>0               </td><td>0               </td><td>0               </td></tr>\n",
       "\t<tr><th scope=row>159577</th><td>0001ea8717f6de06</td><td>0               </td><td>0               </td><td>0               </td><td>0               </td><td>0               </td><td>0               </td></tr>\n",
       "</tbody>\n",
       "</table>\n"
      ],
      "text/latex": [
       "\\begin{tabular}{r|lllllll}\n",
       "  & test\\$id & toxic & severe\\_toxic & obscene & threat & insult & identity\\_hate\\\\\n",
       "\\hline\n",
       "\t159572 & 00001cee341fdb12 & 1                & 0                & 1                & 0                & 1                & 0               \\\\\n",
       "\t159573 & 0000247867823ef7 & 0                & 0                & 0                & 0                & 0                & 0               \\\\\n",
       "\t159574 & 00013b17ad220c46 & 0                & 0                & 0                & 0                & 0                & 0               \\\\\n",
       "\t159575 & 00017563c3f7919a & 0                & 0                & 0                & 0                & 0                & 0               \\\\\n",
       "\t159576 & 00017695ad8997eb & 0                & 0                & 0                & 0                & 0                & 0               \\\\\n",
       "\t159577 & 0001ea8717f6de06 & 0                & 0                & 0                & 0                & 0                & 0               \\\\\n",
       "\\end{tabular}\n"
      ],
      "text/markdown": [
       "\n",
       "| <!--/--> | test$id | toxic | severe_toxic | obscene | threat | insult | identity_hate | \n",
       "|---|---|---|---|---|---|\n",
       "| 159572 | 00001cee341fdb12 | 1                | 0                | 1                | 0                | 1                | 0                | \n",
       "| 159573 | 0000247867823ef7 | 0                | 0                | 0                | 0                | 0                | 0                | \n",
       "| 159574 | 00013b17ad220c46 | 0                | 0                | 0                | 0                | 0                | 0                | \n",
       "| 159575 | 00017563c3f7919a | 0                | 0                | 0                | 0                | 0                | 0                | \n",
       "| 159576 | 00017695ad8997eb | 0                | 0                | 0                | 0                | 0                | 0                | \n",
       "| 159577 | 0001ea8717f6de06 | 0                | 0                | 0                | 0                | 0                | 0                | \n",
       "\n",
       "\n"
      ],
      "text/plain": [
       "       test$id          toxic severe_toxic obscene threat insult identity_hate\n",
       "159572 00001cee341fdb12 1     0            1       0      1      0            \n",
       "159573 0000247867823ef7 0     0            0       0      0      0            \n",
       "159574 00013b17ad220c46 0     0            0       0      0      0            \n",
       "159575 00017563c3f7919a 0     0            0       0      0      0            \n",
       "159576 00017695ad8997eb 0     0            0       0      0      0            \n",
       "159577 0001ea8717f6de06 0     0            0       0      0      0            "
      ]
     },
     "metadata": {},
     "output_type": "display_data"
    }
   ],
   "source": [
    "head(fn.commentsubmission)"
   ]
  },
  {
   "cell_type": "code",
   "execution_count": 99,
   "metadata": {},
   "outputs": [],
   "source": [
    "names(fn.commentsubmission)[1] <- 'id'"
   ]
  },
  {
   "cell_type": "code",
   "execution_count": 114,
   "metadata": {},
   "outputs": [],
   "source": [
    "#write the output submission file to csv\n",
    "write.csv(fn.commentsubmission, file = 'finalcommetsubmission.csv')"
   ]
  },
  {
   "cell_type": "code",
   "execution_count": null,
   "metadata": {},
   "outputs": [],
   "source": []
  }
 ],
 "metadata": {
  "kernelspec": {
   "display_name": "R",
   "language": "R",
   "name": "ir"
  },
  "language_info": {
   "codemirror_mode": "r",
   "file_extension": ".r",
   "mimetype": "text/x-r-source",
   "name": "R",
   "pygments_lexer": "r",
   "version": "3.4.3"
  }
 },
 "nbformat": 4,
 "nbformat_minor": 2
}
